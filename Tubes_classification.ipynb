{
  "nbformat": 4,
  "nbformat_minor": 0,
  "metadata": {
    "colab": {
      "name": "Tubes_classification.ipynb",
      "provenance": [],
      "collapsed_sections": [
        "79SHDOcENAdu"
      ],
      "include_colab_link": true
    },
    "kernelspec": {
      "name": "python3",
      "display_name": "Python 3"
    }
  },
  "cells": [
    {
      "cell_type": "markdown",
      "metadata": {
        "id": "view-in-github",
        "colab_type": "text"
      },
      "source": [
        "<a href=\"https://colab.research.google.com/github/Meidyt/TubesDA/blob/main/Tubes_classification.ipynb\" target=\"_parent\"><img src=\"https://colab.research.google.com/assets/colab-badge.svg\" alt=\"Open In Colab\"/></a>"
      ]
    },
    {
      "cell_type": "markdown",
      "metadata": {
        "id": "6XeGssmoPneU"
      },
      "source": [
        "# CLASSIFICATION"
      ]
    },
    {
      "cell_type": "markdown",
      "metadata": {
        "id": "3fAKR-zPJD8d"
      },
      "source": [
        "Pada model kali ini digunakan suatu model dengan cross validation 3. Cross validation ini akan membagi data menjadi beberapa bagian. "
      ]
    },
    {
      "cell_type": "markdown",
      "metadata": {
        "id": "79SHDOcENAdu"
      },
      "source": [
        "## Import Libraries"
      ]
    },
    {
      "cell_type": "code",
      "metadata": {
        "id": "oOCDQAoVro9R"
      },
      "source": [
        "import os\r\n",
        "import sys\r\n",
        "\r\n",
        "import pandas as pd\r\n",
        "import numpy as np\r\n",
        "\r\n",
        "import seaborn as sns\r\n",
        "import matplotlib.pyplot as plt\r\n",
        "%matplotlib inline\r\n",
        "\r\n",
        "from sklearn.metrics import classification_report, f1_score, accuracy_score,\\\r\n",
        "                            confusion_matrix\r\n",
        "                          \r\n",
        "\r\n"
      ],
      "execution_count": null,
      "outputs": []
    },
    {
      "cell_type": "code",
      "metadata": {
        "colab": {
          "base_uri": "https://localhost:8080/",
          "height": 223
        },
        "id": "p8BB2F7wr31o",
        "outputId": "9864e9f8-11f0-40c8-c971-fd90e0336985"
      },
      "source": [
        "df = pd.read_csv('https://raw.githubusercontent.com/Meidyt/TubesDA/main/Dataset.csv', sep = ',')\r\n",
        "df\r\n",
        "df.head()"
      ],
      "execution_count": null,
      "outputs": [
        {
          "output_type": "execute_result",
          "data": {
            "text/html": [
              "<div>\n",
              "<style scoped>\n",
              "    .dataframe tbody tr th:only-of-type {\n",
              "        vertical-align: middle;\n",
              "    }\n",
              "\n",
              "    .dataframe tbody tr th {\n",
              "        vertical-align: top;\n",
              "    }\n",
              "\n",
              "    .dataframe thead th {\n",
              "        text-align: right;\n",
              "    }\n",
              "</style>\n",
              "<table border=\"1\" class=\"dataframe\">\n",
              "  <thead>\n",
              "    <tr style=\"text-align: right;\">\n",
              "      <th></th>\n",
              "      <th>ID</th>\n",
              "      <th>Usia</th>\n",
              "      <th>Melahirkan ke-</th>\n",
              "      <th>Waktu Melahirkan</th>\n",
              "      <th>Tekanan Darah</th>\n",
              "      <th>Gangguan Jantung</th>\n",
              "      <th>Melahirkan Normal</th>\n",
              "    </tr>\n",
              "  </thead>\n",
              "  <tbody>\n",
              "    <tr>\n",
              "      <th>0</th>\n",
              "      <td>1</td>\n",
              "      <td>22</td>\n",
              "      <td>1</td>\n",
              "      <td>0</td>\n",
              "      <td>2</td>\n",
              "      <td>0</td>\n",
              "      <td>1</td>\n",
              "    </tr>\n",
              "    <tr>\n",
              "      <th>1</th>\n",
              "      <td>2</td>\n",
              "      <td>26</td>\n",
              "      <td>2</td>\n",
              "      <td>0</td>\n",
              "      <td>1</td>\n",
              "      <td>0</td>\n",
              "      <td>0</td>\n",
              "    </tr>\n",
              "    <tr>\n",
              "      <th>2</th>\n",
              "      <td>3</td>\n",
              "      <td>26</td>\n",
              "      <td>2</td>\n",
              "      <td>1</td>\n",
              "      <td>1</td>\n",
              "      <td>0</td>\n",
              "      <td>1</td>\n",
              "    </tr>\n",
              "    <tr>\n",
              "      <th>3</th>\n",
              "      <td>4</td>\n",
              "      <td>28</td>\n",
              "      <td>1</td>\n",
              "      <td>0</td>\n",
              "      <td>2</td>\n",
              "      <td>0</td>\n",
              "      <td>1</td>\n",
              "    </tr>\n",
              "    <tr>\n",
              "      <th>4</th>\n",
              "      <td>5</td>\n",
              "      <td>22</td>\n",
              "      <td>2</td>\n",
              "      <td>0</td>\n",
              "      <td>1</td>\n",
              "      <td>0</td>\n",
              "      <td>0</td>\n",
              "    </tr>\n",
              "  </tbody>\n",
              "</table>\n",
              "</div>"
            ],
            "text/plain": [
              "   ID  Usia  Melahirkan ke-  ...  Tekanan Darah  Gangguan Jantung  Melahirkan Normal\n",
              "0   1    22               1  ...              2                 0                  1\n",
              "1   2    26               2  ...              1                 0                  0\n",
              "2   3    26               2  ...              1                 0                  1\n",
              "3   4    28               1  ...              2                 0                  1\n",
              "4   5    22               2  ...              1                 0                  0\n",
              "\n",
              "[5 rows x 7 columns]"
            ]
          },
          "metadata": {
            "tags": []
          },
          "execution_count": 3
        }
      ]
    },
    {
      "cell_type": "markdown",
      "metadata": {
        "id": "z4dV4No0NFEp"
      },
      "source": [
        "## Data Preprocessing"
      ]
    },
    {
      "cell_type": "code",
      "metadata": {
        "colab": {
          "base_uri": "https://localhost:8080/"
        },
        "id": "ZpBLdX4F1QIZ",
        "outputId": "8004bad5-82b4-4d6b-a21b-f21f78590f75"
      },
      "source": [
        "df.shape"
      ],
      "execution_count": null,
      "outputs": [
        {
          "output_type": "execute_result",
          "data": {
            "text/plain": [
              "(80, 7)"
            ]
          },
          "metadata": {
            "tags": []
          },
          "execution_count": 4
        }
      ]
    },
    {
      "cell_type": "code",
      "metadata": {
        "colab": {
          "base_uri": "https://localhost:8080/"
        },
        "id": "3x1e81sn1YIy",
        "outputId": "8e5b37bc-e882-40de-8b61-09cef32c2830"
      },
      "source": [
        "df.info()"
      ],
      "execution_count": null,
      "outputs": [
        {
          "output_type": "stream",
          "text": [
            "<class 'pandas.core.frame.DataFrame'>\n",
            "RangeIndex: 80 entries, 0 to 79\n",
            "Data columns (total 7 columns):\n",
            " #   Column             Non-Null Count  Dtype\n",
            "---  ------             --------------  -----\n",
            " 0   ID                 80 non-null     int64\n",
            " 1   Usia               80 non-null     int64\n",
            " 2   Melahirkan ke-     80 non-null     int64\n",
            " 3   Waktu Melahirkan   80 non-null     int64\n",
            " 4   Tekanan Darah      80 non-null     int64\n",
            " 5   Gangguan Jantung   80 non-null     int64\n",
            " 6   Melahirkan Normal  80 non-null     int64\n",
            "dtypes: int64(7)\n",
            "memory usage: 4.5 KB\n"
          ],
          "name": "stdout"
        }
      ]
    },
    {
      "cell_type": "code",
      "metadata": {
        "colab": {
          "base_uri": "https://localhost:8080/",
          "height": 318
        },
        "id": "s43e2Pyg1cOI",
        "outputId": "d446166f-e8eb-48a9-9c67-750223212dde"
      },
      "source": [
        "df.describe()"
      ],
      "execution_count": null,
      "outputs": [
        {
          "output_type": "execute_result",
          "data": {
            "text/html": [
              "<div>\n",
              "<style scoped>\n",
              "    .dataframe tbody tr th:only-of-type {\n",
              "        vertical-align: middle;\n",
              "    }\n",
              "\n",
              "    .dataframe tbody tr th {\n",
              "        vertical-align: top;\n",
              "    }\n",
              "\n",
              "    .dataframe thead th {\n",
              "        text-align: right;\n",
              "    }\n",
              "</style>\n",
              "<table border=\"1\" class=\"dataframe\">\n",
              "  <thead>\n",
              "    <tr style=\"text-align: right;\">\n",
              "      <th></th>\n",
              "      <th>ID</th>\n",
              "      <th>Usia</th>\n",
              "      <th>Melahirkan ke-</th>\n",
              "      <th>Waktu Melahirkan</th>\n",
              "      <th>Tekanan Darah</th>\n",
              "      <th>Gangguan Jantung</th>\n",
              "      <th>Melahirkan Normal</th>\n",
              "    </tr>\n",
              "  </thead>\n",
              "  <tbody>\n",
              "    <tr>\n",
              "      <th>count</th>\n",
              "      <td>80.0000</td>\n",
              "      <td>80.000000</td>\n",
              "      <td>80.000000</td>\n",
              "      <td>80.000000</td>\n",
              "      <td>80.000000</td>\n",
              "      <td>80.000000</td>\n",
              "      <td>80.000000</td>\n",
              "    </tr>\n",
              "    <tr>\n",
              "      <th>mean</th>\n",
              "      <td>40.5000</td>\n",
              "      <td>27.687500</td>\n",
              "      <td>1.662500</td>\n",
              "      <td>0.637500</td>\n",
              "      <td>1.000000</td>\n",
              "      <td>0.375000</td>\n",
              "      <td>0.425000</td>\n",
              "    </tr>\n",
              "    <tr>\n",
              "      <th>std</th>\n",
              "      <td>23.2379</td>\n",
              "      <td>5.017927</td>\n",
              "      <td>0.794662</td>\n",
              "      <td>0.815107</td>\n",
              "      <td>0.711568</td>\n",
              "      <td>0.487177</td>\n",
              "      <td>0.497462</td>\n",
              "    </tr>\n",
              "    <tr>\n",
              "      <th>min</th>\n",
              "      <td>1.0000</td>\n",
              "      <td>17.000000</td>\n",
              "      <td>1.000000</td>\n",
              "      <td>0.000000</td>\n",
              "      <td>0.000000</td>\n",
              "      <td>0.000000</td>\n",
              "      <td>0.000000</td>\n",
              "    </tr>\n",
              "    <tr>\n",
              "      <th>25%</th>\n",
              "      <td>20.7500</td>\n",
              "      <td>25.000000</td>\n",
              "      <td>1.000000</td>\n",
              "      <td>0.000000</td>\n",
              "      <td>0.750000</td>\n",
              "      <td>0.000000</td>\n",
              "      <td>0.000000</td>\n",
              "    </tr>\n",
              "    <tr>\n",
              "      <th>50%</th>\n",
              "      <td>40.5000</td>\n",
              "      <td>27.000000</td>\n",
              "      <td>1.000000</td>\n",
              "      <td>0.000000</td>\n",
              "      <td>1.000000</td>\n",
              "      <td>0.000000</td>\n",
              "      <td>0.000000</td>\n",
              "    </tr>\n",
              "    <tr>\n",
              "      <th>75%</th>\n",
              "      <td>60.2500</td>\n",
              "      <td>32.000000</td>\n",
              "      <td>2.000000</td>\n",
              "      <td>1.000000</td>\n",
              "      <td>1.250000</td>\n",
              "      <td>1.000000</td>\n",
              "      <td>1.000000</td>\n",
              "    </tr>\n",
              "    <tr>\n",
              "      <th>max</th>\n",
              "      <td>80.0000</td>\n",
              "      <td>40.000000</td>\n",
              "      <td>4.000000</td>\n",
              "      <td>2.000000</td>\n",
              "      <td>2.000000</td>\n",
              "      <td>1.000000</td>\n",
              "      <td>1.000000</td>\n",
              "    </tr>\n",
              "  </tbody>\n",
              "</table>\n",
              "</div>"
            ],
            "text/plain": [
              "            ID       Usia  ...  Gangguan Jantung  Melahirkan Normal\n",
              "count  80.0000  80.000000  ...         80.000000          80.000000\n",
              "mean   40.5000  27.687500  ...          0.375000           0.425000\n",
              "std    23.2379   5.017927  ...          0.487177           0.497462\n",
              "min     1.0000  17.000000  ...          0.000000           0.000000\n",
              "25%    20.7500  25.000000  ...          0.000000           0.000000\n",
              "50%    40.5000  27.000000  ...          0.000000           0.000000\n",
              "75%    60.2500  32.000000  ...          1.000000           1.000000\n",
              "max    80.0000  40.000000  ...          1.000000           1.000000\n",
              "\n",
              "[8 rows x 7 columns]"
            ]
          },
          "metadata": {
            "tags": []
          },
          "execution_count": 6
        }
      ]
    },
    {
      "cell_type": "code",
      "metadata": {
        "colab": {
          "base_uri": "https://localhost:8080/"
        },
        "id": "EnCQug8u1nyU",
        "outputId": "e638e55b-fb1d-4810-d675-64f92c19aa24"
      },
      "source": [
        "df.isna().sum()"
      ],
      "execution_count": null,
      "outputs": [
        {
          "output_type": "execute_result",
          "data": {
            "text/plain": [
              "ID                   0\n",
              "Usia                 0\n",
              "Melahirkan ke-       0\n",
              "Waktu Melahirkan     0\n",
              "Tekanan Darah        0\n",
              "Gangguan Jantung     0\n",
              "Melahirkan Normal    0\n",
              "dtype: int64"
            ]
          },
          "metadata": {
            "tags": []
          },
          "execution_count": 7
        }
      ]
    },
    {
      "cell_type": "markdown",
      "metadata": {
        "id": "1R0YaI0pAEga"
      },
      "source": [
        "## EDA"
      ]
    },
    {
      "cell_type": "code",
      "metadata": {
        "colab": {
          "base_uri": "https://localhost:8080/",
          "height": 281
        },
        "id": "-rr_62md1tLq",
        "outputId": "8fc2a64f-3c96-4da0-85ea-1ef3d36a066f"
      },
      "source": [
        "eda = df['Melahirkan Normal'].value_counts()\r\n",
        "eda.plot.bar()"
      ],
      "execution_count": null,
      "outputs": [
        {
          "output_type": "execute_result",
          "data": {
            "text/plain": [
              "<matplotlib.axes._subplots.AxesSubplot at 0x7feb13a63c50>"
            ]
          },
          "metadata": {
            "tags": []
          },
          "execution_count": 8
        },
        {
          "output_type": "display_data",
          "data": {
            "image/png": "[encoded data removed]",
            "text/plain": [
              "<Figure size 432x288 with 1 Axes>"
            ]
          },
          "metadata": {
            "tags": [],
            "needs_background": "light"
          }
        }
      ]
    },
    {
      "cell_type": "code",
      "metadata": {
        "colab": {
          "base_uri": "https://localhost:8080/",
          "height": 298
        },
        "id": "HBHW0odF12XW",
        "outputId": "9b9d08de-0d26-42f0-cb83-c1c9ebe99685"
      },
      "source": [
        "eda = df[['Usia', 'Melahirkan Normal']]\r\n",
        "sns.boxplot(x=\"Melahirkan Normal\", y=\"Usia\", data=eda)"
      ],
      "execution_count": null,
      "outputs": [
        {
          "output_type": "execute_result",
          "data": {
            "text/plain": [
              "<matplotlib.axes._subplots.AxesSubplot at 0x7feb13991748>"
            ]
          },
          "metadata": {
            "tags": []
          },
          "execution_count": 9
        },
        {
          "output_type": "display_data",
          "data": {
            "image/png": "[encoded data removed]",
            "text/plain": [
              "<Figure size 432x288 with 1 Axes>"
            ]
          },
          "metadata": {
            "tags": [],
            "needs_background": "light"
          }
        }
      ]
    },
    {
      "cell_type": "code",
      "metadata": {
        "colab": {
          "base_uri": "https://localhost:8080/",
          "height": 298
        },
        "id": "pfi7z-Qw2FDt",
        "outputId": "fc5c9d7c-fb83-4409-efc9-f92231df523d"
      },
      "source": [
        "eda = df[['Melahirkan ke-', 'Melahirkan Normal']]\r\n",
        "sns.boxplot(x=\"Melahirkan Normal\", y=\"Melahirkan ke-\", data=eda)"
      ],
      "execution_count": null,
      "outputs": [
        {
          "output_type": "execute_result",
          "data": {
            "text/plain": [
              "<matplotlib.axes._subplots.AxesSubplot at 0x7feb134bdef0>"
            ]
          },
          "metadata": {
            "tags": []
          },
          "execution_count": 10
        },
        {
          "output_type": "display_data",
          "data": {
            "image/png": "[encoded data removed]",
            "text/plain": [
              "<Figure size 432x288 with 1 Axes>"
            ]
          },
          "metadata": {
            "tags": [],
            "needs_background": "light"
          }
        }
      ]
    },
    {
      "cell_type": "code",
      "metadata": {
        "colab": {
          "base_uri": "https://localhost:8080/",
          "height": 295
        },
        "id": "92mbjZty2NpT",
        "outputId": "035fd47e-d704-46f5-b481-174a93fbc76b"
      },
      "source": [
        "eda = df[['Melahirkan Normal','Waktu Melahirkan']]\r\n",
        "eda = pd.crosstab(eda['Waktu Melahirkan'], eda['Melahirkan Normal'])\r\n",
        "eda.plot.bar(stacked=False)"
      ],
      "execution_count": null,
      "outputs": [
        {
          "output_type": "execute_result",
          "data": {
            "text/plain": [
              "<matplotlib.axes._subplots.AxesSubplot at 0x7feb133ddc88>"
            ]
          },
          "metadata": {
            "tags": []
          },
          "execution_count": 11
        },
        {
          "output_type": "display_data",
          "data": {
            "image/png": "[encoded data removed]",
            "text/plain": [
              "<Figure size 432x288 with 1 Axes>"
            ]
          },
          "metadata": {
            "tags": [],
            "needs_background": "light"
          }
        }
      ]
    },
    {
      "cell_type": "code",
      "metadata": {
        "colab": {
          "base_uri": "https://localhost:8080/",
          "height": 295
        },
        "id": "SYsY3QAO3LXd",
        "outputId": "9884c667-dcbc-4751-be93-c35f5b01cbbe"
      },
      "source": [
        "eda = df[['Melahirkan Normal','Tekanan Darah']]\r\n",
        "eda = pd.crosstab(eda['Tekanan Darah'], eda['Melahirkan Normal'])\r\n",
        "eda.plot.bar(stacked=False)"
      ],
      "execution_count": null,
      "outputs": [
        {
          "output_type": "execute_result",
          "data": {
            "text/plain": [
              "<matplotlib.axes._subplots.AxesSubplot at 0x7feb128dc6d8>"
            ]
          },
          "metadata": {
            "tags": []
          },
          "execution_count": 12
        },
        {
          "output_type": "display_data",
          "data": {
            "image/png": "[encoded data removed]",
            "text/plain": [
              "<Figure size 432x288 with 1 Axes>"
            ]
          },
          "metadata": {
            "tags": [],
            "needs_background": "light"
          }
        }
      ]
    },
    {
      "cell_type": "code",
      "metadata": {
        "colab": {
          "base_uri": "https://localhost:8080/",
          "height": 295
        },
        "id": "VesV4_h43Smj",
        "outputId": "df22a3c6-5335-457f-96bf-f519c7089045"
      },
      "source": [
        "eda = df[['Melahirkan Normal','Gangguan Jantung']]\r\n",
        "eda = pd.crosstab(eda['Gangguan Jantung'], eda['Melahirkan Normal'])\r\n",
        "eda.plot.bar(stacked=False)"
      ],
      "execution_count": null,
      "outputs": [
        {
          "output_type": "execute_result",
          "data": {
            "text/plain": [
              "<matplotlib.axes._subplots.AxesSubplot at 0x7feb134450b8>"
            ]
          },
          "metadata": {
            "tags": []
          },
          "execution_count": 13
        },
        {
          "output_type": "display_data",
          "data": {
            "image/png": "[encoded data removed]",
            "text/plain": [
              "<Figure size 432x288 with 1 Axes>"
            ]
          },
          "metadata": {
            "tags": [],
            "needs_background": "light"
          }
        }
      ]
    },
    {
      "cell_type": "markdown",
      "metadata": {
        "id": "J9W4zNBwP5TK"
      },
      "source": [
        "Beberapa visualisasi data diatas dapat digunakan untuk mempermudah melihat berapa banyak data melahirkan normal dan tidak normal pada beberapa label data lainnya. "
      ]
    },
    {
      "cell_type": "code",
      "metadata": {
        "colab": {
          "base_uri": "https://localhost:8080/",
          "height": 223
        },
        "id": "hDTvw4Jp3xAc",
        "outputId": "a5813ec9-76ee-4e98-c588-987c1e29011b"
      },
      "source": [
        "df.head()"
      ],
      "execution_count": null,
      "outputs": [
        {
          "output_type": "execute_result",
          "data": {
            "text/html": [
              "<div>\n",
              "<style scoped>\n",
              "    .dataframe tbody tr th:only-of-type {\n",
              "        vertical-align: middle;\n",
              "    }\n",
              "\n",
              "    .dataframe tbody tr th {\n",
              "        vertical-align: top;\n",
              "    }\n",
              "\n",
              "    .dataframe thead th {\n",
              "        text-align: right;\n",
              "    }\n",
              "</style>\n",
              "<table border=\"1\" class=\"dataframe\">\n",
              "  <thead>\n",
              "    <tr style=\"text-align: right;\">\n",
              "      <th></th>\n",
              "      <th>ID</th>\n",
              "      <th>Usia</th>\n",
              "      <th>Melahirkan ke-</th>\n",
              "      <th>Waktu Melahirkan</th>\n",
              "      <th>Tekanan Darah</th>\n",
              "      <th>Gangguan Jantung</th>\n",
              "      <th>Melahirkan Normal</th>\n",
              "    </tr>\n",
              "  </thead>\n",
              "  <tbody>\n",
              "    <tr>\n",
              "      <th>0</th>\n",
              "      <td>1</td>\n",
              "      <td>22</td>\n",
              "      <td>1</td>\n",
              "      <td>0</td>\n",
              "      <td>2</td>\n",
              "      <td>0</td>\n",
              "      <td>1</td>\n",
              "    </tr>\n",
              "    <tr>\n",
              "      <th>1</th>\n",
              "      <td>2</td>\n",
              "      <td>26</td>\n",
              "      <td>2</td>\n",
              "      <td>0</td>\n",
              "      <td>1</td>\n",
              "      <td>0</td>\n",
              "      <td>0</td>\n",
              "    </tr>\n",
              "    <tr>\n",
              "      <th>2</th>\n",
              "      <td>3</td>\n",
              "      <td>26</td>\n",
              "      <td>2</td>\n",
              "      <td>1</td>\n",
              "      <td>1</td>\n",
              "      <td>0</td>\n",
              "      <td>1</td>\n",
              "    </tr>\n",
              "    <tr>\n",
              "      <th>3</th>\n",
              "      <td>4</td>\n",
              "      <td>28</td>\n",
              "      <td>1</td>\n",
              "      <td>0</td>\n",
              "      <td>2</td>\n",
              "      <td>0</td>\n",
              "      <td>1</td>\n",
              "    </tr>\n",
              "    <tr>\n",
              "      <th>4</th>\n",
              "      <td>5</td>\n",
              "      <td>22</td>\n",
              "      <td>2</td>\n",
              "      <td>0</td>\n",
              "      <td>1</td>\n",
              "      <td>0</td>\n",
              "      <td>0</td>\n",
              "    </tr>\n",
              "  </tbody>\n",
              "</table>\n",
              "</div>"
            ],
            "text/plain": [
              "   ID  Usia  Melahirkan ke-  ...  Tekanan Darah  Gangguan Jantung  Melahirkan Normal\n",
              "0   1    22               1  ...              2                 0                  1\n",
              "1   2    26               2  ...              1                 0                  0\n",
              "2   3    26               2  ...              1                 0                  1\n",
              "3   4    28               1  ...              2                 0                  1\n",
              "4   5    22               2  ...              1                 0                  0\n",
              "\n",
              "[5 rows x 7 columns]"
            ]
          },
          "metadata": {
            "tags": []
          },
          "execution_count": 14
        }
      ]
    },
    {
      "cell_type": "code",
      "metadata": {
        "colab": {
          "base_uri": "https://localhost:8080/"
        },
        "id": "mRkay16l53Dh",
        "outputId": "c5c40dd9-55f7-4d87-9fb3-de08a37f3ea9"
      },
      "source": [
        "!pip install category_encoders"
      ],
      "execution_count": null,
      "outputs": [
        {
          "output_type": "stream",
          "text": [
            "Collecting category_encoders\n",
            "\u001b[?25l  Downloading https://files.pythonhosted.org/packages/44/57/fcef41c248701ee62e8325026b90c432adea35555cbc870aff9cfba23727/category_encoders-2.2.2-py2.py3-none-any.whl (80kB)\n",
            "\r\u001b[K     |████                            | 10kB 15.8MB/s eta 0:00:01\r\u001b[K     |████████▏                       | 20kB 20.6MB/s eta 0:00:01\r\u001b[K     |████████████▏                   | 30kB 11.9MB/s eta 0:00:01\r\u001b[K     |████████████████▎               | 40kB 8.9MB/s eta 0:00:01\r\u001b[K     |████████████████████▎           | 51kB 4.4MB/s eta 0:00:01\r\u001b[K     |████████████████████████▍       | 61kB 4.9MB/s eta 0:00:01\r\u001b[K     |████████████████████████████▍   | 71kB 5.0MB/s eta 0:00:01\r\u001b[K     |████████████████████████████████| 81kB 3.4MB/s \n",
            "\u001b[?25hRequirement already satisfied: patsy>=0.5.1 in /usr/local/lib/python3.6/dist-packages (from category_encoders) (0.5.1)\n",
            "Requirement already satisfied: scipy>=1.0.0 in /usr/local/lib/python3.6/dist-packages (from category_encoders) (1.4.1)\n",
            "Requirement already satisfied: numpy>=1.14.0 in /usr/local/lib/python3.6/dist-packages (from category_encoders) (1.19.4)\n",
            "Requirement already satisfied: pandas>=0.21.1 in /usr/local/lib/python3.6/dist-packages (from category_encoders) (1.1.5)\n",
            "Requirement already satisfied: scikit-learn>=0.20.0 in /usr/local/lib/python3.6/dist-packages (from category_encoders) (0.22.2.post1)\n",
            "Requirement already satisfied: statsmodels>=0.9.0 in /usr/local/lib/python3.6/dist-packages (from category_encoders) (0.10.2)\n",
            "Requirement already satisfied: six in /usr/local/lib/python3.6/dist-packages (from patsy>=0.5.1->category_encoders) (1.15.0)\n",
            "Requirement already satisfied: python-dateutil>=2.7.3 in /usr/local/lib/python3.6/dist-packages (from pandas>=0.21.1->category_encoders) (2.8.1)\n",
            "Requirement already satisfied: pytz>=2017.2 in /usr/local/lib/python3.6/dist-packages (from pandas>=0.21.1->category_encoders) (2018.9)\n",
            "Requirement already satisfied: joblib>=0.11 in /usr/local/lib/python3.6/dist-packages (from scikit-learn>=0.20.0->category_encoders) (1.0.0)\n",
            "Installing collected packages: category-encoders\n",
            "Successfully installed category-encoders-2.2.2\n"
          ],
          "name": "stdout"
        }
      ]
    },
    {
      "cell_type": "code",
      "metadata": {
        "id": "D92TEhv74tc6"
      },
      "source": [
        "x_columns =['Usia', 'Melahirkan ke-', 'Waktu Melahirkan', 'Tekanan Darah', 'Gangguan Jantung']"
      ],
      "execution_count": null,
      "outputs": []
    },
    {
      "cell_type": "code",
      "metadata": {
        "colab": {
          "base_uri": "https://localhost:8080/"
        },
        "id": "Vzo8CAFR4gYe",
        "outputId": "1fd0be8b-1721-43a7-ca7c-5c44dd12f58a"
      },
      "source": [
        "X = df[x_columns]\r\n",
        "y = df['Melahirkan Normal']\r\n",
        "print(X.shape)\r\n",
        "\r\n"
      ],
      "execution_count": null,
      "outputs": [
        {
          "output_type": "stream",
          "text": [
            "(80, 5)\n"
          ],
          "name": "stdout"
        }
      ]
    },
    {
      "cell_type": "code",
      "metadata": {
        "colab": {
          "base_uri": "https://localhost:8080/"
        },
        "id": "bzgph1fc5Ww3",
        "outputId": "2c5e56e9-b7fa-4967-b7c6-faeca99e9f10"
      },
      "source": [
        "from category_encoders.leave_one_out  import LeaveOneOutEncoder\r\n",
        "\r\n",
        "LOO_enc = LeaveOneOutEncoder(cols=['Usia', 'Melahirkan ke-', 'Waktu Melahirkan', 'Tekanan Darah', 'Gangguan Jantung'])\r\n",
        "LOO_enc.fit(X,y)"
      ],
      "execution_count": null,
      "outputs": [
        {
          "output_type": "stream",
          "text": [
            "/usr/local/lib/python3.6/dist-packages/statsmodels/tools/_testing.py:19: FutureWarning: pandas.util.testing is deprecated. Use the functions in the public API at pandas.testing instead.\n",
            "  import pandas.util.testing as tm\n",
            "/usr/local/lib/python3.6/dist-packages/category_encoders/utils.py:21: FutureWarning: is_categorical is deprecated and will be removed in a future version.  Use is_categorical_dtype instead\n",
            "  elif pd.api.types.is_categorical(cols):\n"
          ],
          "name": "stderr"
        },
        {
          "output_type": "execute_result",
          "data": {
            "text/plain": [
              "LeaveOneOutEncoder(cols=['Usia', 'Melahirkan ke-', 'Waktu Melahirkan',\n",
              "                         'Tekanan Darah', 'Gangguan Jantung'],\n",
              "                   drop_invariant=False, handle_missing='value',\n",
              "                   handle_unknown='value', random_state=None, return_df=True,\n",
              "                   sigma=None, verbose=0)"
            ]
          },
          "metadata": {
            "tags": []
          },
          "execution_count": 18
        }
      ]
    },
    {
      "cell_type": "code",
      "metadata": {
        "id": "rMCkT4QK373X"
      },
      "source": [
        "from sklearn.model_selection import train_test_split\r\n",
        "\r\n",
        "X_train, X_test, y_train, y_test = train_test_split(\r\n",
        "     X, y, test_size=0.2, random_state=12)\r\n",
        "\r\n"
      ],
      "execution_count": null,
      "outputs": []
    },
    {
      "cell_type": "code",
      "metadata": {
        "id": "YeSAvM8s4QKz"
      },
      "source": [
        "X_train = LOO_enc.transform(X_train)\r\n",
        "X_test = LOO_enc.transform(X_test)"
      ],
      "execution_count": null,
      "outputs": []
    },
    {
      "cell_type": "markdown",
      "metadata": {
        "id": "1CFmV2Rnteuj"
      },
      "source": [
        "# MODELING CV 3"
      ]
    },
    {
      "cell_type": "markdown",
      "metadata": {
        "id": "NYaOb_E9N90K"
      },
      "source": [
        "## Modeling"
      ]
    },
    {
      "cell_type": "markdown",
      "metadata": {
        "id": "RJJ7vhWQ4rWS"
      },
      "source": [
        ">Pada proses modeling, dilakukan terhadap beberapa model klasifikasi yaitu logistic regression, SVM, decision tree, Gaussian Naive Bayes, Random forest classification, dan KNN."
      ]
    },
    {
      "cell_type": "code",
      "metadata": {
        "id": "S7vD9iFu6DZR"
      },
      "source": [
        "from sklearn.tree import DecisionTreeClassifier\r\n",
        "from sklearn.naive_bayes import GaussianNB\r\n",
        "from sklearn.ensemble import RandomForestClassifier\r\n",
        "from sklearn.neighbors import KNeighborsClassifier\r\n",
        "from sklearn.svm import SVC\r\n",
        "from sklearn.linear_model import LogisticRegression\r\n",
        "from sklearn.ensemble import GradientBoostingClassifier"
      ],
      "execution_count": null,
      "outputs": []
    },
    {
      "cell_type": "code",
      "metadata": {
        "id": "xYehZph_6E0y"
      },
      "source": [
        "log_reg = LogisticRegression()\r\n",
        "svm = SVC(kernel='rbf', probability=True)\r\n",
        "dec_tree = DecisionTreeClassifier()\r\n",
        "gau_nb = GaussianNB(var_smoothing=0.0001)\r\n",
        "rfc = RandomForestClassifier(n_estimators=150)\r\n",
        "knn = KNeighborsClassifier(n_neighbors=5)\r\n",
        "grad_bos = GradientBoostingClassifier()"
      ],
      "execution_count": null,
      "outputs": []
    },
    {
      "cell_type": "code",
      "metadata": {
        "colab": {
          "base_uri": "https://localhost:8080/"
        },
        "id": "ZPV9gr3C6H-y",
        "outputId": "a8d8837f-2d7e-4461-a127-16dc32da0e78"
      },
      "source": [
        "svm.fit(X_train, y_train)\r\n",
        "rfc.fit(X_train, y_train)\r\n",
        "knn.fit(X_train, y_train)\r\n",
        "dec_tree.fit(X_train, y_train)\r\n",
        "gau_nb.fit(X_train, y_train)\r\n",
        "log_reg.fit(X_train, y_train)\r\n",
        "grad_bos.fit(X_train, y_train)\r\n",
        "log_reg.fit(X_train, y_train)\r\n",
        "grad_bos.fit(X_train, y_train)"
      ],
      "execution_count": null,
      "outputs": [
        {
          "output_type": "execute_result",
          "data": {
            "text/plain": [
              "GradientBoostingClassifier(ccp_alpha=0.0, criterion='friedman_mse', init=None,\n",
              "                           learning_rate=0.1, loss='deviance', max_depth=3,\n",
              "                           max_features=None, max_leaf_nodes=None,\n",
              "                           min_impurity_decrease=0.0, min_impurity_split=None,\n",
              "                           min_samples_leaf=1, min_samples_split=2,\n",
              "                           min_weight_fraction_leaf=0.0, n_estimators=100,\n",
              "                           n_iter_no_change=None, presort='deprecated',\n",
              "                           random_state=None, subsample=1.0, tol=0.0001,\n",
              "                           validation_fraction=0.1, verbose=0,\n",
              "                           warm_start=False)"
            ]
          },
          "metadata": {
            "tags": []
          },
          "execution_count": 23
        }
      ]
    },
    {
      "cell_type": "code",
      "metadata": {
        "colab": {
          "base_uri": "https://localhost:8080/"
        },
        "id": "2H0CLTK3HiOf",
        "outputId": "6f4d7f52-755b-4180-9390-63a0f157bd12"
      },
      "source": [
        "print(f'svm score : {svm.score(X_test,y_test)}')\r\n",
        "print(f'random forest score : {rfc.score(X_test,y_test)}')\r\n",
        "print(f'KNN score : {knn.score(X_test,y_test)}')\r\n",
        "print(f'DecisionTree score : {dec_tree.score(X_test,y_test)}')\r\n",
        "print(f'Gaussian NB score : {gau_nb.score(X_test,y_test)}')\r\n",
        "print(f'Logistic Regression score : {log_reg.score(X_test,y_test)}')\r\n",
        "print(f'Gradient Boosting score : {grad_bos.score(X_test,y_test)}')"
      ],
      "execution_count": null,
      "outputs": [
        {
          "output_type": "stream",
          "text": [
            "svm score : 0.75\n",
            "random forest score : 0.8125\n",
            "KNN score : 0.75\n",
            "DecisionTree score : 0.8125\n",
            "Gaussian NB score : 0.875\n",
            "Logistic Regression score : 0.875\n",
            "Gradient Boosting score : 0.6875\n"
          ],
          "name": "stdout"
        }
      ]
    },
    {
      "cell_type": "code",
      "metadata": {
        "id": "ymerz0ZYHm1A"
      },
      "source": [
        "y_pred_svm = svm.predict(X_test)\r\n",
        "y_pred_rfc = rfc.predict(X_test)\r\n",
        "y_pred_knn = knn.predict(X_test)\r\n",
        "y_pred_dec_tree = dec_tree.predict(X_test)\r\n",
        "y_pred_gau_nb = gau_nb.predict(X_test)\r\n",
        "y_pred_log_reg = log_reg.predict(X_test)\r\n",
        "y_pred_grad_bos = grad_bos.predict(X_test)"
      ],
      "execution_count": null,
      "outputs": []
    },
    {
      "cell_type": "code",
      "metadata": {
        "colab": {
          "base_uri": "https://localhost:8080/"
        },
        "id": "N3JHWMMJHqwo",
        "outputId": "08fa8a57-74a4-402a-f64e-67d5dd1c32ae"
      },
      "source": [
        "print(f'F Score of SVM : {f1_score(y_test, y_pred_svm)}')\r\n",
        "print(f'F Score of RFC: {f1_score(y_test, y_pred_rfc)}')\r\n",
        "print(f'F Score of KNN : {f1_score(y_test, y_pred_knn)}')\r\n",
        "print(f'F Score of DECTREE : {f1_score(y_test, y_pred_dec_tree)}')\r\n",
        "print(f'F Score of GAUSNB : {f1_score(y_test, y_pred_gau_nb)}')\r\n",
        "print(f'F Score of LOGREG : {f1_score(y_test, y_pred_log_reg)}')\r\n",
        "print(f'F Score of GRADBOS : {f1_score(y_test, y_pred_grad_bos)}')"
      ],
      "execution_count": null,
      "outputs": [
        {
          "output_type": "stream",
          "text": [
            "F Score of SVM : 0.6\n",
            "F Score of RFC: 0.4\n",
            "F Score of KNN : 0.5\n",
            "F Score of DECTREE : 0.5714285714285715\n",
            "F Score of GAUSNB : 0.8\n",
            "F Score of LOGREG : 0.75\n",
            "F Score of GRADBOS : 0.28571428571428575\n"
          ],
          "name": "stdout"
        }
      ]
    },
    {
      "cell_type": "code",
      "metadata": {
        "colab": {
          "base_uri": "https://localhost:8080/"
        },
        "id": "2Kew_PgpHuiT",
        "outputId": "e2cab706-ddca-4a4f-b23e-ddfacab88c47"
      },
      "source": [
        "from sklearn.model_selection import cross_val_score\r\n",
        "\r\n",
        "cv = 3\r\n",
        "print(f'CV Score of SVM : {cross_val_score(svm, X_train, y_train, cv=cv, n_jobs=-1)}')\r\n",
        "print(f'CV Score of RFC: {cross_val_score(rfc, X_train, y_train, cv=cv, n_jobs=-1)}')\r\n",
        "print(f'CV Score of KNN : {cross_val_score(knn, X_train, y_train, cv=cv, n_jobs=-1)}')\r\n",
        "print(f'CV Score of DECTREE : {cross_val_score(dec_tree, X_train, y_train, cv=cv, n_jobs=-1)}')\r\n",
        "print(f'CV Score of GAUSNB : {cross_val_score(gau_nb, X_train, y_train,cv=cv, n_jobs=-1)}')\r\n",
        "print(f'CV Score of LOGREG : {cross_val_score(log_reg, X_train, y_train, cv=cv, n_jobs=-1)}')\r\n",
        "print(f'CV Score of GRADBOS : {cross_val_score(grad_bos, X_train, y_train, cv=cv, n_jobs=-1)}')"
      ],
      "execution_count": null,
      "outputs": [
        {
          "output_type": "stream",
          "text": [
            "CV Score of SVM : [0.77272727 0.71428571 0.76190476]\n",
            "CV Score of RFC: [0.77272727 0.47619048 0.57142857]\n",
            "CV Score of KNN : [0.77272727 0.57142857 0.66666667]\n",
            "CV Score of DECTREE : [0.68181818 0.47619048 0.61904762]\n",
            "CV Score of GAUSNB : [0.77272727 0.71428571 0.71428571]\n",
            "CV Score of LOGREG : [0.68181818 0.71428571 0.71428571]\n",
            "CV Score of GRADBOS : [0.72727273 0.61904762 0.66666667]\n"
          ],
          "name": "stdout"
        }
      ]
    },
    {
      "cell_type": "markdown",
      "metadata": {
        "id": "YuSFuGDN3Ptj"
      },
      "source": [
        ">CV= Cross validation membagi data menjadi beberapa bagian, pada kali ini dibagi menjadi 3 fold. Hasil dari akurasi CV pada logistic regression adalah 68%, 71% dan 71%. "
      ]
    },
    {
      "cell_type": "code",
      "metadata": {
        "colab": {
          "base_uri": "https://localhost:8080/"
        },
        "id": "raLM3DykHzzx",
        "outputId": "f4cfecc2-c752-4019-b8d6-13c18949b28f"
      },
      "source": [
        "print(classification_report(y_test, y_pred_log_reg))\r\n"
      ],
      "execution_count": null,
      "outputs": [
        {
          "output_type": "stream",
          "text": [
            "              precision    recall  f1-score   support\n",
            "\n",
            "           0       0.92      0.92      0.92        12\n",
            "           1       0.75      0.75      0.75         4\n",
            "\n",
            "    accuracy                           0.88        16\n",
            "   macro avg       0.83      0.83      0.83        16\n",
            "weighted avg       0.88      0.88      0.88        16\n",
            "\n"
          ],
          "name": "stdout"
        }
      ]
    },
    {
      "cell_type": "markdown",
      "metadata": {
        "id": "sPE5AJzTOt1M"
      },
      "source": [
        "Berdasarkan report diatas, dapat dilihat jika akurasi dari logistic regression adalah : logistic regression memiliki tingkat akurasi secara keseluruhan adalah 88% dengan nilai akurasi mengklasifikasikan ke kelas 0 yaitu 92 % dan kelas 1 yaitu 75%\r\n"
      ]
    },
    {
      "cell_type": "markdown",
      "metadata": {
        "id": "NP2iH3SNIiqf"
      },
      "source": [
        "## Evaluation"
      ]
    },
    {
      "cell_type": "markdown",
      "metadata": {
        "id": "r66S5Db9OEDc"
      },
      "source": [
        "### Confusion Matrix"
      ]
    },
    {
      "cell_type": "code",
      "metadata": {
        "colab": {
          "base_uri": "https://localhost:8080/",
          "height": 391
        },
        "id": "g_gtALy_IGhz",
        "outputId": "63b0930f-86c4-4a91-8744-153abb497dda"
      },
      "source": [
        "conf_matrix = confusion_matrix(y_test, y_pred_log_reg)\r\n",
        "f, ax = plt.subplots(figsize=(10, 6))\r\n",
        "sns.heatmap(conf_matrix, annot=True, fmt=\"d\", linewidths=.5, ax=ax)\r\n",
        "plt.title(\"Confusion Matrix Logistic Regression\", fontsize=20)\r\n",
        "plt.subplots_adjust(left=0.15, right=0.99, bottom=0.15, top=0.99)\r\n",
        "ax.set_yticks(np.arange(conf_matrix.shape[0]) + 0.5, minor=False)\r\n",
        "ax.set_xticklabels(['Melahirkan Normal', 'Melahirkan Tidak Normal'], fontsize=16)\r\n",
        "ax.set_yticklabels(['Melahirkan Normal', 'Melahirkan Tidak Normal'], fontsize=16, rotation=360)\r\n",
        "plt.show()"
      ],
      "execution_count": null,
      "outputs": [
        {
          "output_type": "display_data",
          "data": {
            "image/png": "[encoded data removed]",
            "text/plain": [
              "<Figure size 720x432 with 2 Axes>"
            ]
          },
          "metadata": {
            "tags": [],
            "needs_background": "light"
          }
        }
      ]
    },
    {
      "cell_type": "markdown",
      "metadata": {
        "id": "qz4hz93S3-hQ"
      },
      "source": [
        "> Berdasarkan confusion matrix dapat dilihat seberapa tepatkah model ini mengklasifikasikan data. 11 data melahirkan normal diklasifikasikan dengan benar dan 1 nya salah serta 3 data melahirkan tidak normal diklasifikasikan dengan benar dan 1 data diklasifikasikan salah. "
      ]
    },
    {
      "cell_type": "markdown",
      "metadata": {
        "id": "aq7f5xZHOKse"
      },
      "source": [
        "### ROC Curve"
      ]
    },
    {
      "cell_type": "code",
      "metadata": {
        "colab": {
          "base_uri": "https://localhost:8080/",
          "height": 295
        },
        "id": "HRgxZY6kIdqj",
        "outputId": "2326cfb2-ab8e-4500-f46f-e84dad8b0ab7"
      },
      "source": [
        "from sklearn import metrics\r\n",
        "\r\n",
        "y_pred_svm_proba = svm.predict_proba(X_test)\r\n",
        "y_pred_rfc_proba = rfc.predict_proba(X_test)\r\n",
        "y_pred_knn_proba = knn.predict_proba(X_test)\r\n",
        "y_pred_dec_tree_proba = dec_tree.predict_proba(X_test)\r\n",
        "y_pred_gau_nb_proba = gau_nb.predict_proba(X_test)\r\n",
        "y_pred_log_reg_proba = log_reg.predict_proba(X_test)\r\n",
        "y_pred_grad_bos_proba = grad_bos.predict_proba(X_test)\r\n",
        "\r\n",
        "y_preds_svm = y_pred_svm_proba[:,1]\r\n",
        "y_preds_rfc = y_pred_rfc_proba[:,1]\r\n",
        "y_preds_knn = y_pred_knn_proba[:,1]\r\n",
        "y_preds_dectree = y_pred_dec_tree_proba[:,1]\r\n",
        "y_preds_gaunb = y_pred_gau_nb_proba[:,1]\r\n",
        "y_preds_logreg = y_pred_log_reg_proba[:,1]\r\n",
        "y_preds_gradbos = y_pred_grad_bos_proba[:,1]\r\n",
        "\r\n",
        "fpr_svm, tpr_svm, threshold_svm = metrics.roc_curve(y_test, y_preds_svm)\r\n",
        "roc_auc_svm = metrics.auc(fpr_svm, tpr_svm)\r\n",
        "fpr_rfc, tpr_rfc, threshold = metrics.roc_curve(y_test, y_preds_rfc)\r\n",
        "roc_auc_rfc = metrics.auc(fpr_rfc, tpr_rfc)\r\n",
        "fpr_knn, tpr_knn, threshold = metrics.roc_curve(y_test, y_preds_knn)\r\n",
        "roc_auc_knn = metrics.auc(fpr_knn, tpr_knn)\r\n",
        "fpr_dectree, tpr_dectree, threshold = metrics.roc_curve(y_test, y_preds_dectree)\r\n",
        "roc_auc_dectree = metrics.auc(fpr_dectree, tpr_dectree)\r\n",
        "fpr_gaunb, tpr_gaunb, threshold = metrics.roc_curve(y_test, y_preds_gaunb)\r\n",
        "roc_auc_gaunb = metrics.auc(fpr_gaunb, tpr_gaunb)\r\n",
        "fpr_logreg, tpr_logreg, threshold = metrics.roc_curve(y_test, y_preds_logreg)\r\n",
        "roc_auc_logreg = metrics.auc(fpr_logreg, tpr_logreg)\r\n",
        "fpr_gradbos, tpr_gradbos, threshold = metrics.roc_curve(y_test, y_preds_gradbos)\r\n",
        "roc_auc_grabos = metrics.auc(fpr_gradbos, tpr_gradbos)\r\n",
        "\r\n",
        "plt.title('Receiver Operating Characteristic')\r\n",
        "plt.plot(fpr_svm, tpr_svm, label = 'AUC SVM = %0.2f' % roc_auc_svm)\r\n",
        "plt.plot(fpr_rfc, tpr_rfc, label = 'AUC RFC = %0.2f' % roc_auc_rfc)\r\n",
        "plt.plot(fpr_knn, tpr_knn, label = 'AUC KNN = %0.2f' % roc_auc_knn)\r\n",
        "plt.plot(fpr_dectree, tpr_dectree, label = 'AUC DecTree = %0.2f' % roc_auc_dectree)\r\n",
        "plt.plot(fpr_gaunb, tpr_gaunb, label = 'AUC GausNB = %0.2f' % roc_auc_gaunb)\r\n",
        "plt.plot(fpr_logreg, tpr_logreg, label = 'AUC LogReg = %0.2f' % roc_auc_logreg)\r\n",
        "plt.plot(fpr_gradbos, tpr_gradbos, label = 'AUC GradBos = %0.2f' % roc_auc_grabos)\r\n",
        "\r\n",
        "plt.legend(loc = 'lower right')\r\n",
        "plt.plot([0, 1], [0, 1],'r--')\r\n",
        "plt.xlim([-0.01, 1])\r\n",
        "plt.ylim([0, 1.01])\r\n",
        "plt.ylabel('True Positive Rate')\r\n",
        "plt.xlabel('False Positive Rate')\r\n",
        "plt.show()"
      ],
      "execution_count": null,
      "outputs": [
        {
          "output_type": "display_data",
          "data": {
            "image/png": "[encoded data removed]",
            "text/plain": [
              "<Figure size 432x288 with 1 Axes>"
            ]
          },
          "metadata": {
            "tags": [],
            "needs_background": "light"
          }
        }
      ]
    },
    {
      "cell_type": "markdown",
      "metadata": {
        "id": "XUmvepzh4ZGt"
      },
      "source": [
        ">Kurva ROC adalah cara lain selain confusion matrix untuk mengukur performansi suatu model. Pada kurva ROC dapat dilihat jika logistic regression memiliki nilai TPR lebih tinggi dibandingkan dengan model lainnya sehingga nilai AUC nya juga tinggi yaitu 96%. "
      ]
    },
    {
      "cell_type": "markdown",
      "metadata": {
        "id": "wfp3NYlhOILq"
      },
      "source": [
        "### Log Loss"
      ]
    },
    {
      "cell_type": "code",
      "metadata": {
        "colab": {
          "base_uri": "https://localhost:8080/"
        },
        "id": "0p4HM-yBLGAl",
        "outputId": "bda0e76f-f512-4c95-c3c5-70205463586d"
      },
      "source": [
        "from sklearn.metrics import log_loss\r\n",
        "log_loss(y_test, y_pred_log_reg_proba)"
      ],
      "execution_count": null,
      "outputs": [
        {
          "output_type": "execute_result",
          "data": {
            "text/plain": [
              "0.5270724822679562"
            ]
          },
          "metadata": {
            "tags": []
          },
          "execution_count": 35
        }
      ]
    },
    {
      "cell_type": "markdown",
      "metadata": {
        "id": "yayj9XWdthPS"
      },
      "source": [
        "# MODELING CV 20"
      ]
    },
    {
      "cell_type": "code",
      "metadata": {
        "colab": {
          "base_uri": "https://localhost:8080/"
        },
        "id": "6YzRNhJatjfN",
        "outputId": "5541f1a6-9c81-4480-e270-2dfd3a749c93"
      },
      "source": [
        "Xb = np.asarray(df[['ID', 'Usia', 'Melahirkan ke-', 'Tekanan Darah', 'Gangguan Jantung']])\r\n",
        "Xb[0:5]"
      ],
      "execution_count": null,
      "outputs": [
        {
          "output_type": "execute_result",
          "data": {
            "text/plain": [
              "array([[ 1, 22,  1,  2,  0],\n",
              "       [ 2, 26,  2,  1,  0],\n",
              "       [ 3, 26,  2,  1,  0],\n",
              "       [ 4, 28,  1,  2,  0],\n",
              "       [ 5, 22,  2,  1,  0]])"
            ]
          },
          "metadata": {
            "tags": []
          },
          "execution_count": 36
        }
      ]
    },
    {
      "cell_type": "code",
      "metadata": {
        "colab": {
          "base_uri": "https://localhost:8080/"
        },
        "id": "awJDQYFcuGe7",
        "outputId": "dfcccdda-c110-41bb-c5e0-3aeda1d370f9"
      },
      "source": [
        "yb = np.asarray(df['Melahirkan Normal'])\r\n",
        "yb [0:5]"
      ],
      "execution_count": null,
      "outputs": [
        {
          "output_type": "execute_result",
          "data": {
            "text/plain": [
              "array([1, 0, 1, 1, 0])"
            ]
          },
          "metadata": {
            "tags": []
          },
          "execution_count": 37
        }
      ]
    },
    {
      "cell_type": "code",
      "metadata": {
        "colab": {
          "base_uri": "https://localhost:8080/"
        },
        "id": "2bdd-5nOuP3B",
        "outputId": "f9107afb-2505-4f5f-cd6d-50c7810969d5"
      },
      "source": [
        "from sklearn import preprocessing\r\n",
        "Xb = preprocessing.StandardScaler().fit(Xb).transform(Xb)\r\n",
        "Xb[0:5]"
      ],
      "execution_count": null,
      "outputs": [
        {
          "output_type": "execute_result",
          "data": {
            "text/plain": [
              "array([[-1.71053381, -1.14058733, -0.83894793,  1.41421356, -0.77459667],\n",
              "       [-1.66722916, -0.33841602,  0.42738857,  0.        , -0.77459667],\n",
              "       [-1.62392451, -0.33841602,  0.42738857,  0.        , -0.77459667],\n",
              "       [-1.58061985,  0.06266963, -0.83894793,  1.41421356, -0.77459667],\n",
              "       [-1.5373152 , -1.14058733,  0.42738857,  0.        , -0.77459667]])"
            ]
          },
          "metadata": {
            "tags": []
          },
          "execution_count": 38
        }
      ]
    },
    {
      "cell_type": "code",
      "metadata": {
        "colab": {
          "base_uri": "https://localhost:8080/"
        },
        "id": "MBbAGc4SuWdz",
        "outputId": "c0bfd25f-3abb-4441-c7f4-02effe65d512"
      },
      "source": [
        "from sklearn.model_selection import train_test_split\r\n",
        "from sklearn.linear_model import LogisticRegression\r\n",
        "\r\n",
        "Xb_train, Xb_test, yb_train, yb_test = train_test_split( Xb, yb, test_size=0.2, random_state=15)\r\n",
        "print ('Train set:', Xb_train.shape,  yb_train.shape)\r\n",
        "print ('Test set:', Xb_test.shape,  yb_test.shape)"
      ],
      "execution_count": null,
      "outputs": [
        {
          "output_type": "stream",
          "text": [
            "Train set: (64, 5) (64,)\n",
            "Test set: (16, 5) (16,)\n"
          ],
          "name": "stdout"
        }
      ]
    },
    {
      "cell_type": "code",
      "metadata": {
        "colab": {
          "base_uri": "https://localhost:8080/"
        },
        "id": "-VKVa8lBuhnE",
        "outputId": "9ec47909-2b57-4d04-cfb9-98f0abe1d5a8"
      },
      "source": [
        "from sklearn.ensemble import RandomForestClassifier\r\n",
        "from sklearn.model_selection import RandomizedSearchCV\r\n",
        "\r\n",
        "n_estimators = [int(xb) for xb in np.linspace(start=200, stop=2000, num=10)]\r\n",
        "max_features = ['auto', 'sqrt']\r\n",
        "max_depth = [int(xb) for xb in np.linspace(10, 110, num=11)]\r\n",
        "max_depth.append(None)\r\n",
        "min_samples_split = [2, 5, 10]\r\n",
        "min_samples_leaf = [1, 2, 4]\r\n",
        "bootstrap = [True, False]\r\n",
        "\r\n",
        "random_grid = {'n_estimators': n_estimators, 'max_features': max_features,\r\n",
        "               'max_depth': max_depth, 'min_samples_split': min_samples_split,\r\n",
        "               'min_samples_leaf': min_samples_leaf, 'bootstrap': bootstrap}\r\n",
        "\r\n",
        "rf_clf = RandomForestClassifier(random_state=42)\r\n",
        "\r\n",
        "rf_cv = RandomizedSearchCV(estimator=rf_clf, scoring='f1',param_distributions=random_grid, n_iter=100, cv=20, \r\n",
        "                               verbose=2, random_state=42, n_jobs=-1)\r\n",
        "\r\n",
        "rf_cv.fit(Xb_train, yb_train)\r\n",
        "rf_best_params = rf_cv.best_params_\r\n",
        "print(f\"Best paramters: {rf_best_params})\")\r\n",
        "\r\n",
        "rf_clf = RandomForestClassifier(**rf_best_params)\r\n",
        "rf_clf.fit(Xb_train, yb_train)"
      ],
      "execution_count": null,
      "outputs": [
        {
          "output_type": "stream",
          "text": [
            "Fitting 20 folds for each of 100 candidates, totalling 2000 fits\n"
          ],
          "name": "stdout"
        },
        {
          "output_type": "stream",
          "text": [
            "[Parallel(n_jobs=-1)]: Using backend LokyBackend with 2 concurrent workers.\n",
            "[Parallel(n_jobs=-1)]: Done  37 tasks      | elapsed:   49.0s\n",
            "[Parallel(n_jobs=-1)]: Done 158 tasks      | elapsed:  3.0min\n",
            "[Parallel(n_jobs=-1)]: Done 361 tasks      | elapsed:  6.6min\n",
            "[Parallel(n_jobs=-1)]: Done 644 tasks      | elapsed: 12.4min\n",
            "[Parallel(n_jobs=-1)]: Done 1009 tasks      | elapsed: 18.0min\n",
            "[Parallel(n_jobs=-1)]: Done 1454 tasks      | elapsed: 27.3min\n",
            "[Parallel(n_jobs=-1)]: Done 1981 tasks      | elapsed: 36.1min\n",
            "[Parallel(n_jobs=-1)]: Done 2000 out of 2000 | elapsed: 36.7min finished\n"
          ],
          "name": "stderr"
        },
        {
          "output_type": "stream",
          "text": [
            "Best paramters: {'n_estimators': 800, 'min_samples_split': 5, 'min_samples_leaf': 4, 'max_features': 'sqrt', 'max_depth': 30, 'bootstrap': False})\n"
          ],
          "name": "stdout"
        },
        {
          "output_type": "execute_result",
          "data": {
            "text/plain": [
              "RandomForestClassifier(bootstrap=False, ccp_alpha=0.0, class_weight=None,\n",
              "                       criterion='gini', max_depth=30, max_features='sqrt',\n",
              "                       max_leaf_nodes=None, max_samples=None,\n",
              "                       min_impurity_decrease=0.0, min_impurity_split=None,\n",
              "                       min_samples_leaf=4, min_samples_split=5,\n",
              "                       min_weight_fraction_leaf=0.0, n_estimators=800,\n",
              "                       n_jobs=None, oob_score=False, random_state=None,\n",
              "                       verbose=0, warm_start=False)"
            ]
          },
          "metadata": {
            "tags": []
          },
          "execution_count": 40
        }
      ]
    },
    {
      "cell_type": "code",
      "metadata": {
        "colab": {
          "base_uri": "https://localhost:8080/"
        },
        "id": "VBzW-gmDuwJL",
        "outputId": "b4db9bb7-eeab-433b-936a-bd77d7cbc9cd"
      },
      "source": [
        "from sklearn.metrics import accuracy_score, confusion_matrix, classification_report\r\n",
        "\r\n",
        "def print_score(clf, Xb_train, yb_train, Xb_test, yb_test, train=True):\r\n",
        "    if train:\r\n",
        "        pred = clf.predict(Xb_train)\r\n",
        "        clf_report = pd.DataFrame(classification_report(yb_train, pred, output_dict=True))\r\n",
        "        print(\"Train Result:\\n================================================\")\r\n",
        "        print(f\"Accuracy Score: {accuracy_score(yb_train, pred) * 100:.2f}%\")\r\n",
        "        print(\"_______________________________________________\")\r\n",
        "        print(f\"CLASSIFICATION REPORT:\\n{clf_report}\")\r\n",
        "        print(\"_______________________________________________\")\r\n",
        "        print(f\"Confusion Matrix: \\n {confusion_matrix(yb_train, pred)}\\n\")\r\n",
        "        \r\n",
        "    elif train==False:\r\n",
        "        pred = clf.predict(Xb_test)\r\n",
        "        clf_report = pd.DataFrame(classification_report(yb_test, pred, output_dict=True))\r\n",
        "        print(\"Test Result:\\n================================================\")        \r\n",
        "        print(f\"Accuracy Score: {accuracy_score(yb_test, pred) * 100:.2f}%\")\r\n",
        "        print(\"_______________________________________________\")\r\n",
        "        print(f\"CLASSIFICATION REPORT:\\n{clf_report}\")\r\n",
        "        print(\"_______________________________________________\")\r\n",
        "        print(f\"Confusion Matrix: \\n {confusion_matrix(yb_test, pred)}\\n\")\r\n",
        "\r\n",
        "print_score(rf_clf, Xb_train, yb_train, Xb_test, yb_test, train=True)\r\n",
        "print_score(rf_clf, Xb_train, yb_train, Xb_test, yb_test, train=False)"
      ],
      "execution_count": null,
      "outputs": [
        {
          "output_type": "stream",
          "text": [
            "Train Result:\n",
            "================================================\n",
            "Accuracy Score: 89.06%\n",
            "_______________________________________________\n",
            "CLASSIFICATION REPORT:\n",
            "                   0          1  accuracy  macro avg  weighted avg\n",
            "precision   0.878049   0.913043  0.890625   0.895546      0.892265\n",
            "recall      0.947368   0.807692  0.890625   0.877530      0.890625\n",
            "f1-score    0.911392   0.857143  0.890625   0.884268      0.889354\n",
            "support    38.000000  26.000000  0.890625  64.000000     64.000000\n",
            "_______________________________________________\n",
            "Confusion Matrix: \n",
            " [[36  2]\n",
            " [ 5 21]]\n",
            "\n",
            "Test Result:\n",
            "================================================\n",
            "Accuracy Score: 56.25%\n",
            "_______________________________________________\n",
            "CLASSIFICATION REPORT:\n",
            "                  0         1  accuracy  macro avg  weighted avg\n",
            "precision  0.545455  0.600000    0.5625   0.572727      0.572727\n",
            "recall     0.750000  0.375000    0.5625   0.562500      0.562500\n",
            "f1-score   0.631579  0.461538    0.5625   0.546559      0.546559\n",
            "support    8.000000  8.000000    0.5625  16.000000     16.000000\n",
            "_______________________________________________\n",
            "Confusion Matrix: \n",
            " [[6 2]\n",
            " [5 3]]\n",
            "\n"
          ],
          "name": "stdout"
        }
      ]
    },
    {
      "cell_type": "code",
      "metadata": {
        "colab": {
          "base_uri": "https://localhost:8080/",
          "height": 249
        },
        "id": "jrWj77TT6u59",
        "outputId": "195abe0c-1dd0-42d1-e5b2-54caa6799512"
      },
      "source": [
        "# Compute confusion matrix\r\n",
        "cnf_matrix = confusion_matrix(yb_test, pred, labels=[1,0])\r\n",
        "np.set_printoptions(precision=2)\r\n",
        "\r\n",
        "\r\n",
        "# Plot non-normalized confusion matrix\r\n",
        "plt.figure()\r\n",
        "plot_confusion_matrix(cnf_matrix, classes=['Melahirkan Normal=1','Melahirkan Normal=0'],normalize= False,  title='Confusion matrix')"
      ],
      "execution_count": null,
      "outputs": [
        {
          "output_type": "error",
          "ename": "NameError",
          "evalue": "ignored",
          "traceback": [
            "\u001b[0;31m---------------------------------------------------------------------------\u001b[0m",
            "\u001b[0;31mNameError\u001b[0m                                 Traceback (most recent call last)",
            "\u001b[0;32m<ipython-input-76-abee236da385>\u001b[0m in \u001b[0;36m<module>\u001b[0;34m()\u001b[0m\n\u001b[1;32m      1\u001b[0m \u001b[0;31m# Compute confusion matrix\u001b[0m\u001b[0;34m\u001b[0m\u001b[0;34m\u001b[0m\u001b[0;34m\u001b[0m\u001b[0m\n\u001b[0;32m----> 2\u001b[0;31m \u001b[0mcnf_matrix\u001b[0m \u001b[0;34m=\u001b[0m \u001b[0mconfusion_matrix\u001b[0m\u001b[0;34m(\u001b[0m\u001b[0myb_test\u001b[0m\u001b[0;34m,\u001b[0m \u001b[0mpred\u001b[0m\u001b[0;34m,\u001b[0m \u001b[0mlabels\u001b[0m\u001b[0;34m=\u001b[0m\u001b[0;34m[\u001b[0m\u001b[0;36m1\u001b[0m\u001b[0;34m,\u001b[0m\u001b[0;36m0\u001b[0m\u001b[0;34m]\u001b[0m\u001b[0;34m)\u001b[0m\u001b[0;34m\u001b[0m\u001b[0;34m\u001b[0m\u001b[0m\n\u001b[0m\u001b[1;32m      3\u001b[0m \u001b[0mnp\u001b[0m\u001b[0;34m.\u001b[0m\u001b[0mset_printoptions\u001b[0m\u001b[0;34m(\u001b[0m\u001b[0mprecision\u001b[0m\u001b[0;34m=\u001b[0m\u001b[0;36m2\u001b[0m\u001b[0;34m)\u001b[0m\u001b[0;34m\u001b[0m\u001b[0;34m\u001b[0m\u001b[0m\n\u001b[1;32m      4\u001b[0m \u001b[0;34m\u001b[0m\u001b[0m\n\u001b[1;32m      5\u001b[0m \u001b[0;34m\u001b[0m\u001b[0m\n",
            "\u001b[0;31mNameError\u001b[0m: name 'pred' is not defined"
          ]
        }
      ]
    },
    {
      "cell_type": "markdown",
      "metadata": {
        "id": "frTep4rQ6QeV"
      },
      "source": [
        "# Model tanpa CV"
      ]
    },
    {
      "cell_type": "markdown",
      "metadata": {
        "id": "RVmpZc3cbjNF"
      },
      "source": [
        "Mendefinisikan X dan Y"
      ]
    },
    {
      "cell_type": "code",
      "metadata": {
        "colab": {
          "base_uri": "https://localhost:8080/"
        },
        "id": "ZJ7wSCNTVpX_",
        "outputId": "9db9ce00-5347-41a1-9725-e4d8b4f8dc41"
      },
      "source": [
        "Xc = np.asarray(df[['ID', 'Usia', 'Melahirkan ke-', 'Tekanan Darah', 'Gangguan Jantung']])\r\n",
        "Xc[0:5]"
      ],
      "execution_count": null,
      "outputs": [
        {
          "output_type": "execute_result",
          "data": {
            "text/plain": [
              "array([[ 1, 22,  1,  2,  0],\n",
              "       [ 2, 26,  2,  1,  0],\n",
              "       [ 3, 26,  2,  1,  0],\n",
              "       [ 4, 28,  1,  2,  0],\n",
              "       [ 5, 22,  2,  1,  0]])"
            ]
          },
          "metadata": {
            "tags": []
          },
          "execution_count": 58
        }
      ]
    },
    {
      "cell_type": "code",
      "metadata": {
        "colab": {
          "base_uri": "https://localhost:8080/"
        },
        "id": "zI2PD9bmW5bE",
        "outputId": "f259ee21-69ed-4998-edb8-0996e19b2f12"
      },
      "source": [
        "yc = np.asarray(df['Melahirkan Normal'])\r\n",
        "yc [0:5]"
      ],
      "execution_count": null,
      "outputs": [
        {
          "output_type": "execute_result",
          "data": {
            "text/plain": [
              "array([1, 0, 1, 1, 0])"
            ]
          },
          "metadata": {
            "tags": []
          },
          "execution_count": 59
        }
      ]
    },
    {
      "cell_type": "code",
      "metadata": {
        "colab": {
          "base_uri": "https://localhost:8080/"
        },
        "id": "pW5B5WOKXIu0",
        "outputId": "62f42e55-f570-44d5-8a89-08585235d193"
      },
      "source": [
        "from sklearn import preprocessing\r\n",
        "Xc = preprocessing.StandardScaler().fit(X).transform(X)\r\n",
        "Xc[0:5]"
      ],
      "execution_count": null,
      "outputs": [
        {
          "output_type": "execute_result",
          "data": {
            "text/plain": [
              "array([[-1.71053381, -1.14058733, -0.83894793,  1.41421356, -0.77459667],\n",
              "       [-1.66722916, -0.33841602,  0.42738857,  0.        , -0.77459667],\n",
              "       [-1.62392451, -0.33841602,  0.42738857,  0.        , -0.77459667],\n",
              "       [-1.58061985,  0.06266963, -0.83894793,  1.41421356, -0.77459667],\n",
              "       [-1.5373152 , -1.14058733,  0.42738857,  0.        , -0.77459667]])"
            ]
          },
          "metadata": {
            "tags": []
          },
          "execution_count": 60
        }
      ]
    },
    {
      "cell_type": "code",
      "metadata": {
        "colab": {
          "base_uri": "https://localhost:8080/"
        },
        "id": "9btXfkcZ7vnp",
        "outputId": "14bc358b-a929-4676-f341-6ec5fe538df6"
      },
      "source": [
        "Xc_train, Xc_test, yc_train, yc_test = train_test_split( Xc, yc, test_size=0.2, random_state=15)\r\n",
        "print ('Train set:', Xc_train.shape,  yc_train.shape)\r\n",
        "print ('Test set:', Xc_test.shape,  yc_test.shape)"
      ],
      "execution_count": null,
      "outputs": [
        {
          "output_type": "stream",
          "text": [
            "Train set: (64, 5) (64,)\n",
            "Test set: (16, 5) (16,)\n"
          ],
          "name": "stdout"
        }
      ]
    },
    {
      "cell_type": "code",
      "metadata": {
        "id": "T2NZ2Z-YXPCE",
        "colab": {
          "base_uri": "https://localhost:8080/"
        },
        "outputId": "3e3c4f41-badd-4c70-9003-a834e50196f3"
      },
      "source": [
        "from sklearn.linear_model import LogisticRegression\r\n",
        "from sklearn.metrics import confusion_matrix\r\n",
        "LR = LogisticRegression(C=0.01, solver='liblinear').fit(Xc_train,yc_train)\r\n",
        "LR"
      ],
      "execution_count": null,
      "outputs": [
        {
          "output_type": "execute_result",
          "data": {
            "text/plain": [
              "LogisticRegression(C=0.01, class_weight=None, dual=False, fit_intercept=True,\n",
              "                   intercept_scaling=1, l1_ratio=None, max_iter=100,\n",
              "                   multi_class='auto', n_jobs=None, penalty='l2',\n",
              "                   random_state=None, solver='liblinear', tol=0.0001, verbose=0,\n",
              "                   warm_start=False)"
            ]
          },
          "metadata": {
            "tags": []
          },
          "execution_count": 66
        }
      ]
    },
    {
      "cell_type": "code",
      "metadata": {
        "id": "xu0Pn8HOXR_i",
        "colab": {
          "base_uri": "https://localhost:8080/"
        },
        "outputId": "cb3fea12-1927-439a-912b-a74ee0fa5f7f"
      },
      "source": [
        "ychat = LR.predict(Xc_test)\r\n",
        "ychat"
      ],
      "execution_count": null,
      "outputs": [
        {
          "output_type": "execute_result",
          "data": {
            "text/plain": [
              "array([0, 1, 1, 0, 0, 0, 1, 0, 1, 0, 1, 0, 0, 0, 0, 1])"
            ]
          },
          "metadata": {
            "tags": []
          },
          "execution_count": 67
        }
      ]
    },
    {
      "cell_type": "code",
      "metadata": {
        "id": "mHcxkn8HXVBw",
        "colab": {
          "base_uri": "https://localhost:8080/"
        },
        "outputId": "04de733d-fcab-4702-d204-eb339b21b01a"
      },
      "source": [
        "ychat_prob = LR.predict_proba(Xc_test)\r\n",
        "ychat_prob"
      ],
      "execution_count": null,
      "outputs": [
        {
          "output_type": "execute_result",
          "data": {
            "text/plain": [
              "array([[0.54661234, 0.45338766],\n",
              "       [0.49987081, 0.50012919],\n",
              "       [0.49431873, 0.50568127],\n",
              "       [0.54154441, 0.45845559],\n",
              "       [0.50282342, 0.49717658],\n",
              "       [0.50686235, 0.49313765],\n",
              "       [0.48428898, 0.51571102],\n",
              "       [0.51343921, 0.48656079],\n",
              "       [0.48823566, 0.51176434],\n",
              "       [0.5088977 , 0.4911023 ],\n",
              "       [0.48972682, 0.51027318],\n",
              "       [0.54005342, 0.45994658],\n",
              "       [0.54403465, 0.45596535],\n",
              "       [0.53439159, 0.46560841],\n",
              "       [0.50368927, 0.49631073],\n",
              "       [0.47412051, 0.52587949]])"
            ]
          },
          "metadata": {
            "tags": []
          },
          "execution_count": 68
        }
      ]
    },
    {
      "cell_type": "markdown",
      "metadata": {
        "id": "aqySkDcwb_E0"
      },
      "source": [
        "Evaluation"
      ]
    },
    {
      "cell_type": "code",
      "metadata": {
        "id": "6KaXZpmJXXsH",
        "colab": {
          "base_uri": "https://localhost:8080/"
        },
        "outputId": "57dbb489-5c27-481e-b880-ec8c0ce6aaff"
      },
      "source": [
        "from sklearn.metrics import jaccard_similarity_score\r\n",
        "jaccard_similarity_score(yc_test, ychat)"
      ],
      "execution_count": null,
      "outputs": [
        {
          "output_type": "stream",
          "text": [
            "/usr/local/lib/python3.6/dist-packages/sklearn/metrics/_classification.py:664: FutureWarning: jaccard_similarity_score has been deprecated and replaced with jaccard_score. It will be removed in version 0.23. This implementation has surprising behavior for binary and multiclass classification tasks.\n",
            "  FutureWarning)\n"
          ],
          "name": "stderr"
        },
        {
          "output_type": "execute_result",
          "data": {
            "text/plain": [
              "0.75"
            ]
          },
          "metadata": {
            "tags": []
          },
          "execution_count": 69
        }
      ]
    },
    {
      "cell_type": "code",
      "metadata": {
        "id": "GzlJaVUkXat3",
        "colab": {
          "base_uri": "https://localhost:8080/"
        },
        "outputId": "a9b95f15-19f0-4566-9a23-aa26a4938752"
      },
      "source": [
        "acc_LR = metrics.accuracy_score(yc_test, ychat)\r\n",
        "prec_LR = metrics.precision_score(yc_test, ychat)\r\n",
        "rec_LR = metrics.recall_score(yc_test, ychat)\r\n",
        "f1_LR = metrics.f1_score(yc_test, ychat)\r\n",
        "kappa_LR = metrics.cohen_kappa_score(yc_test, ychat)\r\n",
        "print(\"Accuracy:\", acc_LR)\r\n",
        "print(\"Precision:\", prec_LR)\r\n",
        "print(\"Recall:\", rec_LR)\r\n",
        "print(\"F1 Score:\", f1_LR)\r\n",
        "print(\"Cohens Kappa Score:\", kappa_LR)"
      ],
      "execution_count": null,
      "outputs": [
        {
          "output_type": "stream",
          "text": [
            "Accuracy: 0.75\n",
            "Precision: 0.8333333333333334\n",
            "Recall: 0.625\n",
            "F1 Score: 0.7142857142857143\n",
            "Cohens Kappa Score: 0.5\n"
          ],
          "name": "stdout"
        }
      ]
    },
    {
      "cell_type": "code",
      "metadata": {
        "id": "-cL9BZSXXexp",
        "colab": {
          "base_uri": "https://localhost:8080/"
        },
        "outputId": "fa3e857a-653b-49f3-8f97-ecd5afe937ff"
      },
      "source": [
        "from sklearn.metrics import classification_report, confusion_matrix\r\n",
        "import itertools\r\n",
        "def plot_confusion_matrix(cm, classes,\r\n",
        "                          normalize=False,\r\n",
        "                          title='Confusion matrix',\r\n",
        "                          cmap=plt.cm.Blues):\r\n",
        "    \"\"\"\r\n",
        "    This function prints and plots the confusion matrix.\r\n",
        "    Normalization can be applied by setting `normalize=True`.\r\n",
        "    \"\"\"\r\n",
        "    if normalize:\r\n",
        "        cm = cm.astype('float') / cm.sum(axis=1)[:, np.newaxis]\r\n",
        "        print(\"Normalized confusion matrix\")\r\n",
        "    else:\r\n",
        "        print('Confusion matrix, without normalization')\r\n",
        "\r\n",
        "    print(cm)\r\n",
        "\r\n",
        "    plt.imshow(cm, interpolation='nearest', cmap=cmap)\r\n",
        "    plt.title(title)\r\n",
        "    plt.colorbar()\r\n",
        "    tick_marks = np.arange(len(classes))\r\n",
        "    plt.xticks(tick_marks, classes, rotation=45)\r\n",
        "    plt.yticks(tick_marks, classes)\r\n",
        "\r\n",
        "    fmt = '.2f' if normalize else 'd'\r\n",
        "    thresh = cm.max() / 2.\r\n",
        "    for i, j in itertools.product(range(cm.shape[0]), range(cm.shape[1])):\r\n",
        "        plt.text(j, i, format(cm[i, j], fmt),\r\n",
        "                 horizontalalignment=\"center\",\r\n",
        "                 color=\"white\" if cm[i, j] > thresh else \"black\")\r\n",
        "\r\n",
        "    plt.tight_layout()\r\n",
        "    plt.ylabel('True label')\r\n",
        "    plt.xlabel('Predicted label')\r\n",
        "print(confusion_matrix(yc_test, ychat, labels=[1,0]))"
      ],
      "execution_count": null,
      "outputs": [
        {
          "output_type": "stream",
          "text": [
            "[[5 3]\n",
            " [1 7]]\n"
          ],
          "name": "stdout"
        }
      ]
    },
    {
      "cell_type": "markdown",
      "metadata": {
        "id": "x0LVL8OXcBvB"
      },
      "source": [
        "Confusion Matrix"
      ]
    },
    {
      "cell_type": "code",
      "metadata": {
        "id": "XKiKErUdXkhA",
        "colab": {
          "base_uri": "https://localhost:8080/",
          "height": 367
        },
        "outputId": "899d57ba-d7ca-46ae-c690-1e95120c2c63"
      },
      "source": [
        "# Compute confusion matrix\r\n",
        "cnf_matrix = confusion_matrix(yc_test, ychat, labels=[1,0])\r\n",
        "np.set_printoptions(precision=2)\r\n",
        "\r\n",
        "\r\n",
        "# Plot non-normalized confusion matrix\r\n",
        "plt.figure()\r\n",
        "plot_confusion_matrix(cnf_matrix, classes=['Melahirkan Normal=1','Melahirkan Normal=0'],normalize= False,  title='Confusion matrix')"
      ],
      "execution_count": null,
      "outputs": [
        {
          "output_type": "stream",
          "text": [
            "Confusion matrix, without normalization\n",
            "[[5 3]\n",
            " [1 7]]\n"
          ],
          "name": "stdout"
        },
        {
          "output_type": "display_data",
          "data": {
            "image/png": "[encoded data removed]",
            "text/plain": [
              "<Figure size 432x288 with 2 Axes>"
            ]
          },
          "metadata": {
            "tags": [],
            "needs_background": "light"
          }
        }
      ]
    },
    {
      "cell_type": "code",
      "metadata": {
        "id": "T0JhuT3KX15O"
      },
      "source": [
        "print (classification_report(y_test, yhat))"
      ],
      "execution_count": null,
      "outputs": []
    },
    {
      "cell_type": "markdown",
      "metadata": {
        "id": "at7RyZJpcFhT"
      },
      "source": [
        "Log loss"
      ]
    },
    {
      "cell_type": "code",
      "metadata": {
        "id": "gCGlQnVUX6d4"
      },
      "source": [
        "from sklearn.metrics import log_loss\r\n",
        "log_loss(yc_test, ychat_prob)"
      ],
      "execution_count": null,
      "outputs": []
    },
    {
      "cell_type": "code",
      "metadata": {
        "id": "rcePFZDoX7XF",
        "colab": {
          "base_uri": "https://localhost:8080/",
          "height": 295
        },
        "outputId": "ba271379-c9b0-4086-de4a-869e74a949b8"
      },
      "source": [
        "# ROC Curve\r\n",
        "ychat_prob = LR.predict_proba(Xc_test) [::,1]\r\n",
        "fprLR, tprLR, _ = metrics.roc_curve(yc_test,  ychat_prob)\r\n",
        "auclr = metrics.roc_auc_score(yc_test, ychat_prob)\r\n",
        "plt.plot(fprLR,tprLR,label=\"Logistic Regression, auc=\"+str(auclr), color=\"orange\")\r\n",
        "plt.title('ROC Curve - Logistic Regression')\r\n",
        "plt.xlabel('false positive rate') \r\n",
        "plt.ylabel('true positive rate')\r\n",
        "plt.legend(loc=4)\r\n",
        "\r\n",
        "plt.show()"
      ],
      "execution_count": null,
      "outputs": [
        {
          "output_type": "display_data",
          "data": {
            "image/png": "[encoded data removed]",
            "text/plain": [
              "<Figure size 432x288 with 1 Axes>"
            ]
          },
          "metadata": {
            "tags": [],
            "needs_background": "light"
          }
        }
      ]
    }
  ]
}