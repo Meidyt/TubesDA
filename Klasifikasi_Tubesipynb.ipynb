{
  "nbformat": 4,
  "nbformat_minor": 0,
  "metadata": {
    "colab": {
      "name": "Klasifikasi_Tubesipynb",
      "provenance": [],
      "collapsed_sections": [
        "79SHDOcENAdu"
      ],
      "include_colab_link": true
    },
    "kernelspec": {
      "display_name": "Python 3",
      "language": "python",
      "name": "python3"
    },
    "language_info": {
      "codemirror_mode": {
        "name": "ipython",
        "version": 3
      },
      "file_extension": ".py",
      "mimetype": "text/x-python",
      "name": "python",
      "nbconvert_exporter": "python",
      "pygments_lexer": "ipython3",
      "version": "3.6.9"
    }
  },
  "cells": [
    {
      "cell_type": "markdown",
      "metadata": {
        "id": "view-in-github",
        "colab_type": "text"
      },
      "source": [
        "<a href=\"https://colab.research.google.com/github/Meidyt/TubesDA/blob/main/Klasifikasi_Tubesipynb.ipynb\" target=\"_parent\"><img src=\"https://colab.research.google.com/assets/colab-badge.svg\" alt=\"Open In Colab\"/></a>"
      ]
    },
    {
      "cell_type": "markdown",
      "metadata": {
        "id": "nvXLjhPgYD0H"
      },
      "source": [
        "# Kelompok 1 / TI-41-10\r\n",
        "\r\n",
        "\r\n",
        "*   Meidy Tataluckyta (1201170233)\r\n",
        "* Grace Elfrida (1201170348)\r\n",
        "* Muhammad Sohibul Wafa (1201174286)\r\n",
        "*Ghifari N (1201174073)"
      ]
    },
    {
      "cell_type": "markdown",
      "metadata": {
        "id": "6XeGssmoPneU"
      },
      "source": [
        "# CLASSIFICATION"
      ]
    },
    {
      "cell_type": "markdown",
      "metadata": {
        "id": "3fAKR-zPJD8d"
      },
      "source": [
        "klasifikasi adalah masuk ke dalam supervised learning, dimana data melalui proses training. Pada kali ini pula, digunakan 3 model yang berbeda dimana komponen tiap modelnya berbeda namun dalam pengelompokannya dibagi berdasarkan cross validation pada modelnya, ada model yang menggunakan CV 2, 3 dan tanpa CV. Ketiga model tersebut akan dibandingkan tingkat akurasinya. \r\n"
      ]
    },
    {
      "cell_type": "markdown",
      "metadata": {
        "id": "79SHDOcENAdu"
      },
      "source": [
        "## Import Libraries"
      ]
    },
    {
      "cell_type": "code",
      "metadata": {
        "id": "oOCDQAoVro9R"
      },
      "source": [
        "import os\n",
        "import sys\n",
        "\n",
        "import pandas as pd\n",
        "import numpy as np\n",
        "\n",
        "import seaborn as sns\n",
        "import matplotlib.pyplot as plt\n",
        "%matplotlib inline\n",
        "\n",
        "from sklearn.metrics import classification_report, f1_score, accuracy_score,\\\n",
        "                            confusion_matrix\n",
        "                          \n",
        "\n"
      ],
      "execution_count": 40,
      "outputs": []
    },
    {
      "cell_type": "code",
      "metadata": {
        "colab": {
          "base_uri": "https://localhost:8080/",
          "height": 206
        },
        "id": "p8BB2F7wr31o",
        "outputId": "2191e631-e072-45ee-a260-5e0a071d3c23"
      },
      "source": [
        "df = pd.read_csv('https://raw.githubusercontent.com/Meidyt/TubesDA/main/Dataset.csv', sep = ',')\n",
        "df\n",
        "df.head()"
      ],
      "execution_count": 41,
      "outputs": [
        {
          "output_type": "execute_result",
          "data": {
            "text/html": [
              "<div>\n",
              "<style scoped>\n",
              "    .dataframe tbody tr th:only-of-type {\n",
              "        vertical-align: middle;\n",
              "    }\n",
              "\n",
              "    .dataframe tbody tr th {\n",
              "        vertical-align: top;\n",
              "    }\n",
              "\n",
              "    .dataframe thead th {\n",
              "        text-align: right;\n",
              "    }\n",
              "</style>\n",
              "<table border=\"1\" class=\"dataframe\">\n",
              "  <thead>\n",
              "    <tr style=\"text-align: right;\">\n",
              "      <th></th>\n",
              "      <th>ID</th>\n",
              "      <th>Usia</th>\n",
              "      <th>Melahirkan ke-</th>\n",
              "      <th>Waktu Melahirkan</th>\n",
              "      <th>Tekanan Darah</th>\n",
              "      <th>Gangguan Jantung</th>\n",
              "      <th>Melahirkan Normal</th>\n",
              "    </tr>\n",
              "  </thead>\n",
              "  <tbody>\n",
              "    <tr>\n",
              "      <th>0</th>\n",
              "      <td>1</td>\n",
              "      <td>22</td>\n",
              "      <td>1</td>\n",
              "      <td>0</td>\n",
              "      <td>2</td>\n",
              "      <td>0</td>\n",
              "      <td>1</td>\n",
              "    </tr>\n",
              "    <tr>\n",
              "      <th>1</th>\n",
              "      <td>2</td>\n",
              "      <td>26</td>\n",
              "      <td>2</td>\n",
              "      <td>0</td>\n",
              "      <td>1</td>\n",
              "      <td>0</td>\n",
              "      <td>0</td>\n",
              "    </tr>\n",
              "    <tr>\n",
              "      <th>2</th>\n",
              "      <td>3</td>\n",
              "      <td>26</td>\n",
              "      <td>2</td>\n",
              "      <td>1</td>\n",
              "      <td>1</td>\n",
              "      <td>0</td>\n",
              "      <td>1</td>\n",
              "    </tr>\n",
              "    <tr>\n",
              "      <th>3</th>\n",
              "      <td>4</td>\n",
              "      <td>28</td>\n",
              "      <td>1</td>\n",
              "      <td>0</td>\n",
              "      <td>2</td>\n",
              "      <td>0</td>\n",
              "      <td>1</td>\n",
              "    </tr>\n",
              "    <tr>\n",
              "      <th>4</th>\n",
              "      <td>5</td>\n",
              "      <td>22</td>\n",
              "      <td>2</td>\n",
              "      <td>0</td>\n",
              "      <td>1</td>\n",
              "      <td>0</td>\n",
              "      <td>0</td>\n",
              "    </tr>\n",
              "  </tbody>\n",
              "</table>\n",
              "</div>"
            ],
            "text/plain": [
              "   ID  Usia  Melahirkan ke-  ...  Tekanan Darah  Gangguan Jantung  Melahirkan Normal\n",
              "0   1    22               1  ...              2                 0                  1\n",
              "1   2    26               2  ...              1                 0                  0\n",
              "2   3    26               2  ...              1                 0                  1\n",
              "3   4    28               1  ...              2                 0                  1\n",
              "4   5    22               2  ...              1                 0                  0\n",
              "\n",
              "[5 rows x 7 columns]"
            ]
          },
          "metadata": {
            "tags": []
          },
          "execution_count": 41
        }
      ]
    },
    {
      "cell_type": "markdown",
      "metadata": {
        "id": "z4dV4No0NFEp"
      },
      "source": [
        "## Data Preprocessing"
      ]
    },
    {
      "cell_type": "code",
      "metadata": {
        "colab": {
          "base_uri": "https://localhost:8080/"
        },
        "id": "ZpBLdX4F1QIZ",
        "outputId": "20e233e3-66e6-4ec1-ec27-5d216b5d216f"
      },
      "source": [
        "df.shape"
      ],
      "execution_count": 42,
      "outputs": [
        {
          "output_type": "execute_result",
          "data": {
            "text/plain": [
              "(80, 7)"
            ]
          },
          "metadata": {
            "tags": []
          },
          "execution_count": 42
        }
      ]
    },
    {
      "cell_type": "code",
      "metadata": {
        "colab": {
          "base_uri": "https://localhost:8080/"
        },
        "id": "3x1e81sn1YIy",
        "outputId": "7e02fb82-63b9-44a8-9c43-44912881f113"
      },
      "source": [
        "df.info()"
      ],
      "execution_count": 43,
      "outputs": [
        {
          "output_type": "stream",
          "text": [
            "<class 'pandas.core.frame.DataFrame'>\n",
            "RangeIndex: 80 entries, 0 to 79\n",
            "Data columns (total 7 columns):\n",
            " #   Column             Non-Null Count  Dtype\n",
            "---  ------             --------------  -----\n",
            " 0   ID                 80 non-null     int64\n",
            " 1   Usia               80 non-null     int64\n",
            " 2   Melahirkan ke-     80 non-null     int64\n",
            " 3   Waktu Melahirkan   80 non-null     int64\n",
            " 4   Tekanan Darah      80 non-null     int64\n",
            " 5   Gangguan Jantung   80 non-null     int64\n",
            " 6   Melahirkan Normal  80 non-null     int64\n",
            "dtypes: int64(7)\n",
            "memory usage: 4.5 KB\n"
          ],
          "name": "stdout"
        }
      ]
    },
    {
      "cell_type": "code",
      "metadata": {
        "colab": {
          "base_uri": "https://localhost:8080/",
          "height": 300
        },
        "id": "s43e2Pyg1cOI",
        "outputId": "cee9555a-7ff4-4488-e5d1-b2381bb3cb45"
      },
      "source": [
        "df.describe()"
      ],
      "execution_count": 44,
      "outputs": [
        {
          "output_type": "execute_result",
          "data": {
            "text/html": [
              "<div>\n",
              "<style scoped>\n",
              "    .dataframe tbody tr th:only-of-type {\n",
              "        vertical-align: middle;\n",
              "    }\n",
              "\n",
              "    .dataframe tbody tr th {\n",
              "        vertical-align: top;\n",
              "    }\n",
              "\n",
              "    .dataframe thead th {\n",
              "        text-align: right;\n",
              "    }\n",
              "</style>\n",
              "<table border=\"1\" class=\"dataframe\">\n",
              "  <thead>\n",
              "    <tr style=\"text-align: right;\">\n",
              "      <th></th>\n",
              "      <th>ID</th>\n",
              "      <th>Usia</th>\n",
              "      <th>Melahirkan ke-</th>\n",
              "      <th>Waktu Melahirkan</th>\n",
              "      <th>Tekanan Darah</th>\n",
              "      <th>Gangguan Jantung</th>\n",
              "      <th>Melahirkan Normal</th>\n",
              "    </tr>\n",
              "  </thead>\n",
              "  <tbody>\n",
              "    <tr>\n",
              "      <th>count</th>\n",
              "      <td>80.0000</td>\n",
              "      <td>80.000000</td>\n",
              "      <td>80.000000</td>\n",
              "      <td>80.000000</td>\n",
              "      <td>80.000000</td>\n",
              "      <td>80.000000</td>\n",
              "      <td>80.000000</td>\n",
              "    </tr>\n",
              "    <tr>\n",
              "      <th>mean</th>\n",
              "      <td>40.5000</td>\n",
              "      <td>27.687500</td>\n",
              "      <td>1.662500</td>\n",
              "      <td>0.637500</td>\n",
              "      <td>1.000000</td>\n",
              "      <td>0.375000</td>\n",
              "      <td>0.425000</td>\n",
              "    </tr>\n",
              "    <tr>\n",
              "      <th>std</th>\n",
              "      <td>23.2379</td>\n",
              "      <td>5.017927</td>\n",
              "      <td>0.794662</td>\n",
              "      <td>0.815107</td>\n",
              "      <td>0.711568</td>\n",
              "      <td>0.487177</td>\n",
              "      <td>0.497462</td>\n",
              "    </tr>\n",
              "    <tr>\n",
              "      <th>min</th>\n",
              "      <td>1.0000</td>\n",
              "      <td>17.000000</td>\n",
              "      <td>1.000000</td>\n",
              "      <td>0.000000</td>\n",
              "      <td>0.000000</td>\n",
              "      <td>0.000000</td>\n",
              "      <td>0.000000</td>\n",
              "    </tr>\n",
              "    <tr>\n",
              "      <th>25%</th>\n",
              "      <td>20.7500</td>\n",
              "      <td>25.000000</td>\n",
              "      <td>1.000000</td>\n",
              "      <td>0.000000</td>\n",
              "      <td>0.750000</td>\n",
              "      <td>0.000000</td>\n",
              "      <td>0.000000</td>\n",
              "    </tr>\n",
              "    <tr>\n",
              "      <th>50%</th>\n",
              "      <td>40.5000</td>\n",
              "      <td>27.000000</td>\n",
              "      <td>1.000000</td>\n",
              "      <td>0.000000</td>\n",
              "      <td>1.000000</td>\n",
              "      <td>0.000000</td>\n",
              "      <td>0.000000</td>\n",
              "    </tr>\n",
              "    <tr>\n",
              "      <th>75%</th>\n",
              "      <td>60.2500</td>\n",
              "      <td>32.000000</td>\n",
              "      <td>2.000000</td>\n",
              "      <td>1.000000</td>\n",
              "      <td>1.250000</td>\n",
              "      <td>1.000000</td>\n",
              "      <td>1.000000</td>\n",
              "    </tr>\n",
              "    <tr>\n",
              "      <th>max</th>\n",
              "      <td>80.0000</td>\n",
              "      <td>40.000000</td>\n",
              "      <td>4.000000</td>\n",
              "      <td>2.000000</td>\n",
              "      <td>2.000000</td>\n",
              "      <td>1.000000</td>\n",
              "      <td>1.000000</td>\n",
              "    </tr>\n",
              "  </tbody>\n",
              "</table>\n",
              "</div>"
            ],
            "text/plain": [
              "            ID       Usia  ...  Gangguan Jantung  Melahirkan Normal\n",
              "count  80.0000  80.000000  ...         80.000000          80.000000\n",
              "mean   40.5000  27.687500  ...          0.375000           0.425000\n",
              "std    23.2379   5.017927  ...          0.487177           0.497462\n",
              "min     1.0000  17.000000  ...          0.000000           0.000000\n",
              "25%    20.7500  25.000000  ...          0.000000           0.000000\n",
              "50%    40.5000  27.000000  ...          0.000000           0.000000\n",
              "75%    60.2500  32.000000  ...          1.000000           1.000000\n",
              "max    80.0000  40.000000  ...          1.000000           1.000000\n",
              "\n",
              "[8 rows x 7 columns]"
            ]
          },
          "metadata": {
            "tags": []
          },
          "execution_count": 44
        }
      ]
    },
    {
      "cell_type": "code",
      "metadata": {
        "colab": {
          "base_uri": "https://localhost:8080/"
        },
        "id": "EnCQug8u1nyU",
        "outputId": "a913839e-67e7-48fe-f089-b83f2968b08b"
      },
      "source": [
        "df.isna().sum()"
      ],
      "execution_count": 45,
      "outputs": [
        {
          "output_type": "execute_result",
          "data": {
            "text/plain": [
              "ID                   0\n",
              "Usia                 0\n",
              "Melahirkan ke-       0\n",
              "Waktu Melahirkan     0\n",
              "Tekanan Darah        0\n",
              "Gangguan Jantung     0\n",
              "Melahirkan Normal    0\n",
              "dtype: int64"
            ]
          },
          "metadata": {
            "tags": []
          },
          "execution_count": 45
        }
      ]
    },
    {
      "cell_type": "markdown",
      "metadata": {
        "id": "1R0YaI0pAEga"
      },
      "source": [
        "## EDA"
      ]
    },
    {
      "cell_type": "code",
      "metadata": {
        "colab": {
          "base_uri": "https://localhost:8080/",
          "height": 281
        },
        "id": "-rr_62md1tLq",
        "outputId": "1e86b080-a2a2-4098-f07c-551fcdfc710e"
      },
      "source": [
        "eda = df['Melahirkan Normal'].value_counts()\n",
        "eda.plot.bar()"
      ],
      "execution_count": 46,
      "outputs": [
        {
          "output_type": "execute_result",
          "data": {
            "text/plain": [
              "<matplotlib.axes._subplots.AxesSubplot at 0x7ff9524950f0>"
            ]
          },
          "metadata": {
            "tags": []
          },
          "execution_count": 46
        },
        {
          "output_type": "display_data",
          "data": {
            "image/png": "[encoded data removed]",
            "text/plain": [
              "<Figure size 432x288 with 1 Axes>"
            ]
          },
          "metadata": {
            "tags": [],
            "needs_background": "light"
          }
        }
      ]
    },
    {
      "cell_type": "code",
      "metadata": {
        "colab": {
          "base_uri": "https://localhost:8080/",
          "height": 298
        },
        "id": "HBHW0odF12XW",
        "outputId": "19c10769-14c6-4075-a74f-927be9511683"
      },
      "source": [
        "eda = df[['Usia', 'Melahirkan Normal']]\n",
        "sns.boxplot(x=\"Melahirkan Normal\", y=\"Usia\", data=eda)"
      ],
      "execution_count": 47,
      "outputs": [
        {
          "output_type": "execute_result",
          "data": {
            "text/plain": [
              "<matplotlib.axes._subplots.AxesSubplot at 0x7ff95233e940>"
            ]
          },
          "metadata": {
            "tags": []
          },
          "execution_count": 47
        },
        {
          "output_type": "display_data",
          "data": {
            "image/png": "[encoded data removed]",
            "text/plain": [
              "<Figure size 432x288 with 1 Axes>"
            ]
          },
          "metadata": {
            "tags": [],
            "needs_background": "light"
          }
        }
      ]
    },
    {
      "cell_type": "code",
      "metadata": {
        "colab": {
          "base_uri": "https://localhost:8080/",
          "height": 298
        },
        "id": "pfi7z-Qw2FDt",
        "outputId": "b31edc2c-e056-4078-e3fd-0e97891ce3d8"
      },
      "source": [
        "eda = df[['Melahirkan ke-', 'Melahirkan Normal']]\n",
        "sns.boxplot(x=\"Melahirkan Normal\", y=\"Melahirkan ke-\", data=eda)"
      ],
      "execution_count": 48,
      "outputs": [
        {
          "output_type": "execute_result",
          "data": {
            "text/plain": [
              "<matplotlib.axes._subplots.AxesSubplot at 0x7ff9522bdcf8>"
            ]
          },
          "metadata": {
            "tags": []
          },
          "execution_count": 48
        },
        {
          "output_type": "display_data",
          "data": {
            "image/png": "[encoded data removed]",
            "text/plain": [
              "<Figure size 432x288 with 1 Axes>"
            ]
          },
          "metadata": {
            "tags": [],
            "needs_background": "light"
          }
        }
      ]
    },
    {
      "cell_type": "code",
      "metadata": {
        "colab": {
          "base_uri": "https://localhost:8080/",
          "height": 295
        },
        "id": "92mbjZty2NpT",
        "outputId": "e3d12eb5-537c-4c23-d94e-1d993958950b"
      },
      "source": [
        "eda = df[['Melahirkan Normal','Waktu Melahirkan']]\n",
        "eda = pd.crosstab(eda['Waktu Melahirkan'], eda['Melahirkan Normal'])\n",
        "eda.plot.bar(stacked=False)"
      ],
      "execution_count": 49,
      "outputs": [
        {
          "output_type": "execute_result",
          "data": {
            "text/plain": [
              "<matplotlib.axes._subplots.AxesSubplot at 0x7ff952420eb8>"
            ]
          },
          "metadata": {
            "tags": []
          },
          "execution_count": 49
        },
        {
          "output_type": "display_data",
          "data": {
            "image/png": "[encoded data removed]",
            "text/plain": [
              "<Figure size 432x288 with 1 Axes>"
            ]
          },
          "metadata": {
            "tags": [],
            "needs_background": "light"
          }
        }
      ]
    },
    {
      "cell_type": "code",
      "metadata": {
        "colab": {
          "base_uri": "https://localhost:8080/",
          "height": 295
        },
        "id": "SYsY3QAO3LXd",
        "outputId": "b74f4049-772d-43ab-a986-8e7c7b423664"
      },
      "source": [
        "eda = df[['Melahirkan Normal','Tekanan Darah']]\n",
        "eda = pd.crosstab(eda['Tekanan Darah'], eda['Melahirkan Normal'])\n",
        "eda.plot.bar(stacked=False)"
      ],
      "execution_count": 50,
      "outputs": [
        {
          "output_type": "execute_result",
          "data": {
            "text/plain": [
              "<matplotlib.axes._subplots.AxesSubplot at 0x7ff952279ac8>"
            ]
          },
          "metadata": {
            "tags": []
          },
          "execution_count": 50
        },
        {
          "output_type": "display_data",
          "data": {
            "image/png": "[encoded data removed]",
            "text/plain": [
              "<Figure size 432x288 with 1 Axes>"
            ]
          },
          "metadata": {
            "tags": [],
            "needs_background": "light"
          }
        }
      ]
    },
    {
      "cell_type": "code",
      "metadata": {
        "colab": {
          "base_uri": "https://localhost:8080/",
          "height": 295
        },
        "id": "VesV4_h43Smj",
        "outputId": "3cbb2d28-e360-49e2-feb6-0cf64888e83f"
      },
      "source": [
        "eda = df[['Melahirkan Normal','Gangguan Jantung']]\n",
        "eda = pd.crosstab(eda['Gangguan Jantung'], eda['Melahirkan Normal'])\n",
        "eda.plot.bar(stacked=False)"
      ],
      "execution_count": 51,
      "outputs": [
        {
          "output_type": "execute_result",
          "data": {
            "text/plain": [
              "<matplotlib.axes._subplots.AxesSubplot at 0x7ff952273be0>"
            ]
          },
          "metadata": {
            "tags": []
          },
          "execution_count": 51
        },
        {
          "output_type": "display_data",
          "data": {
            "image/png": "[encoded data removed]",
            "text/plain": [
              "<Figure size 432x288 with 1 Axes>"
            ]
          },
          "metadata": {
            "tags": [],
            "needs_background": "light"
          }
        }
      ]
    },
    {
      "cell_type": "markdown",
      "metadata": {
        "id": "J9W4zNBwP5TK"
      },
      "source": [
        "Beberapa visualisasi data diatas dapat digunakan untuk mempermudah melihat berapa banyak data melahirkan normal dan tidak normal pada beberapa label data lainnya. "
      ]
    },
    {
      "cell_type": "code",
      "metadata": {
        "colab": {
          "base_uri": "https://localhost:8080/",
          "height": 206
        },
        "id": "hDTvw4Jp3xAc",
        "outputId": "1eefcbb0-41ca-4aba-81cf-12e6ec46e5d0"
      },
      "source": [
        "df.head()"
      ],
      "execution_count": 52,
      "outputs": [
        {
          "output_type": "execute_result",
          "data": {
            "text/html": [
              "<div>\n",
              "<style scoped>\n",
              "    .dataframe tbody tr th:only-of-type {\n",
              "        vertical-align: middle;\n",
              "    }\n",
              "\n",
              "    .dataframe tbody tr th {\n",
              "        vertical-align: top;\n",
              "    }\n",
              "\n",
              "    .dataframe thead th {\n",
              "        text-align: right;\n",
              "    }\n",
              "</style>\n",
              "<table border=\"1\" class=\"dataframe\">\n",
              "  <thead>\n",
              "    <tr style=\"text-align: right;\">\n",
              "      <th></th>\n",
              "      <th>ID</th>\n",
              "      <th>Usia</th>\n",
              "      <th>Melahirkan ke-</th>\n",
              "      <th>Waktu Melahirkan</th>\n",
              "      <th>Tekanan Darah</th>\n",
              "      <th>Gangguan Jantung</th>\n",
              "      <th>Melahirkan Normal</th>\n",
              "    </tr>\n",
              "  </thead>\n",
              "  <tbody>\n",
              "    <tr>\n",
              "      <th>0</th>\n",
              "      <td>1</td>\n",
              "      <td>22</td>\n",
              "      <td>1</td>\n",
              "      <td>0</td>\n",
              "      <td>2</td>\n",
              "      <td>0</td>\n",
              "      <td>1</td>\n",
              "    </tr>\n",
              "    <tr>\n",
              "      <th>1</th>\n",
              "      <td>2</td>\n",
              "      <td>26</td>\n",
              "      <td>2</td>\n",
              "      <td>0</td>\n",
              "      <td>1</td>\n",
              "      <td>0</td>\n",
              "      <td>0</td>\n",
              "    </tr>\n",
              "    <tr>\n",
              "      <th>2</th>\n",
              "      <td>3</td>\n",
              "      <td>26</td>\n",
              "      <td>2</td>\n",
              "      <td>1</td>\n",
              "      <td>1</td>\n",
              "      <td>0</td>\n",
              "      <td>1</td>\n",
              "    </tr>\n",
              "    <tr>\n",
              "      <th>3</th>\n",
              "      <td>4</td>\n",
              "      <td>28</td>\n",
              "      <td>1</td>\n",
              "      <td>0</td>\n",
              "      <td>2</td>\n",
              "      <td>0</td>\n",
              "      <td>1</td>\n",
              "    </tr>\n",
              "    <tr>\n",
              "      <th>4</th>\n",
              "      <td>5</td>\n",
              "      <td>22</td>\n",
              "      <td>2</td>\n",
              "      <td>0</td>\n",
              "      <td>1</td>\n",
              "      <td>0</td>\n",
              "      <td>0</td>\n",
              "    </tr>\n",
              "  </tbody>\n",
              "</table>\n",
              "</div>"
            ],
            "text/plain": [
              "   ID  Usia  Melahirkan ke-  ...  Tekanan Darah  Gangguan Jantung  Melahirkan Normal\n",
              "0   1    22               1  ...              2                 0                  1\n",
              "1   2    26               2  ...              1                 0                  0\n",
              "2   3    26               2  ...              1                 0                  1\n",
              "3   4    28               1  ...              2                 0                  1\n",
              "4   5    22               2  ...              1                 0                  0\n",
              "\n",
              "[5 rows x 7 columns]"
            ]
          },
          "metadata": {
            "tags": []
          },
          "execution_count": 52
        }
      ]
    },
    {
      "cell_type": "markdown",
      "metadata": {
        "id": "1CFmV2Rnteuj"
      },
      "source": [
        "# MODELING CV 3"
      ]
    },
    {
      "cell_type": "markdown",
      "metadata": {
        "id": "gy-7WKVSVvf6"
      },
      "source": [
        "Pada model kali ini digunakan suatu model dengan cross validation 3. Cross validation ini akan membagi data menjadi beberapa bagian. "
      ]
    },
    {
      "cell_type": "code",
      "metadata": {
        "colab": {
          "base_uri": "https://localhost:8080/"
        },
        "id": "mRkay16l53Dh",
        "outputId": "65e4e342-6371-4128-be94-ad0bb7a598c0"
      },
      "source": [
        "!pip install category_encoders"
      ],
      "execution_count": 62,
      "outputs": [
        {
          "output_type": "stream",
          "text": [
            "Requirement already satisfied: category_encoders in /usr/local/lib/python3.6/dist-packages (2.2.2)\n",
            "Requirement already satisfied: numpy>=1.14.0 in /usr/local/lib/python3.6/dist-packages (from category_encoders) (1.19.4)\n",
            "Requirement already satisfied: statsmodels>=0.9.0 in /usr/local/lib/python3.6/dist-packages (from category_encoders) (0.10.2)\n",
            "Requirement already satisfied: pandas>=0.21.1 in /usr/local/lib/python3.6/dist-packages (from category_encoders) (1.1.5)\n",
            "Requirement already satisfied: scikit-learn>=0.20.0 in /usr/local/lib/python3.6/dist-packages (from category_encoders) (0.22.2.post1)\n",
            "Requirement already satisfied: scipy>=1.0.0 in /usr/local/lib/python3.6/dist-packages (from category_encoders) (1.4.1)\n",
            "Requirement already satisfied: patsy>=0.5.1 in /usr/local/lib/python3.6/dist-packages (from category_encoders) (0.5.1)\n",
            "Requirement already satisfied: pytz>=2017.2 in /usr/local/lib/python3.6/dist-packages (from pandas>=0.21.1->category_encoders) (2018.9)\n",
            "Requirement already satisfied: python-dateutil>=2.7.3 in /usr/local/lib/python3.6/dist-packages (from pandas>=0.21.1->category_encoders) (2.8.1)\n",
            "Requirement already satisfied: joblib>=0.11 in /usr/local/lib/python3.6/dist-packages (from scikit-learn>=0.20.0->category_encoders) (1.0.0)\n",
            "Requirement already satisfied: six in /usr/local/lib/python3.6/dist-packages (from patsy>=0.5.1->category_encoders) (1.15.0)\n"
          ],
          "name": "stdout"
        }
      ]
    },
    {
      "cell_type": "code",
      "metadata": {
        "id": "D92TEhv74tc6"
      },
      "source": [
        "x_columns =['Usia', 'Melahirkan ke-', 'Waktu Melahirkan', 'Tekanan Darah', 'Gangguan Jantung']"
      ],
      "execution_count": 63,
      "outputs": []
    },
    {
      "cell_type": "code",
      "metadata": {
        "colab": {
          "base_uri": "https://localhost:8080/"
        },
        "id": "Vzo8CAFR4gYe",
        "outputId": "77bbc440-cc8d-4040-d418-c30b026f9a27"
      },
      "source": [
        "X = df[x_columns]\n",
        "y = df['Melahirkan Normal']\n",
        "print(X.shape)\n",
        "\n"
      ],
      "execution_count": 64,
      "outputs": [
        {
          "output_type": "stream",
          "text": [
            "(80, 5)\n"
          ],
          "name": "stdout"
        }
      ]
    },
    {
      "cell_type": "code",
      "metadata": {
        "colab": {
          "base_uri": "https://localhost:8080/"
        },
        "id": "bzgph1fc5Ww3",
        "outputId": "99a878e6-2908-423c-98c3-61e0e66d43b3"
      },
      "source": [
        "from category_encoders.leave_one_out  import LeaveOneOutEncoder\n",
        "\n",
        "LOO_enc = LeaveOneOutEncoder(cols=['Usia', 'Melahirkan ke-', 'Waktu Melahirkan', 'Tekanan Darah', 'Gangguan Jantung'])\n",
        "LOO_enc.fit(X,y)"
      ],
      "execution_count": 65,
      "outputs": [
        {
          "output_type": "stream",
          "text": [
            "/usr/local/lib/python3.6/dist-packages/category_encoders/utils.py:21: FutureWarning: is_categorical is deprecated and will be removed in a future version.  Use is_categorical_dtype instead\n",
            "  elif pd.api.types.is_categorical(cols):\n"
          ],
          "name": "stderr"
        },
        {
          "output_type": "execute_result",
          "data": {
            "text/plain": [
              "LeaveOneOutEncoder(cols=['Usia', 'Melahirkan ke-', 'Waktu Melahirkan',\n",
              "                         'Tekanan Darah', 'Gangguan Jantung'],\n",
              "                   drop_invariant=False, handle_missing='value',\n",
              "                   handle_unknown='value', random_state=None, return_df=True,\n",
              "                   sigma=None, verbose=0)"
            ]
          },
          "metadata": {
            "tags": []
          },
          "execution_count": 65
        }
      ]
    },
    {
      "cell_type": "code",
      "metadata": {
        "id": "rMCkT4QK373X"
      },
      "source": [
        "from sklearn.model_selection import train_test_split\n",
        "\n",
        "X_train, X_test, y_train, y_test = train_test_split(\n",
        "     X, y, test_size=0.2, random_state=12)\n",
        "\n"
      ],
      "execution_count": 66,
      "outputs": []
    },
    {
      "cell_type": "code",
      "metadata": {
        "id": "YeSAvM8s4QKz"
      },
      "source": [
        "X_train = LOO_enc.transform(X_train)\n",
        "X_test = LOO_enc.transform(X_test)"
      ],
      "execution_count": 67,
      "outputs": []
    },
    {
      "cell_type": "markdown",
      "metadata": {
        "id": "NYaOb_E9N90K"
      },
      "source": [
        "## Modeling"
      ]
    },
    {
      "cell_type": "markdown",
      "metadata": {
        "id": "RJJ7vhWQ4rWS"
      },
      "source": [
        ">Pada proses modeling, dilakukan terhadap beberapa model klasifikasi yaitu logistic regression, SVM, decision tree, Gaussian Naive Bayes, Random forest classification, dan KNN."
      ]
    },
    {
      "cell_type": "code",
      "metadata": {
        "id": "S7vD9iFu6DZR"
      },
      "source": [
        "from sklearn.tree import DecisionTreeClassifier\n",
        "from sklearn.naive_bayes import GaussianNB\n",
        "from sklearn.ensemble import RandomForestClassifier\n",
        "from sklearn.neighbors import KNeighborsClassifier\n",
        "from sklearn.svm import SVC\n",
        "from sklearn.linear_model import LogisticRegression\n",
        "from sklearn.ensemble import GradientBoostingClassifier"
      ],
      "execution_count": 68,
      "outputs": []
    },
    {
      "cell_type": "code",
      "metadata": {
        "id": "xYehZph_6E0y"
      },
      "source": [
        "log_reg = LogisticRegression()\n",
        "svm = SVC(kernel='rbf', probability=True)\n",
        "dec_tree = DecisionTreeClassifier()\n",
        "gau_nb = GaussianNB(var_smoothing=0.0001)\n",
        "rfc = RandomForestClassifier(n_estimators=150)\n",
        "knn = KNeighborsClassifier(n_neighbors=5)\n",
        "grad_bos = GradientBoostingClassifier()"
      ],
      "execution_count": 69,
      "outputs": []
    },
    {
      "cell_type": "code",
      "metadata": {
        "colab": {
          "base_uri": "https://localhost:8080/"
        },
        "id": "ZPV9gr3C6H-y",
        "outputId": "c6fa605b-9c42-423c-da78-7dde1689c151"
      },
      "source": [
        "svm.fit(X_train, y_train)\n",
        "rfc.fit(X_train, y_train)\n",
        "knn.fit(X_train, y_train)\n",
        "dec_tree.fit(X_train, y_train)\n",
        "gau_nb.fit(X_train, y_train)\n",
        "log_reg.fit(X_train, y_train)\n",
        "grad_bos.fit(X_train, y_train)\n",
        "log_reg.fit(X_train, y_train)\n",
        "grad_bos.fit(X_train, y_train)"
      ],
      "execution_count": 70,
      "outputs": [
        {
          "output_type": "execute_result",
          "data": {
            "text/plain": [
              "GradientBoostingClassifier(ccp_alpha=0.0, criterion='friedman_mse', init=None,\n",
              "                           learning_rate=0.1, loss='deviance', max_depth=3,\n",
              "                           max_features=None, max_leaf_nodes=None,\n",
              "                           min_impurity_decrease=0.0, min_impurity_split=None,\n",
              "                           min_samples_leaf=1, min_samples_split=2,\n",
              "                           min_weight_fraction_leaf=0.0, n_estimators=100,\n",
              "                           n_iter_no_change=None, presort='deprecated',\n",
              "                           random_state=None, subsample=1.0, tol=0.0001,\n",
              "                           validation_fraction=0.1, verbose=0,\n",
              "                           warm_start=False)"
            ]
          },
          "metadata": {
            "tags": []
          },
          "execution_count": 70
        }
      ]
    },
    {
      "cell_type": "code",
      "metadata": {
        "colab": {
          "base_uri": "https://localhost:8080/"
        },
        "id": "2H0CLTK3HiOf",
        "outputId": "b2b75cf3-2e85-4ecf-95de-04f71acddf75"
      },
      "source": [
        "print(f'svm score : {svm.score(X_test,y_test)}')\n",
        "print(f'random forest score : {rfc.score(X_test,y_test)}')\n",
        "print(f'KNN score : {knn.score(X_test,y_test)}')\n",
        "print(f'DecisionTree score : {dec_tree.score(X_test,y_test)}')\n",
        "print(f'Gaussian NB score : {gau_nb.score(X_test,y_test)}')\n",
        "print(f'Logistic Regression score : {log_reg.score(X_test,y_test)}')\n",
        "print(f'Gradient Boosting score : {grad_bos.score(X_test,y_test)}')"
      ],
      "execution_count": 71,
      "outputs": [
        {
          "output_type": "stream",
          "text": [
            "svm score : 0.75\n",
            "random forest score : 0.8125\n",
            "KNN score : 0.75\n",
            "DecisionTree score : 0.75\n",
            "Gaussian NB score : 0.875\n",
            "Logistic Regression score : 0.875\n",
            "Gradient Boosting score : 0.6875\n"
          ],
          "name": "stdout"
        }
      ]
    },
    {
      "cell_type": "code",
      "metadata": {
        "id": "ymerz0ZYHm1A"
      },
      "source": [
        "y_pred_svm = svm.predict(X_test)\n",
        "y_pred_rfc = rfc.predict(X_test)\n",
        "y_pred_knn = knn.predict(X_test)\n",
        "y_pred_dec_tree = dec_tree.predict(X_test)\n",
        "y_pred_gau_nb = gau_nb.predict(X_test)\n",
        "y_pred_log_reg = log_reg.predict(X_test)\n",
        "y_pred_grad_bos = grad_bos.predict(X_test)"
      ],
      "execution_count": 72,
      "outputs": []
    },
    {
      "cell_type": "code",
      "metadata": {
        "colab": {
          "base_uri": "https://localhost:8080/"
        },
        "id": "N3JHWMMJHqwo",
        "outputId": "753e9860-0355-4d6e-dc63-9077361fe4bf"
      },
      "source": [
        "print(f'F Score of SVM : {f1_score(y_test, y_pred_svm)}')\n",
        "print(f'F Score of RFC: {f1_score(y_test, y_pred_rfc)}')\n",
        "print(f'F Score of KNN : {f1_score(y_test, y_pred_knn)}')\n",
        "print(f'F Score of DECTREE : {f1_score(y_test, y_pred_dec_tree)}')\n",
        "print(f'F Score of GAUSNB : {f1_score(y_test, y_pred_gau_nb)}')\n",
        "print(f'F Score of LOGREG : {f1_score(y_test, y_pred_log_reg)}')\n",
        "print(f'F Score of GRADBOS : {f1_score(y_test, y_pred_grad_bos)}')"
      ],
      "execution_count": 73,
      "outputs": [
        {
          "output_type": "stream",
          "text": [
            "F Score of SVM : 0.6\n",
            "F Score of RFC: 0.4\n",
            "F Score of KNN : 0.5\n",
            "F Score of DECTREE : 0.3333333333333333\n",
            "F Score of GAUSNB : 0.8\n",
            "F Score of LOGREG : 0.75\n",
            "F Score of GRADBOS : 0.28571428571428575\n"
          ],
          "name": "stdout"
        }
      ]
    },
    {
      "cell_type": "code",
      "metadata": {
        "colab": {
          "base_uri": "https://localhost:8080/"
        },
        "id": "2Kew_PgpHuiT",
        "outputId": "8c392f11-7a82-4cdc-8ce5-d56a5eeb2a8c"
      },
      "source": [
        "from sklearn.model_selection import cross_val_score\n",
        "\n",
        "cv = 3\n",
        "print(f'CV Score of SVM : {cross_val_score(svm, X_train, y_train, cv=cv, n_jobs=-1)}')\n",
        "print(f'CV Score of RFC: {cross_val_score(rfc, X_train, y_train, cv=cv, n_jobs=-1)}')\n",
        "print(f'CV Score of KNN : {cross_val_score(knn, X_train, y_train, cv=cv, n_jobs=-1)}')\n",
        "print(f'CV Score of DECTREE : {cross_val_score(dec_tree, X_train, y_train, cv=cv, n_jobs=-1)}')\n",
        "print(f'CV Score of GAUSNB : {cross_val_score(gau_nb, X_train, y_train,cv=cv, n_jobs=-1)}')\n",
        "print(f'CV Score of LOGREG : {cross_val_score(log_reg, X_train, y_train, cv=cv, n_jobs=-1)}')\n",
        "print(f'CV Score of GRADBOS : {cross_val_score(grad_bos, X_train, y_train, cv=cv, n_jobs=-1)}')"
      ],
      "execution_count": 74,
      "outputs": [
        {
          "output_type": "stream",
          "text": [
            "CV Score of SVM : [0.77 0.71 0.76]\n",
            "CV Score of RFC: [0.73 0.48 0.62]\n",
            "CV Score of KNN : [0.77 0.57 0.67]\n",
            "CV Score of DECTREE : [0.73 0.52 0.62]\n",
            "CV Score of GAUSNB : [0.77 0.71 0.71]\n",
            "CV Score of LOGREG : [0.68 0.71 0.71]\n",
            "CV Score of GRADBOS : [0.73 0.67 0.67]\n"
          ],
          "name": "stdout"
        }
      ]
    },
    {
      "cell_type": "markdown",
      "metadata": {
        "id": "YuSFuGDN3Ptj"
      },
      "source": [
        ">CV= Cross validation membagi data menjadi beberapa bagian, pada kali ini dibagi menjadi 3 fold. Hasil dari akurasi CV pada logistic regression adalah 68%, 71% dan 71%. "
      ]
    },
    {
      "cell_type": "code",
      "metadata": {
        "colab": {
          "base_uri": "https://localhost:8080/"
        },
        "id": "raLM3DykHzzx",
        "outputId": "c513d1e9-699e-44df-f1b6-45d9ab36a2a5"
      },
      "source": [
        "print(classification_report(y_test, y_pred_log_reg))\n"
      ],
      "execution_count": 75,
      "outputs": [
        {
          "output_type": "stream",
          "text": [
            "              precision    recall  f1-score   support\n",
            "\n",
            "           0       0.92      0.92      0.92        12\n",
            "           1       0.75      0.75      0.75         4\n",
            "\n",
            "    accuracy                           0.88        16\n",
            "   macro avg       0.83      0.83      0.83        16\n",
            "weighted avg       0.88      0.88      0.88        16\n",
            "\n"
          ],
          "name": "stdout"
        }
      ]
    },
    {
      "cell_type": "markdown",
      "metadata": {
        "id": "sPE5AJzTOt1M"
      },
      "source": [
        "Berdasarkan report diatas, dapat dilihat jika akurasi dari logistic regression adalah : logistic regression memiliki tingkat akurasi secara keseluruhan adalah 88% dengan nilai akurasi mengklasifikasikan ke kelas 0 yaitu 92 % dan kelas 1 yaitu 75%\n"
      ]
    },
    {
      "cell_type": "markdown",
      "metadata": {
        "id": "NP2iH3SNIiqf"
      },
      "source": [
        "## Evaluation"
      ]
    },
    {
      "cell_type": "markdown",
      "metadata": {
        "id": "r66S5Db9OEDc"
      },
      "source": [
        "### Confusion Matrix"
      ]
    },
    {
      "cell_type": "code",
      "metadata": {
        "colab": {
          "base_uri": "https://localhost:8080/",
          "height": 437
        },
        "id": "g_gtALy_IGhz",
        "outputId": "3a0b1d06-9fe9-4257-92fb-0e217deee268"
      },
      "source": [
        "conf_matrix1 = confusion_matrix(y_test, y_pred_log_reg)\n",
        "f, ax = plt.subplots(figsize=(10, 6))\n",
        "sns.heatmap(conf_matrix, annot=True, fmt=\"d\", linewidths=.5, ax=ax)\n",
        "plt.title(\"Confusion Matrix Logistic Regression\", fontsize=20)\n",
        "plt.subplots_adjust(left=0.15, right=0.99, bottom=0.15, top=0.99)\n",
        "ax.set_yticks(np.arange(conf_matrix.shape[0]) + 0.5, minor=False)\n",
        "ax.set_xticklabels(['Melahirkan Normal', 'Melahirkan Tidak Normal'], fontsize=16)\n",
        "ax.set_yticklabels(['Melahirkan Normal', 'Melahirkan Tidak Normal'], fontsize=16, rotation=360)\n",
        "plt.show()"
      ],
      "execution_count": 76,
      "outputs": [
        {
          "output_type": "display_data",
          "data": {
            "image/png": "[encoded data removed]",
            "text/plain": [
              "<Figure size 720x432 with 2 Axes>"
            ]
          },
          "metadata": {
            "tags": [],
            "needs_background": "light"
          }
        }
      ]
    },
    {
      "cell_type": "markdown",
      "metadata": {
        "id": "qz4hz93S3-hQ"
      },
      "source": [
        "> Berdasarkan confusion matrix dapat dilihat seberapa tepatkah model ini mengklasifikasikan data. 11 data melahirkan normal diklasifikasikan dengan benar dan 1 nya salah serta 3 data melahirkan tidak normal diklasifikasikan dengan benar dan 1 data diklasifikasikan salah. "
      ]
    },
    {
      "cell_type": "markdown",
      "metadata": {
        "id": "aq7f5xZHOKse"
      },
      "source": [
        "### ROC Curve"
      ]
    },
    {
      "cell_type": "code",
      "metadata": {
        "colab": {
          "base_uri": "https://localhost:8080/",
          "height": 295
        },
        "id": "HRgxZY6kIdqj",
        "outputId": "40f5a54a-88db-438a-9082-8f95f0f982c8"
      },
      "source": [
        "from sklearn import metrics\n",
        "\n",
        "y_pred_svm_proba = svm.predict_proba(X_test)\n",
        "y_pred_rfc_proba = rfc.predict_proba(X_test)\n",
        "y_pred_knn_proba = knn.predict_proba(X_test)\n",
        "y_pred_dec_tree_proba = dec_tree.predict_proba(X_test)\n",
        "y_pred_gau_nb_proba = gau_nb.predict_proba(X_test)\n",
        "y_pred_log_reg_proba = log_reg.predict_proba(X_test)\n",
        "y_pred_grad_bos_proba = grad_bos.predict_proba(X_test)\n",
        "\n",
        "y_preds_svm = y_pred_svm_proba[:,1]\n",
        "y_preds_rfc = y_pred_rfc_proba[:,1]\n",
        "y_preds_knn = y_pred_knn_proba[:,1]\n",
        "y_preds_dectree = y_pred_dec_tree_proba[:,1]\n",
        "y_preds_gaunb = y_pred_gau_nb_proba[:,1]\n",
        "y_preds_logreg = y_pred_log_reg_proba[:,1]\n",
        "y_preds_gradbos = y_pred_grad_bos_proba[:,1]\n",
        "\n",
        "fpr_svm, tpr_svm, threshold_svm = metrics.roc_curve(y_test, y_preds_svm)\n",
        "roc_auc_svm = metrics.auc(fpr_svm, tpr_svm)\n",
        "fpr_rfc, tpr_rfc, threshold = metrics.roc_curve(y_test, y_preds_rfc)\n",
        "roc_auc_rfc = metrics.auc(fpr_rfc, tpr_rfc)\n",
        "fpr_knn, tpr_knn, threshold = metrics.roc_curve(y_test, y_preds_knn)\n",
        "roc_auc_knn = metrics.auc(fpr_knn, tpr_knn)\n",
        "fpr_dectree, tpr_dectree, threshold = metrics.roc_curve(y_test, y_preds_dectree)\n",
        "roc_auc_dectree = metrics.auc(fpr_dectree, tpr_dectree)\n",
        "fpr_gaunb, tpr_gaunb, threshold = metrics.roc_curve(y_test, y_preds_gaunb)\n",
        "roc_auc_gaunb = metrics.auc(fpr_gaunb, tpr_gaunb)\n",
        "fpr_logreg, tpr_logreg, threshold = metrics.roc_curve(y_test, y_preds_logreg)\n",
        "roc_auc_logreg = metrics.auc(fpr_logreg, tpr_logreg)\n",
        "fpr_gradbos, tpr_gradbos, threshold = metrics.roc_curve(y_test, y_preds_gradbos)\n",
        "roc_auc_grabos = metrics.auc(fpr_gradbos, tpr_gradbos)\n",
        "\n",
        "plt.title('Receiver Operating Characteristic')\n",
        "plt.plot(fpr_svm, tpr_svm, label = 'AUC SVM = %0.2f' % roc_auc_svm)\n",
        "plt.plot(fpr_rfc, tpr_rfc, label = 'AUC RFC = %0.2f' % roc_auc_rfc)\n",
        "plt.plot(fpr_knn, tpr_knn, label = 'AUC KNN = %0.2f' % roc_auc_knn)\n",
        "plt.plot(fpr_dectree, tpr_dectree, label = 'AUC DecTree = %0.2f' % roc_auc_dectree)\n",
        "plt.plot(fpr_gaunb, tpr_gaunb, label = 'AUC GausNB = %0.2f' % roc_auc_gaunb)\n",
        "plt.plot(fpr_logreg, tpr_logreg, label = 'AUC LogReg = %0.2f' % roc_auc_logreg)\n",
        "plt.plot(fpr_gradbos, tpr_gradbos, label = 'AUC GradBos = %0.2f' % roc_auc_grabos)\n",
        "\n",
        "plt.legend(loc = 'lower right')\n",
        "plt.plot([0, 1], [0, 1],'r--')\n",
        "plt.xlim([-0.01, 1])\n",
        "plt.ylim([0, 1.01])\n",
        "plt.ylabel('True Positive Rate')\n",
        "plt.xlabel('False Positive Rate')\n",
        "plt.show()"
      ],
      "execution_count": 77,
      "outputs": [
        {
          "output_type": "display_data",
          "data": {
            "image/png": "[encoded data removed]",
            "text/plain": [
              "<Figure size 432x288 with 1 Axes>"
            ]
          },
          "metadata": {
            "tags": [],
            "needs_background": "light"
          }
        }
      ]
    },
    {
      "cell_type": "markdown",
      "metadata": {
        "id": "XUmvepzh4ZGt"
      },
      "source": [
        ">Kurva ROC adalah cara lain selain confusion matrix untuk mengukur performansi suatu model. Pada kurva ROC dapat dilihat jika logistic regression memiliki nilai TPR lebih tinggi dibandingkan dengan model lainnya sehingga nilai AUC nya juga tinggi yaitu 96%. "
      ]
    },
    {
      "cell_type": "markdown",
      "metadata": {
        "id": "wfp3NYlhOILq"
      },
      "source": [
        "### Log Loss"
      ]
    },
    {
      "cell_type": "code",
      "metadata": {
        "colab": {
          "base_uri": "https://localhost:8080/"
        },
        "id": "0p4HM-yBLGAl",
        "outputId": "64c14ac6-f5f2-41a3-fda1-cd02571ef077"
      },
      "source": [
        "from sklearn.metrics import log_loss\n",
        "log_loss(y_test, y_pred_log_reg_proba)"
      ],
      "execution_count": 78,
      "outputs": [
        {
          "output_type": "execute_result",
          "data": {
            "text/plain": [
              "0.5270724822679563"
            ]
          },
          "metadata": {
            "tags": []
          },
          "execution_count": 78
        }
      ]
    },
    {
      "cell_type": "markdown",
      "metadata": {
        "id": "yayj9XWdthPS"
      },
      "source": [
        "# MODELING CV 2"
      ]
    },
    {
      "cell_type": "code",
      "metadata": {
        "colab": {
          "base_uri": "https://localhost:8080/"
        },
        "id": "6YzRNhJatjfN",
        "outputId": "38af71b4-3c6b-45db-8d8a-f72f92283665"
      },
      "source": [
        "Xb = np.asarray(df[['ID', 'Usia', 'Melahirkan ke-', 'Tekanan Darah', 'Gangguan Jantung']])\n",
        "Xb[0:5]"
      ],
      "execution_count": 83,
      "outputs": [
        {
          "output_type": "execute_result",
          "data": {
            "text/plain": [
              "array([[ 1, 22,  1,  2,  0],\n",
              "       [ 2, 26,  2,  1,  0],\n",
              "       [ 3, 26,  2,  1,  0],\n",
              "       [ 4, 28,  1,  2,  0],\n",
              "       [ 5, 22,  2,  1,  0]])"
            ]
          },
          "metadata": {
            "tags": []
          },
          "execution_count": 83
        }
      ]
    },
    {
      "cell_type": "code",
      "metadata": {
        "colab": {
          "base_uri": "https://localhost:8080/"
        },
        "id": "awJDQYFcuGe7",
        "outputId": "ef25b730-4807-4634-8df0-eab561b259ce"
      },
      "source": [
        "yb = np.asarray(df['Melahirkan Normal'])\n",
        "yb [0:5]"
      ],
      "execution_count": 84,
      "outputs": [
        {
          "output_type": "execute_result",
          "data": {
            "text/plain": [
              "array([1, 0, 1, 1, 0])"
            ]
          },
          "metadata": {
            "tags": []
          },
          "execution_count": 84
        }
      ]
    },
    {
      "cell_type": "code",
      "metadata": {
        "colab": {
          "base_uri": "https://localhost:8080/"
        },
        "id": "2bdd-5nOuP3B",
        "outputId": "1e7b0910-d962-459e-a8a0-714794bf82af"
      },
      "source": [
        "from sklearn import preprocessing\n",
        "Xb = preprocessing.StandardScaler().fit(Xb).transform(Xb)\n",
        "Xb[0:5]"
      ],
      "execution_count": 85,
      "outputs": [
        {
          "output_type": "execute_result",
          "data": {
            "text/plain": [
              "array([[-1.71, -1.14, -0.84,  1.41, -0.77],\n",
              "       [-1.67, -0.34,  0.43,  0.  , -0.77],\n",
              "       [-1.62, -0.34,  0.43,  0.  , -0.77],\n",
              "       [-1.58,  0.06, -0.84,  1.41, -0.77],\n",
              "       [-1.54, -1.14,  0.43,  0.  , -0.77]])"
            ]
          },
          "metadata": {
            "tags": []
          },
          "execution_count": 85
        }
      ]
    },
    {
      "cell_type": "code",
      "metadata": {
        "colab": {
          "base_uri": "https://localhost:8080/"
        },
        "id": "MBbAGc4SuWdz",
        "outputId": "961bd80a-8330-457d-c3e2-72c8e80e42eb"
      },
      "source": [
        "from sklearn.model_selection import train_test_split\n",
        "from sklearn.linear_model import LogisticRegression\n",
        "\n",
        "Xb_train, Xb_test, yb_train, yb_test = train_test_split( Xb, yb, test_size=0.2, random_state=15)\n",
        "print ('Train set:', Xb_train.shape,  yb_train.shape)\n",
        "print ('Test set:', Xb_test.shape,  yb_test.shape)"
      ],
      "execution_count": 86,
      "outputs": [
        {
          "output_type": "stream",
          "text": [
            "Train set: (64, 5) (64,)\n",
            "Test set: (16, 5) (16,)\n"
          ],
          "name": "stdout"
        }
      ]
    },
    {
      "cell_type": "code",
      "metadata": {
        "colab": {
          "base_uri": "https://localhost:8080/"
        },
        "id": "-VKVa8lBuhnE",
        "outputId": "ddf3ccde-a9b4-4214-e2a7-609dcad27a0c"
      },
      "source": [
        "from sklearn.ensemble import RandomForestClassifier\n",
        "from sklearn.model_selection import RandomizedSearchCV\n",
        "\n",
        "n_estimators = [int(xb) for xb in np.linspace(start=200, stop=2000, num=10)]\n",
        "max_features = ['auto', 'sqrt']\n",
        "max_depth = [int(xb) for xb in np.linspace(10, 110, num=11)]\n",
        "max_depth.append(None)\n",
        "min_samples_split = [2, 5, 10]\n",
        "min_samples_leaf = [1, 2, 4]\n",
        "bootstrap = [True, False]\n",
        "\n",
        "random_grid = {'n_estimators': n_estimators, 'max_features': max_features,\n",
        "               'max_depth': max_depth, 'min_samples_split': min_samples_split,\n",
        "               'min_samples_leaf': min_samples_leaf, 'bootstrap': bootstrap}\n",
        "\n",
        "rf_clf = RandomForestClassifier(random_state=42)\n",
        "\n",
        "rf_cv = RandomizedSearchCV(estimator=rf_clf, scoring='f1',param_distributions=random_grid, n_iter=10, cv=2, \n",
        "                               verbose=2, random_state=42, n_jobs=-1)\n",
        "\n",
        "rf_cv.fit(Xb_train, yb_train)\n",
        "rf_best_params = rf_cv.best_params_\n",
        "print(f\"Best paramters: {rf_best_params})\")\n",
        "\n",
        "rf_clf = RandomForestClassifier(**rf_best_params)\n",
        "rf_clf.fit(Xb_train, yb_train)"
      ],
      "execution_count": 87,
      "outputs": [
        {
          "output_type": "stream",
          "text": [
            "Fitting 2 folds for each of 10 candidates, totalling 20 fits\n"
          ],
          "name": "stdout"
        },
        {
          "output_type": "stream",
          "text": [
            "[Parallel(n_jobs=-1)]: Using backend LokyBackend with 2 concurrent workers.\n",
            "[Parallel(n_jobs=-1)]: Done  20 out of  20 | elapsed:   19.2s finished\n"
          ],
          "name": "stderr"
        },
        {
          "output_type": "stream",
          "text": [
            "Best paramters: {'n_estimators': 600, 'min_samples_split': 2, 'min_samples_leaf': 2, 'max_features': 'auto', 'max_depth': 60, 'bootstrap': False})\n"
          ],
          "name": "stdout"
        },
        {
          "output_type": "execute_result",
          "data": {
            "text/plain": [
              "RandomForestClassifier(bootstrap=False, ccp_alpha=0.0, class_weight=None,\n",
              "                       criterion='gini', max_depth=60, max_features='auto',\n",
              "                       max_leaf_nodes=None, max_samples=None,\n",
              "                       min_impurity_decrease=0.0, min_impurity_split=None,\n",
              "                       min_samples_leaf=2, min_samples_split=2,\n",
              "                       min_weight_fraction_leaf=0.0, n_estimators=600,\n",
              "                       n_jobs=None, oob_score=False, random_state=None,\n",
              "                       verbose=0, warm_start=False)"
            ]
          },
          "metadata": {
            "tags": []
          },
          "execution_count": 87
        }
      ]
    },
    {
      "cell_type": "code",
      "metadata": {
        "colab": {
          "base_uri": "https://localhost:8080/"
        },
        "id": "VBzW-gmDuwJL",
        "outputId": "93d214ba-1efe-4d8c-c6f0-66da6ac85932"
      },
      "source": [
        "from sklearn.metrics import accuracy_score, confusion_matrix, classification_report\n",
        "\n",
        "def print_score(clf, Xb_train, yb_train, Xb_test, yb_test, train=True):\n",
        "    if train:\n",
        "        pred = clf.predict(Xb_train)\n",
        "        clf_report = pd.DataFrame(classification_report(yb_train, pred, output_dict=True))\n",
        "        print(\"Train Result:\\n================================================\")\n",
        "        print(f\"Accuracy Score: {accuracy_score(yb_train, pred) * 100:.2f}%\")\n",
        "        print(\"_______________________________________________\")\n",
        "        print(f\"CLASSIFICATION REPORT:\\n{clf_report}\")\n",
        "        print(\"_______________________________________________\")\n",
        "        print(f\"Confusion Matrix: \\n {confusion_matrix(yb_train, pred)}\\n\")\n",
        "        \n",
        "    elif train==False:\n",
        "        pred = clf.predict(Xb_test)\n",
        "        clf_report = pd.DataFrame(classification_report(yb_test, pred, output_dict=True))\n",
        "        print(\"Test Result:\\n================================================\")        \n",
        "        print(f\"Accuracy Score: {accuracy_score(yb_test, pred) * 100:.2f}%\")\n",
        "        print(\"_______________________________________________\")\n",
        "        print(f\"CLASSIFICATION REPORT:\\n{clf_report}\")\n",
        "        print(\"_______________________________________________\")\n",
        "        print(f\"Confusion Matrix: \\n {confusion_matrix(yb_test, pred)}\\n\")\n",
        "    return pred\n",
        "\n",
        "pred1 = print_score(rf_clf, Xb_train, yb_train, Xb_test, yb_test, train=True)\n",
        "\n",
        "pred2 = print_score(rf_clf, Xb_train, yb_train, Xb_test, yb_test, train=False)\n"
      ],
      "execution_count": 88,
      "outputs": [
        {
          "output_type": "stream",
          "text": [
            "Train Result:\n",
            "================================================\n",
            "Accuracy Score: 98.44%\n",
            "_______________________________________________\n",
            "CLASSIFICATION REPORT:\n",
            "                   0          1  accuracy  macro avg  weighted avg\n",
            "precision   0.974359   1.000000  0.984375   0.987179      0.984776\n",
            "recall      1.000000   0.961538  0.984375   0.980769      0.984375\n",
            "f1-score    0.987013   0.980392  0.984375   0.983703      0.984323\n",
            "support    38.000000  26.000000  0.984375  64.000000     64.000000\n",
            "_______________________________________________\n",
            "Confusion Matrix: \n",
            " [[38  0]\n",
            " [ 1 25]]\n",
            "\n",
            "Test Result:\n",
            "================================================\n",
            "Accuracy Score: 68.75%\n",
            "_______________________________________________\n",
            "CLASSIFICATION REPORT:\n",
            "                  0         1  accuracy  macro avg  weighted avg\n",
            "precision  0.666667  0.714286    0.6875   0.690476      0.690476\n",
            "recall     0.750000  0.625000    0.6875   0.687500      0.687500\n",
            "f1-score   0.705882  0.666667    0.6875   0.686275      0.686275\n",
            "support    8.000000  8.000000    0.6875  16.000000     16.000000\n",
            "_______________________________________________\n",
            "Confusion Matrix: \n",
            " [[6 2]\n",
            " [3 5]]\n",
            "\n"
          ],
          "name": "stdout"
        }
      ]
    },
    {
      "cell_type": "markdown",
      "metadata": {
        "id": "fUqzJU-5WBmQ"
      },
      "source": [
        "## Evaluation"
      ]
    },
    {
      "cell_type": "code",
      "metadata": {
        "colab": {
          "base_uri": "https://localhost:8080/",
          "height": 437
        },
        "id": "8Ga3S7LYPNzq",
        "outputId": "d69a8838-cf83-4f3b-ffd1-72944cddc810"
      },
      "source": [
        "conf_matrix2 = confusion_matrix(yb_test, pred2)\r\n",
        "f, ax = plt.subplots(figsize=(10, 6))\r\n",
        "sns.heatmap(conf_matrix, annot=True, fmt=\"d\", linewidths=.5, ax=ax)\r\n",
        "plt.title(\"Confusion Matrix Logistic Regression\", fontsize=20)\r\n",
        "plt.subplots_adjust(left=0.15, right=0.99, bottom=0.15, top=0.99)\r\n",
        "ax.set_yticks(np.arange(conf_matrix.shape[0]) + 0.5, minor=False)\r\n",
        "ax.set_xticklabels(['Melahirkan Normal', 'Melahirkan Tidak Normal'], fontsize=16)\r\n",
        "ax.set_yticklabels(['Melahirkan Normal', 'Melahirkan Tidak Normal'], fontsize=16, rotation=360)\r\n",
        "plt.show()"
      ],
      "execution_count": 90,
      "outputs": [
        {
          "output_type": "display_data",
          "data": {
            "image/png": "[encoded data removed]",
            "text/plain": [
              "<Figure size 720x432 with 2 Axes>"
            ]
          },
          "metadata": {
            "tags": [],
            "needs_background": "light"
          }
        }
      ]
    },
    {
      "cell_type": "code",
      "metadata": {
        "colab": {
          "base_uri": "https://localhost:8080/",
          "height": 295
        },
        "id": "59M93C-2SkFq",
        "outputId": "4a34e194-9cd8-4076-e3c6-0f2244617f30"
      },
      "source": [
        "# ROC Curve\r\n",
        "\r\n",
        "fprLR, tprLR, _ = metrics.roc_curve(yb_test,  pred2)\r\n",
        "auclr = metrics.roc_auc_score(yb_test, pred2)\r\n",
        "plt.plot(fprLR,tprLR,label=\"Logistic Regression, auc=\"+str(auclr), color=\"orange\")\r\n",
        "plt.title('ROC Curve - Logistic Regression')\r\n",
        "plt.xlabel('false positive rate') \r\n",
        "plt.ylabel('true positive rate')\r\n",
        "plt.legend(loc=4)\r\n",
        "\r\n",
        "plt.show()"
      ],
      "execution_count": 118,
      "outputs": [
        {
          "output_type": "display_data",
          "data": {
            "image/png": "[encoded data removed]",
            "text/plain": [
              "<Figure size 432x288 with 1 Axes>"
            ]
          },
          "metadata": {
            "tags": [],
            "needs_background": "light"
          }
        }
      ]
    },
    {
      "cell_type": "markdown",
      "metadata": {
        "id": "frTep4rQ6QeV"
      },
      "source": [
        "# Modeling tanpa CV"
      ]
    },
    {
      "cell_type": "markdown",
      "metadata": {
        "id": "RVmpZc3cbjNF"
      },
      "source": [
        "Mendefinisikan X dan Y"
      ]
    },
    {
      "cell_type": "code",
      "metadata": {
        "colab": {
          "base_uri": "https://localhost:8080/"
        },
        "id": "ZJ7wSCNTVpX_",
        "outputId": "6e992299-38b3-480b-b755-bed7edda6564"
      },
      "source": [
        "Xc = np.asarray(df[['ID', 'Usia', 'Melahirkan ke-', 'Tekanan Darah', 'Gangguan Jantung']])\n",
        "Xc[0:5]"
      ],
      "execution_count": 94,
      "outputs": [
        {
          "output_type": "execute_result",
          "data": {
            "text/plain": [
              "array([[ 1, 22,  1,  2,  0],\n",
              "       [ 2, 26,  2,  1,  0],\n",
              "       [ 3, 26,  2,  1,  0],\n",
              "       [ 4, 28,  1,  2,  0],\n",
              "       [ 5, 22,  2,  1,  0]])"
            ]
          },
          "metadata": {
            "tags": []
          },
          "execution_count": 94
        }
      ]
    },
    {
      "cell_type": "code",
      "metadata": {
        "colab": {
          "base_uri": "https://localhost:8080/"
        },
        "id": "zI2PD9bmW5bE",
        "outputId": "98a53415-7251-4be1-fe6c-18beb08c2aa3"
      },
      "source": [
        "yc = np.asarray(df['Melahirkan Normal'])\n",
        "yc [0:5]"
      ],
      "execution_count": 95,
      "outputs": [
        {
          "output_type": "execute_result",
          "data": {
            "text/plain": [
              "array([1, 0, 1, 1, 0])"
            ]
          },
          "metadata": {
            "tags": []
          },
          "execution_count": 95
        }
      ]
    },
    {
      "cell_type": "code",
      "metadata": {
        "colab": {
          "base_uri": "https://localhost:8080/"
        },
        "id": "pW5B5WOKXIu0",
        "outputId": "3e1d3fb4-aa02-45a5-b780-4d05145f5e7f"
      },
      "source": [
        "from sklearn import preprocessing\n",
        "Xc = preprocessing.StandardScaler().fit(X).transform(X)\n",
        "Xc[0:5]"
      ],
      "execution_count": 96,
      "outputs": [
        {
          "output_type": "execute_result",
          "data": {
            "text/plain": [
              "array([[-1.14, -0.84, -0.79,  1.41, -0.77],\n",
              "       [-0.34,  0.43, -0.79,  0.  , -0.77],\n",
              "       [-0.34,  0.43,  0.45,  0.  , -0.77],\n",
              "       [ 0.06, -0.84, -0.79,  1.41, -0.77],\n",
              "       [-1.14,  0.43, -0.79,  0.  , -0.77]])"
            ]
          },
          "metadata": {
            "tags": []
          },
          "execution_count": 96
        }
      ]
    },
    {
      "cell_type": "code",
      "metadata": {
        "colab": {
          "base_uri": "https://localhost:8080/"
        },
        "id": "9btXfkcZ7vnp",
        "outputId": "79506e15-e17a-4896-92e7-24e78cfe1f0b"
      },
      "source": [
        "Xc_train, Xc_test, yc_train, yc_test = train_test_split( Xc, yc, test_size=0.2, random_state=15)\n",
        "print ('Train set:', Xc_train.shape,  yc_train.shape)\n",
        "print ('Test set:', Xc_test.shape,  yc_test.shape)"
      ],
      "execution_count": 97,
      "outputs": [
        {
          "output_type": "stream",
          "text": [
            "Train set: (64, 5) (64,)\n",
            "Test set: (16, 5) (16,)\n"
          ],
          "name": "stdout"
        }
      ]
    },
    {
      "cell_type": "code",
      "metadata": {
        "colab": {
          "base_uri": "https://localhost:8080/"
        },
        "id": "T2NZ2Z-YXPCE",
        "outputId": "2dd5bc8c-cf83-49d7-94ac-b76c9cc2caf9"
      },
      "source": [
        "from sklearn.linear_model import LogisticRegression\n",
        "from sklearn.metrics import confusion_matrix\n",
        "LR = LogisticRegression(C=0.01, solver='liblinear').fit(Xc_train,yc_train)\n",
        "LR"
      ],
      "execution_count": 98,
      "outputs": [
        {
          "output_type": "execute_result",
          "data": {
            "text/plain": [
              "LogisticRegression(C=0.01, class_weight=None, dual=False, fit_intercept=True,\n",
              "                   intercept_scaling=1, l1_ratio=None, max_iter=100,\n",
              "                   multi_class='auto', n_jobs=None, penalty='l2',\n",
              "                   random_state=None, solver='liblinear', tol=0.0001, verbose=0,\n",
              "                   warm_start=False)"
            ]
          },
          "metadata": {
            "tags": []
          },
          "execution_count": 98
        }
      ]
    },
    {
      "cell_type": "code",
      "metadata": {
        "colab": {
          "base_uri": "https://localhost:8080/"
        },
        "id": "xu0Pn8HOXR_i",
        "outputId": "b89ec3c9-3174-4415-85be-3ec173c9f3a2"
      },
      "source": [
        "ychat = LR.predict(Xc_test)\n",
        "ychat"
      ],
      "execution_count": 99,
      "outputs": [
        {
          "output_type": "execute_result",
          "data": {
            "text/plain": [
              "array([0, 0, 1, 0, 0, 0, 1, 1, 1, 1, 0, 0, 0, 0, 0, 1])"
            ]
          },
          "metadata": {
            "tags": []
          },
          "execution_count": 99
        }
      ]
    },
    {
      "cell_type": "code",
      "metadata": {
        "colab": {
          "base_uri": "https://localhost:8080/"
        },
        "id": "mHcxkn8HXVBw",
        "outputId": "9e92e8d7-ad82-4aed-d9c7-f605726f10d1"
      },
      "source": [
        "ychat_prob = LR.predict_proba(Xc_test)\n",
        "ychat_prob"
      ],
      "execution_count": 100,
      "outputs": [
        {
          "output_type": "execute_result",
          "data": {
            "text/plain": [
              "array([[0.52, 0.48],\n",
              "       [0.51, 0.49],\n",
              "       [0.49, 0.51],\n",
              "       [0.53, 0.47],\n",
              "       [0.5 , 0.5 ],\n",
              "       [0.5 , 0.5 ],\n",
              "       [0.49, 0.51],\n",
              "       [0.49, 0.51],\n",
              "       [0.49, 0.51],\n",
              "       [0.48, 0.52],\n",
              "       [0.5 , 0.5 ],\n",
              "       [0.55, 0.45],\n",
              "       [0.52, 0.48],\n",
              "       [0.55, 0.45],\n",
              "       [0.5 , 0.5 ],\n",
              "       [0.49, 0.51]])"
            ]
          },
          "metadata": {
            "tags": []
          },
          "execution_count": 100
        }
      ]
    },
    {
      "cell_type": "markdown",
      "metadata": {
        "id": "aqySkDcwb_E0"
      },
      "source": [
        "Evaluation"
      ]
    },
    {
      "cell_type": "code",
      "metadata": {
        "colab": {
          "base_uri": "https://localhost:8080/"
        },
        "id": "6KaXZpmJXXsH",
        "outputId": "56ccf1ce-6ec4-4ffe-e2a6-d3f75f967469"
      },
      "source": [
        "from sklearn.metrics import jaccard_score\n",
        "jaccard_score(yc_test, ychat)"
      ],
      "execution_count": 101,
      "outputs": [
        {
          "output_type": "execute_result",
          "data": {
            "text/plain": [
              "0.5555555555555556"
            ]
          },
          "metadata": {
            "tags": []
          },
          "execution_count": 101
        }
      ]
    },
    {
      "cell_type": "code",
      "metadata": {
        "colab": {
          "base_uri": "https://localhost:8080/"
        },
        "id": "GzlJaVUkXat3",
        "outputId": "3b21aca4-a2af-40d9-fb6f-09dbe2596c00"
      },
      "source": [
        "from sklearn import metrics\n",
        "acc_LR = metrics.accuracy_score(yc_test, ychat)\n",
        "prec_LR = metrics.precision_score(yc_test, ychat)\n",
        "rec_LR = metrics.recall_score(yc_test, ychat)\n",
        "f1_LR = metrics.f1_score(yc_test, ychat)\n",
        "kappa_LR = metrics.cohen_kappa_score(yc_test, ychat)\n",
        "print(\"Accuracy:\", acc_LR)\n",
        "print(\"Precision:\", prec_LR)\n",
        "print(\"Recall:\", rec_LR)\n",
        "print(\"F1 Score:\", f1_LR)\n",
        "print(\"Cohens Kappa Score:\", kappa_LR)"
      ],
      "execution_count": 102,
      "outputs": [
        {
          "output_type": "stream",
          "text": [
            "Accuracy: 0.75\n",
            "Precision: 0.8333333333333334\n",
            "Recall: 0.625\n",
            "F1 Score: 0.7142857142857143\n",
            "Cohens Kappa Score: 0.5\n"
          ],
          "name": "stdout"
        }
      ]
    },
    {
      "cell_type": "code",
      "metadata": {
        "colab": {
          "base_uri": "https://localhost:8080/"
        },
        "id": "-cL9BZSXXexp",
        "outputId": "42b5f1b6-b068-43bb-cb5f-7dabb1ae171e"
      },
      "source": [
        "from sklearn.metrics import classification_report, confusion_matrix\n",
        "import itertools\n",
        "def plot_confusion_matrix(cm, classes,\n",
        "                          normalize=False,\n",
        "                          title='Confusion matrix',\n",
        "                          cmap=plt.cm.Blues):\n",
        "    \"\"\"\n",
        "    This function prints and plots the confusion matrix.\n",
        "    Normalization can be applied by setting `normalize=True`.\n",
        "    \"\"\"\n",
        "    if normalize:\n",
        "        cm = cm.astype('float') / cm.sum(axis=1)[:, np.newaxis]\n",
        "        print(\"Normalized confusion matrix\")\n",
        "    else:\n",
        "        print('Confusion matrix, without normalization')\n",
        "\n",
        "    print(cm)\n",
        "\n",
        "    plt.imshow(cm, interpolation='nearest', cmap=cmap)\n",
        "    plt.title(title)\n",
        "    plt.colorbar()\n",
        "    tick_marks = np.arange(len(classes))\n",
        "    plt.xticks(tick_marks, classes, rotation=45)\n",
        "    plt.yticks(tick_marks, classes)\n",
        "\n",
        "    fmt = '.2f' if normalize else 'd'\n",
        "    thresh = cm.max() / 2.\n",
        "    for i, j in itertools.product(range(cm.shape[0]), range(cm.shape[1])):\n",
        "        plt.text(j, i, format(cm[i, j], fmt),\n",
        "                 horizontalalignment=\"center\",\n",
        "                 color=\"white\" if cm[i, j] > thresh else \"black\")\n",
        "\n",
        "    plt.tight_layout()\n",
        "    plt.ylabel('True label')\n",
        "    plt.xlabel('Predicted label')\n",
        "print(confusion_matrix(yc_test, ychat, labels=[1,0]))"
      ],
      "execution_count": 103,
      "outputs": [
        {
          "output_type": "stream",
          "text": [
            "[[5 3]\n",
            " [1 7]]\n"
          ],
          "name": "stdout"
        }
      ]
    },
    {
      "cell_type": "markdown",
      "metadata": {
        "id": "x0LVL8OXcBvB"
      },
      "source": [
        "Confusion Matrix"
      ]
    },
    {
      "cell_type": "code",
      "metadata": {
        "colab": {
          "base_uri": "https://localhost:8080/",
          "height": 437
        },
        "id": "cp_jwjRUPxiV",
        "outputId": "0c0b2713-0c42-4c05-b8fc-13b9ad85c56a"
      },
      "source": [
        "conf_matrix3 = confusion_matrix(yc_test, ychat)\r\n",
        "f, ax = plt.subplots(figsize=(10, 6))\r\n",
        "sns.heatmap(conf_matrix, annot=True, fmt=\"d\", linewidths=.5, ax=ax)\r\n",
        "plt.title(\"Confusion Matrix Logistic Regression Tanpa CV\", fontsize=20)\r\n",
        "plt.subplots_adjust(left=0.15, right=0.99, bottom=0.15, top=0.99)\r\n",
        "ax.set_yticks(np.arange(conf_matrix.shape[0]) + 0.5, minor=False)\r\n",
        "ax.set_xticklabels(['Melahirkan Normal', 'Melahirkan Tidak Normal'], fontsize=16)\r\n",
        "ax.set_yticklabels(['Melahirkan Normal', 'Melahirkan Tidak Normal'], fontsize=16, rotation=360)\r\n",
        "plt.show()"
      ],
      "execution_count": 108,
      "outputs": [
        {
          "output_type": "display_data",
          "data": {
            "image/png": "[encoded data removed]",
            "text/plain": [
              "<Figure size 720x432 with 2 Axes>"
            ]
          },
          "metadata": {
            "tags": [],
            "needs_background": "light"
          }
        }
      ]
    },
    {
      "cell_type": "code",
      "metadata": {
        "id": "T0JhuT3KX15O",
        "colab": {
          "base_uri": "https://localhost:8080/"
        },
        "outputId": "d54ba50b-fc43-4aeb-f488-15578dd87ac3"
      },
      "source": [
        "print (classification_report(yc_test, ychat))"
      ],
      "execution_count": 106,
      "outputs": [
        {
          "output_type": "stream",
          "text": [
            "              precision    recall  f1-score   support\n",
            "\n",
            "           0       0.70      0.88      0.78         8\n",
            "           1       0.83      0.62      0.71         8\n",
            "\n",
            "    accuracy                           0.75        16\n",
            "   macro avg       0.77      0.75      0.75        16\n",
            "weighted avg       0.77      0.75      0.75        16\n",
            "\n"
          ],
          "name": "stdout"
        }
      ]
    },
    {
      "cell_type": "markdown",
      "metadata": {
        "id": "at7RyZJpcFhT"
      },
      "source": [
        "Log loss"
      ]
    },
    {
      "cell_type": "code",
      "metadata": {
        "id": "gCGlQnVUX6d4",
        "colab": {
          "base_uri": "https://localhost:8080/"
        },
        "outputId": "66e87def-c1db-45d9-a45f-fb374b342018"
      },
      "source": [
        "from sklearn.metrics import log_loss\n",
        "log_loss(yc_test, ychat_prob)"
      ],
      "execution_count": 111,
      "outputs": [
        {
          "output_type": "execute_result",
          "data": {
            "text/plain": [
              "0.6732632837999785"
            ]
          },
          "metadata": {
            "tags": []
          },
          "execution_count": 111
        }
      ]
    },
    {
      "cell_type": "code",
      "metadata": {
        "colab": {
          "base_uri": "https://localhost:8080/",
          "height": 295
        },
        "id": "rcePFZDoX7XF",
        "outputId": "6b940282-fafd-490f-9df3-59622a6bc3de"
      },
      "source": [
        "# ROC Curve\n",
        "ychat_prob = LR.predict_proba(Xc_test) [::,1]\n",
        "fprLR, tprLR, _ = metrics.roc_curve(yc_test,  ychat_prob)\n",
        "auclr = metrics.roc_auc_score(yc_test, ychat_prob)\n",
        "plt.plot(fprLR,tprLR,label=\"Logistic Regression, auc=\"+str(auclr), color=\"orange\")\n",
        "plt.title('ROC Curve - Logistic Regression')\n",
        "plt.xlabel('false positive rate') \n",
        "plt.ylabel('true positive rate')\n",
        "plt.legend(loc=4)\n",
        "\n",
        "plt.show()"
      ],
      "execution_count": 112,
      "outputs": [
        {
          "output_type": "display_data",
          "data": {
            "image/png": "[encoded data removed]",
            "text/plain": [
              "<Figure size 432x288 with 1 Axes>"
            ]
          },
          "metadata": {
            "tags": [],
            "needs_background": "light"
          }
        }
      ]
    },
    {
      "cell_type": "markdown",
      "metadata": {
        "id": "lKNAu3BUVxUx"
      },
      "source": [
        "\r\n",
        "\r\n",
        "---\r\n",
        "\r\n",
        "\r\n",
        "\r\n"
      ]
    }
  ]
}