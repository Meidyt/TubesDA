{
  "nbformat": 4,
  "nbformat_minor": 0,
  "metadata": {
    "colab": {
      "name": "Modeling CV 3.ipynb",
      "provenance": [],
      "collapsed_sections": [
        "79SHDOcENAdu"
      ],
      "include_colab_link": true
    },
    "kernelspec": {
      "name": "python3",
      "display_name": "Python 3"
    }
  },
  "cells": [
    {
      "cell_type": "markdown",
      "metadata": {
        "id": "view-in-github",
        "colab_type": "text"
      },
      "source": [
        "<a href=\"https://colab.research.google.com/github/Meidyt/TubesDA/blob/main/Modeling_CV_3.ipynb\" target=\"_parent\"><img src=\"https://colab.research.google.com/assets/colab-badge.svg\" alt=\"Open In Colab\"/></a>"
      ]
    },
    {
      "cell_type": "markdown",
      "metadata": {
        "id": "6XeGssmoPneU"
      },
      "source": [
        "# MODELING CV 3"
      ]
    },
    {
      "cell_type": "markdown",
      "metadata": {
        "id": "3fAKR-zPJD8d"
      },
      "source": [
        "Pada model kali ini digunakan suatu model dengan cross validation 3. Cross validation ini akan membagi data menjadi beberapa bagian. "
      ]
    },
    {
      "cell_type": "markdown",
      "metadata": {
        "id": "79SHDOcENAdu"
      },
      "source": [
        "## Import Libraries"
      ]
    },
    {
      "cell_type": "code",
      "metadata": {
        "id": "oOCDQAoVro9R"
      },
      "source": [
        "import os\r\n",
        "import sys\r\n",
        "\r\n",
        "import pandas as pd\r\n",
        "import numpy as np\r\n",
        "\r\n",
        "import seaborn as sns\r\n",
        "import matplotlib.pyplot as plt\r\n",
        "%matplotlib inline\r\n",
        "\r\n",
        "from sklearn.metrics import classification_report, f1_score, accuracy_score,\\\r\n",
        "                            confusion_matrix\r\n",
        "                          \r\n",
        "\r\n"
      ],
      "execution_count": 1,
      "outputs": []
    },
    {
      "cell_type": "code",
      "metadata": {
        "colab": {
          "base_uri": "https://localhost:8080/",
          "height": 206
        },
        "id": "p8BB2F7wr31o",
        "outputId": "1a99cbc4-0643-4a27-8a13-12fd2d4d9b31"
      },
      "source": [
        "df = pd.read_csv('https://raw.githubusercontent.com/Meidyt/TubesDA/main/Dataset.csv', sep = ',')\r\n",
        "df\r\n",
        "df.head()"
      ],
      "execution_count": 2,
      "outputs": [
        {
          "output_type": "execute_result",
          "data": {
            "text/html": [
              "<div>\n",
              "<style scoped>\n",
              "    .dataframe tbody tr th:only-of-type {\n",
              "        vertical-align: middle;\n",
              "    }\n",
              "\n",
              "    .dataframe tbody tr th {\n",
              "        vertical-align: top;\n",
              "    }\n",
              "\n",
              "    .dataframe thead th {\n",
              "        text-align: right;\n",
              "    }\n",
              "</style>\n",
              "<table border=\"1\" class=\"dataframe\">\n",
              "  <thead>\n",
              "    <tr style=\"text-align: right;\">\n",
              "      <th></th>\n",
              "      <th>ID</th>\n",
              "      <th>Usia</th>\n",
              "      <th>Melahirkan ke-</th>\n",
              "      <th>Waktu Melahirkan</th>\n",
              "      <th>Tekanan Darah</th>\n",
              "      <th>Gangguan Jantung</th>\n",
              "      <th>Melahirkan Normal</th>\n",
              "    </tr>\n",
              "  </thead>\n",
              "  <tbody>\n",
              "    <tr>\n",
              "      <th>0</th>\n",
              "      <td>1</td>\n",
              "      <td>22</td>\n",
              "      <td>1</td>\n",
              "      <td>0</td>\n",
              "      <td>2</td>\n",
              "      <td>0</td>\n",
              "      <td>1</td>\n",
              "    </tr>\n",
              "    <tr>\n",
              "      <th>1</th>\n",
              "      <td>2</td>\n",
              "      <td>26</td>\n",
              "      <td>2</td>\n",
              "      <td>0</td>\n",
              "      <td>1</td>\n",
              "      <td>0</td>\n",
              "      <td>0</td>\n",
              "    </tr>\n",
              "    <tr>\n",
              "      <th>2</th>\n",
              "      <td>3</td>\n",
              "      <td>26</td>\n",
              "      <td>2</td>\n",
              "      <td>1</td>\n",
              "      <td>1</td>\n",
              "      <td>0</td>\n",
              "      <td>1</td>\n",
              "    </tr>\n",
              "    <tr>\n",
              "      <th>3</th>\n",
              "      <td>4</td>\n",
              "      <td>28</td>\n",
              "      <td>1</td>\n",
              "      <td>0</td>\n",
              "      <td>2</td>\n",
              "      <td>0</td>\n",
              "      <td>1</td>\n",
              "    </tr>\n",
              "    <tr>\n",
              "      <th>4</th>\n",
              "      <td>5</td>\n",
              "      <td>22</td>\n",
              "      <td>2</td>\n",
              "      <td>0</td>\n",
              "      <td>1</td>\n",
              "      <td>0</td>\n",
              "      <td>0</td>\n",
              "    </tr>\n",
              "  </tbody>\n",
              "</table>\n",
              "</div>"
            ],
            "text/plain": [
              "   ID  Usia  Melahirkan ke-  ...  Tekanan Darah  Gangguan Jantung  Melahirkan Normal\n",
              "0   1    22               1  ...              2                 0                  1\n",
              "1   2    26               2  ...              1                 0                  0\n",
              "2   3    26               2  ...              1                 0                  1\n",
              "3   4    28               1  ...              2                 0                  1\n",
              "4   5    22               2  ...              1                 0                  0\n",
              "\n",
              "[5 rows x 7 columns]"
            ]
          },
          "metadata": {
            "tags": []
          },
          "execution_count": 2
        }
      ]
    },
    {
      "cell_type": "markdown",
      "metadata": {
        "id": "z4dV4No0NFEp"
      },
      "source": [
        "## Data Preprocessing"
      ]
    },
    {
      "cell_type": "code",
      "metadata": {
        "colab": {
          "base_uri": "https://localhost:8080/"
        },
        "id": "ZpBLdX4F1QIZ",
        "outputId": "a0728177-1e8c-452a-da76-00fd66cdd8f2"
      },
      "source": [
        "df.shape"
      ],
      "execution_count": 3,
      "outputs": [
        {
          "output_type": "execute_result",
          "data": {
            "text/plain": [
              "(80, 7)"
            ]
          },
          "metadata": {
            "tags": []
          },
          "execution_count": 3
        }
      ]
    },
    {
      "cell_type": "code",
      "metadata": {
        "colab": {
          "base_uri": "https://localhost:8080/"
        },
        "id": "3x1e81sn1YIy",
        "outputId": "545a5123-fa47-430c-ca8f-1dbe1e365b33"
      },
      "source": [
        "df.info()"
      ],
      "execution_count": 4,
      "outputs": [
        {
          "output_type": "stream",
          "text": [
            "<class 'pandas.core.frame.DataFrame'>\n",
            "RangeIndex: 80 entries, 0 to 79\n",
            "Data columns (total 7 columns):\n",
            " #   Column             Non-Null Count  Dtype\n",
            "---  ------             --------------  -----\n",
            " 0   ID                 80 non-null     int64\n",
            " 1   Usia               80 non-null     int64\n",
            " 2   Melahirkan ke-     80 non-null     int64\n",
            " 3   Waktu Melahirkan   80 non-null     int64\n",
            " 4   Tekanan Darah      80 non-null     int64\n",
            " 5   Gangguan Jantung   80 non-null     int64\n",
            " 6   Melahirkan Normal  80 non-null     int64\n",
            "dtypes: int64(7)\n",
            "memory usage: 4.5 KB\n"
          ],
          "name": "stdout"
        }
      ]
    },
    {
      "cell_type": "code",
      "metadata": {
        "colab": {
          "base_uri": "https://localhost:8080/",
          "height": 300
        },
        "id": "s43e2Pyg1cOI",
        "outputId": "8948b97c-2beb-4ec1-dde6-5de90074b83f"
      },
      "source": [
        "df.describe()"
      ],
      "execution_count": 5,
      "outputs": [
        {
          "output_type": "execute_result",
          "data": {
            "text/html": [
              "<div>\n",
              "<style scoped>\n",
              "    .dataframe tbody tr th:only-of-type {\n",
              "        vertical-align: middle;\n",
              "    }\n",
              "\n",
              "    .dataframe tbody tr th {\n",
              "        vertical-align: top;\n",
              "    }\n",
              "\n",
              "    .dataframe thead th {\n",
              "        text-align: right;\n",
              "    }\n",
              "</style>\n",
              "<table border=\"1\" class=\"dataframe\">\n",
              "  <thead>\n",
              "    <tr style=\"text-align: right;\">\n",
              "      <th></th>\n",
              "      <th>ID</th>\n",
              "      <th>Usia</th>\n",
              "      <th>Melahirkan ke-</th>\n",
              "      <th>Waktu Melahirkan</th>\n",
              "      <th>Tekanan Darah</th>\n",
              "      <th>Gangguan Jantung</th>\n",
              "      <th>Melahirkan Normal</th>\n",
              "    </tr>\n",
              "  </thead>\n",
              "  <tbody>\n",
              "    <tr>\n",
              "      <th>count</th>\n",
              "      <td>80.0000</td>\n",
              "      <td>80.000000</td>\n",
              "      <td>80.000000</td>\n",
              "      <td>80.000000</td>\n",
              "      <td>80.000000</td>\n",
              "      <td>80.000000</td>\n",
              "      <td>80.000000</td>\n",
              "    </tr>\n",
              "    <tr>\n",
              "      <th>mean</th>\n",
              "      <td>40.5000</td>\n",
              "      <td>27.687500</td>\n",
              "      <td>1.662500</td>\n",
              "      <td>0.637500</td>\n",
              "      <td>1.000000</td>\n",
              "      <td>0.375000</td>\n",
              "      <td>0.425000</td>\n",
              "    </tr>\n",
              "    <tr>\n",
              "      <th>std</th>\n",
              "      <td>23.2379</td>\n",
              "      <td>5.017927</td>\n",
              "      <td>0.794662</td>\n",
              "      <td>0.815107</td>\n",
              "      <td>0.711568</td>\n",
              "      <td>0.487177</td>\n",
              "      <td>0.497462</td>\n",
              "    </tr>\n",
              "    <tr>\n",
              "      <th>min</th>\n",
              "      <td>1.0000</td>\n",
              "      <td>17.000000</td>\n",
              "      <td>1.000000</td>\n",
              "      <td>0.000000</td>\n",
              "      <td>0.000000</td>\n",
              "      <td>0.000000</td>\n",
              "      <td>0.000000</td>\n",
              "    </tr>\n",
              "    <tr>\n",
              "      <th>25%</th>\n",
              "      <td>20.7500</td>\n",
              "      <td>25.000000</td>\n",
              "      <td>1.000000</td>\n",
              "      <td>0.000000</td>\n",
              "      <td>0.750000</td>\n",
              "      <td>0.000000</td>\n",
              "      <td>0.000000</td>\n",
              "    </tr>\n",
              "    <tr>\n",
              "      <th>50%</th>\n",
              "      <td>40.5000</td>\n",
              "      <td>27.000000</td>\n",
              "      <td>1.000000</td>\n",
              "      <td>0.000000</td>\n",
              "      <td>1.000000</td>\n",
              "      <td>0.000000</td>\n",
              "      <td>0.000000</td>\n",
              "    </tr>\n",
              "    <tr>\n",
              "      <th>75%</th>\n",
              "      <td>60.2500</td>\n",
              "      <td>32.000000</td>\n",
              "      <td>2.000000</td>\n",
              "      <td>1.000000</td>\n",
              "      <td>1.250000</td>\n",
              "      <td>1.000000</td>\n",
              "      <td>1.000000</td>\n",
              "    </tr>\n",
              "    <tr>\n",
              "      <th>max</th>\n",
              "      <td>80.0000</td>\n",
              "      <td>40.000000</td>\n",
              "      <td>4.000000</td>\n",
              "      <td>2.000000</td>\n",
              "      <td>2.000000</td>\n",
              "      <td>1.000000</td>\n",
              "      <td>1.000000</td>\n",
              "    </tr>\n",
              "  </tbody>\n",
              "</table>\n",
              "</div>"
            ],
            "text/plain": [
              "            ID       Usia  ...  Gangguan Jantung  Melahirkan Normal\n",
              "count  80.0000  80.000000  ...         80.000000          80.000000\n",
              "mean   40.5000  27.687500  ...          0.375000           0.425000\n",
              "std    23.2379   5.017927  ...          0.487177           0.497462\n",
              "min     1.0000  17.000000  ...          0.000000           0.000000\n",
              "25%    20.7500  25.000000  ...          0.000000           0.000000\n",
              "50%    40.5000  27.000000  ...          0.000000           0.000000\n",
              "75%    60.2500  32.000000  ...          1.000000           1.000000\n",
              "max    80.0000  40.000000  ...          1.000000           1.000000\n",
              "\n",
              "[8 rows x 7 columns]"
            ]
          },
          "metadata": {
            "tags": []
          },
          "execution_count": 5
        }
      ]
    },
    {
      "cell_type": "code",
      "metadata": {
        "colab": {
          "base_uri": "https://localhost:8080/"
        },
        "id": "EnCQug8u1nyU",
        "outputId": "00e3d8f7-a0b5-44ed-9d14-ae0a652baeed"
      },
      "source": [
        "df.isna().sum()"
      ],
      "execution_count": 6,
      "outputs": [
        {
          "output_type": "execute_result",
          "data": {
            "text/plain": [
              "ID                   0\n",
              "Usia                 0\n",
              "Melahirkan ke-       0\n",
              "Waktu Melahirkan     0\n",
              "Tekanan Darah        0\n",
              "Gangguan Jantung     0\n",
              "Melahirkan Normal    0\n",
              "dtype: int64"
            ]
          },
          "metadata": {
            "tags": []
          },
          "execution_count": 6
        }
      ]
    },
    {
      "cell_type": "markdown",
      "metadata": {
        "id": "1R0YaI0pAEga"
      },
      "source": [
        "## EDA"
      ]
    },
    {
      "cell_type": "code",
      "metadata": {
        "colab": {
          "base_uri": "https://localhost:8080/",
          "height": 281
        },
        "id": "-rr_62md1tLq",
        "outputId": "1df9d853-3a07-4398-d3af-3da444722fe3"
      },
      "source": [
        "eda = df['Melahirkan Normal'].value_counts()\r\n",
        "eda.plot.bar()"
      ],
      "execution_count": 7,
      "outputs": [
        {
          "output_type": "execute_result",
          "data": {
            "text/plain": [
              "<matplotlib.axes._subplots.AxesSubplot at 0x7ff702ae6cf8>"
            ]
          },
          "metadata": {
            "tags": []
          },
          "execution_count": 7
        },
        {
          "output_type": "display_data",
          "data": {
            "image/png": "[encoded data removed]",
            "text/plain": [
              "<Figure size 432x288 with 1 Axes>"
            ]
          },
          "metadata": {
            "tags": [],
            "needs_background": "light"
          }
        }
      ]
    },
    {
      "cell_type": "code",
      "metadata": {
        "colab": {
          "base_uri": "https://localhost:8080/",
          "height": 298
        },
        "id": "HBHW0odF12XW",
        "outputId": "4983162e-6e27-4f20-cf99-a5bb73c5e5c6"
      },
      "source": [
        "eda = df[['Usia', 'Melahirkan Normal']]\r\n",
        "sns.boxplot(x=\"Melahirkan Normal\", y=\"Usia\", data=eda)"
      ],
      "execution_count": 8,
      "outputs": [
        {
          "output_type": "execute_result",
          "data": {
            "text/plain": [
              "<matplotlib.axes._subplots.AxesSubplot at 0x7ff702a28860>"
            ]
          },
          "metadata": {
            "tags": []
          },
          "execution_count": 8
        },
        {
          "output_type": "display_data",
          "data": {
            "image/png": "[encoded data removed]",
            "text/plain": [
              "<Figure size 432x288 with 1 Axes>"
            ]
          },
          "metadata": {
            "tags": [],
            "needs_background": "light"
          }
        }
      ]
    },
    {
      "cell_type": "code",
      "metadata": {
        "colab": {
          "base_uri": "https://localhost:8080/",
          "height": 298
        },
        "id": "pfi7z-Qw2FDt",
        "outputId": "b0852896-9283-4240-ee9d-bdccf1cc07bb"
      },
      "source": [
        "eda = df[['Melahirkan ke-', 'Melahirkan Normal']]\r\n",
        "sns.boxplot(x=\"Melahirkan Normal\", y=\"Melahirkan ke-\", data=eda)"
      ],
      "execution_count": 9,
      "outputs": [
        {
          "output_type": "execute_result",
          "data": {
            "text/plain": [
              "<matplotlib.axes._subplots.AxesSubplot at 0x7ff702a28358>"
            ]
          },
          "metadata": {
            "tags": []
          },
          "execution_count": 9
        },
        {
          "output_type": "display_data",
          "data": {
            "image/png": "[encoded data removed]",
            "text/plain": [
              "<Figure size 432x288 with 1 Axes>"
            ]
          },
          "metadata": {
            "tags": [],
            "needs_background": "light"
          }
        }
      ]
    },
    {
      "cell_type": "code",
      "metadata": {
        "colab": {
          "base_uri": "https://localhost:8080/",
          "height": 295
        },
        "id": "92mbjZty2NpT",
        "outputId": "bae6b3a2-d52b-4689-fdb3-b6141bf3620b"
      },
      "source": [
        "eda = df[['Melahirkan Normal','Waktu Melahirkan']]\r\n",
        "eda = pd.crosstab(eda['Waktu Melahirkan'], eda['Melahirkan Normal'])\r\n",
        "eda.plot.bar(stacked=False)"
      ],
      "execution_count": 10,
      "outputs": [
        {
          "output_type": "execute_result",
          "data": {
            "text/plain": [
              "<matplotlib.axes._subplots.AxesSubplot at 0x7ff7024eb198>"
            ]
          },
          "metadata": {
            "tags": []
          },
          "execution_count": 10
        },
        {
          "output_type": "display_data",
          "data": {
            "image/png": "[encoded data removed]",
            "text/plain": [
              "<Figure size 432x288 with 1 Axes>"
            ]
          },
          "metadata": {
            "tags": [],
            "needs_background": "light"
          }
        }
      ]
    },
    {
      "cell_type": "code",
      "metadata": {
        "colab": {
          "base_uri": "https://localhost:8080/",
          "height": 295
        },
        "id": "SYsY3QAO3LXd",
        "outputId": "50eb9058-8806-477d-9fd9-b7e118dc16bd"
      },
      "source": [
        "eda = df[['Melahirkan Normal','Tekanan Darah']]\r\n",
        "eda = pd.crosstab(eda['Tekanan Darah'], eda['Melahirkan Normal'])\r\n",
        "eda.plot.bar(stacked=False)"
      ],
      "execution_count": 11,
      "outputs": [
        {
          "output_type": "execute_result",
          "data": {
            "text/plain": [
              "<matplotlib.axes._subplots.AxesSubplot at 0x7ff70255a630>"
            ]
          },
          "metadata": {
            "tags": []
          },
          "execution_count": 11
        },
        {
          "output_type": "display_data",
          "data": {
            "image/png": "[encoded data removed]",
            "text/plain": [
              "<Figure size 432x288 with 1 Axes>"
            ]
          },
          "metadata": {
            "tags": [],
            "needs_background": "light"
          }
        }
      ]
    },
    {
      "cell_type": "code",
      "metadata": {
        "colab": {
          "base_uri": "https://localhost:8080/",
          "height": 295
        },
        "id": "VesV4_h43Smj",
        "outputId": "e5e32435-7448-483f-85f5-6fe8e3518727"
      },
      "source": [
        "eda = df[['Melahirkan Normal','Gangguan Jantung']]\r\n",
        "eda = pd.crosstab(eda['Gangguan Jantung'], eda['Melahirkan Normal'])\r\n",
        "eda.plot.bar(stacked=False)"
      ],
      "execution_count": 12,
      "outputs": [
        {
          "output_type": "execute_result",
          "data": {
            "text/plain": [
              "<matplotlib.axes._subplots.AxesSubplot at 0x7ff70194d470>"
            ]
          },
          "metadata": {
            "tags": []
          },
          "execution_count": 12
        },
        {
          "output_type": "display_data",
          "data": {
            "image/png": "[encoded data removed]",
            "text/plain": [
              "<Figure size 432x288 with 1 Axes>"
            ]
          },
          "metadata": {
            "tags": [],
            "needs_background": "light"
          }
        }
      ]
    },
    {
      "cell_type": "markdown",
      "metadata": {
        "id": "J9W4zNBwP5TK"
      },
      "source": [
        "Beberapa visualisasi data diatas dapat digunakan untuk mempermudah melihat berapa banyak data melahirkan normal dan tidak normal pada beberapa label data lainnya. "
      ]
    },
    {
      "cell_type": "code",
      "metadata": {
        "colab": {
          "base_uri": "https://localhost:8080/",
          "height": 206
        },
        "id": "hDTvw4Jp3xAc",
        "outputId": "a4688c1e-1596-4a29-f88c-7499da0babf7"
      },
      "source": [
        "df.head()"
      ],
      "execution_count": 13,
      "outputs": [
        {
          "output_type": "execute_result",
          "data": {
            "text/html": [
              "<div>\n",
              "<style scoped>\n",
              "    .dataframe tbody tr th:only-of-type {\n",
              "        vertical-align: middle;\n",
              "    }\n",
              "\n",
              "    .dataframe tbody tr th {\n",
              "        vertical-align: top;\n",
              "    }\n",
              "\n",
              "    .dataframe thead th {\n",
              "        text-align: right;\n",
              "    }\n",
              "</style>\n",
              "<table border=\"1\" class=\"dataframe\">\n",
              "  <thead>\n",
              "    <tr style=\"text-align: right;\">\n",
              "      <th></th>\n",
              "      <th>ID</th>\n",
              "      <th>Usia</th>\n",
              "      <th>Melahirkan ke-</th>\n",
              "      <th>Waktu Melahirkan</th>\n",
              "      <th>Tekanan Darah</th>\n",
              "      <th>Gangguan Jantung</th>\n",
              "      <th>Melahirkan Normal</th>\n",
              "    </tr>\n",
              "  </thead>\n",
              "  <tbody>\n",
              "    <tr>\n",
              "      <th>0</th>\n",
              "      <td>1</td>\n",
              "      <td>22</td>\n",
              "      <td>1</td>\n",
              "      <td>0</td>\n",
              "      <td>2</td>\n",
              "      <td>0</td>\n",
              "      <td>1</td>\n",
              "    </tr>\n",
              "    <tr>\n",
              "      <th>1</th>\n",
              "      <td>2</td>\n",
              "      <td>26</td>\n",
              "      <td>2</td>\n",
              "      <td>0</td>\n",
              "      <td>1</td>\n",
              "      <td>0</td>\n",
              "      <td>0</td>\n",
              "    </tr>\n",
              "    <tr>\n",
              "      <th>2</th>\n",
              "      <td>3</td>\n",
              "      <td>26</td>\n",
              "      <td>2</td>\n",
              "      <td>1</td>\n",
              "      <td>1</td>\n",
              "      <td>0</td>\n",
              "      <td>1</td>\n",
              "    </tr>\n",
              "    <tr>\n",
              "      <th>3</th>\n",
              "      <td>4</td>\n",
              "      <td>28</td>\n",
              "      <td>1</td>\n",
              "      <td>0</td>\n",
              "      <td>2</td>\n",
              "      <td>0</td>\n",
              "      <td>1</td>\n",
              "    </tr>\n",
              "    <tr>\n",
              "      <th>4</th>\n",
              "      <td>5</td>\n",
              "      <td>22</td>\n",
              "      <td>2</td>\n",
              "      <td>0</td>\n",
              "      <td>1</td>\n",
              "      <td>0</td>\n",
              "      <td>0</td>\n",
              "    </tr>\n",
              "  </tbody>\n",
              "</table>\n",
              "</div>"
            ],
            "text/plain": [
              "   ID  Usia  Melahirkan ke-  ...  Tekanan Darah  Gangguan Jantung  Melahirkan Normal\n",
              "0   1    22               1  ...              2                 0                  1\n",
              "1   2    26               2  ...              1                 0                  0\n",
              "2   3    26               2  ...              1                 0                  1\n",
              "3   4    28               1  ...              2                 0                  1\n",
              "4   5    22               2  ...              1                 0                  0\n",
              "\n",
              "[5 rows x 7 columns]"
            ]
          },
          "metadata": {
            "tags": []
          },
          "execution_count": 13
        }
      ]
    },
    {
      "cell_type": "code",
      "metadata": {
        "colab": {
          "base_uri": "https://localhost:8080/"
        },
        "id": "mRkay16l53Dh",
        "outputId": "ebe38111-ea15-49f3-d578-3dba3b47ac42"
      },
      "source": [
        "!pip install category_encoders"
      ],
      "execution_count": 14,
      "outputs": [
        {
          "output_type": "stream",
          "text": [
            "Collecting category_encoders\n",
            "\u001b[?25l  Downloading https://files.pythonhosted.org/packages/44/57/fcef41c248701ee62e8325026b90c432adea35555cbc870aff9cfba23727/category_encoders-2.2.2-py2.py3-none-any.whl (80kB)\n",
            "\r\u001b[K     |████                            | 10kB 20.2MB/s eta 0:00:01\r\u001b[K     |████████▏                       | 20kB 20.0MB/s eta 0:00:01\r\u001b[K     |████████████▏                   | 30kB 11.1MB/s eta 0:00:01\r\u001b[K     |████████████████▎               | 40kB 9.1MB/s eta 0:00:01\r\u001b[K     |████████████████████▎           | 51kB 7.8MB/s eta 0:00:01\r\u001b[K     |████████████████████████▍       | 61kB 8.2MB/s eta 0:00:01\r\u001b[K     |████████████████████████████▍   | 71kB 8.4MB/s eta 0:00:01\r\u001b[K     |████████████████████████████████| 81kB 5.3MB/s \n",
            "\u001b[?25hRequirement already satisfied: patsy>=0.5.1 in /usr/local/lib/python3.6/dist-packages (from category_encoders) (0.5.1)\n",
            "Requirement already satisfied: scipy>=1.0.0 in /usr/local/lib/python3.6/dist-packages (from category_encoders) (1.4.1)\n",
            "Requirement already satisfied: scikit-learn>=0.20.0 in /usr/local/lib/python3.6/dist-packages (from category_encoders) (0.22.2.post1)\n",
            "Requirement already satisfied: numpy>=1.14.0 in /usr/local/lib/python3.6/dist-packages (from category_encoders) (1.19.4)\n",
            "Requirement already satisfied: statsmodels>=0.9.0 in /usr/local/lib/python3.6/dist-packages (from category_encoders) (0.10.2)\n",
            "Requirement already satisfied: pandas>=0.21.1 in /usr/local/lib/python3.6/dist-packages (from category_encoders) (1.1.5)\n",
            "Requirement already satisfied: six in /usr/local/lib/python3.6/dist-packages (from patsy>=0.5.1->category_encoders) (1.15.0)\n",
            "Requirement already satisfied: joblib>=0.11 in /usr/local/lib/python3.6/dist-packages (from scikit-learn>=0.20.0->category_encoders) (1.0.0)\n",
            "Requirement already satisfied: python-dateutil>=2.7.3 in /usr/local/lib/python3.6/dist-packages (from pandas>=0.21.1->category_encoders) (2.8.1)\n",
            "Requirement already satisfied: pytz>=2017.2 in /usr/local/lib/python3.6/dist-packages (from pandas>=0.21.1->category_encoders) (2018.9)\n",
            "Installing collected packages: category-encoders\n",
            "Successfully installed category-encoders-2.2.2\n"
          ],
          "name": "stdout"
        }
      ]
    },
    {
      "cell_type": "code",
      "metadata": {
        "id": "D92TEhv74tc6"
      },
      "source": [
        "x_columns =['Usia', 'Melahirkan ke-', 'Waktu Melahirkan', 'Tekanan Darah', 'Gangguan Jantung']"
      ],
      "execution_count": 15,
      "outputs": []
    },
    {
      "cell_type": "code",
      "metadata": {
        "colab": {
          "base_uri": "https://localhost:8080/"
        },
        "id": "Vzo8CAFR4gYe",
        "outputId": "4d0e0543-1780-4ba9-d5ad-b263ad43b59a"
      },
      "source": [
        "X = df[x_columns]\r\n",
        "y = df['Melahirkan Normal']\r\n",
        "print(X.shape)\r\n",
        "\r\n"
      ],
      "execution_count": 16,
      "outputs": [
        {
          "output_type": "stream",
          "text": [
            "(80, 5)\n"
          ],
          "name": "stdout"
        }
      ]
    },
    {
      "cell_type": "code",
      "metadata": {
        "colab": {
          "base_uri": "https://localhost:8080/"
        },
        "id": "bzgph1fc5Ww3",
        "outputId": "6076c079-ce44-4f4d-f6e6-1cd265d0e559"
      },
      "source": [
        "from category_encoders.leave_one_out  import LeaveOneOutEncoder\r\n",
        "\r\n",
        "LOO_enc = LeaveOneOutEncoder(cols=['Usia', 'Melahirkan ke-', 'Waktu Melahirkan', 'Tekanan Darah', 'Gangguan Jantung'])\r\n",
        "LOO_enc.fit(X,y)"
      ],
      "execution_count": 17,
      "outputs": [
        {
          "output_type": "stream",
          "text": [
            "/usr/local/lib/python3.6/dist-packages/statsmodels/tools/_testing.py:19: FutureWarning: pandas.util.testing is deprecated. Use the functions in the public API at pandas.testing instead.\n",
            "  import pandas.util.testing as tm\n",
            "/usr/local/lib/python3.6/dist-packages/category_encoders/utils.py:21: FutureWarning: is_categorical is deprecated and will be removed in a future version.  Use is_categorical_dtype instead\n",
            "  elif pd.api.types.is_categorical(cols):\n"
          ],
          "name": "stderr"
        },
        {
          "output_type": "execute_result",
          "data": {
            "text/plain": [
              "LeaveOneOutEncoder(cols=['Usia', 'Melahirkan ke-', 'Waktu Melahirkan',\n",
              "                         'Tekanan Darah', 'Gangguan Jantung'],\n",
              "                   drop_invariant=False, handle_missing='value',\n",
              "                   handle_unknown='value', random_state=None, return_df=True,\n",
              "                   sigma=None, verbose=0)"
            ]
          },
          "metadata": {
            "tags": []
          },
          "execution_count": 17
        }
      ]
    },
    {
      "cell_type": "code",
      "metadata": {
        "id": "rMCkT4QK373X"
      },
      "source": [
        "from sklearn.model_selection import train_test_split\r\n",
        "\r\n",
        "X_train, X_test, y_train, y_test = train_test_split(\r\n",
        "     X, y, test_size=0.2, random_state=12)\r\n",
        "\r\n"
      ],
      "execution_count": 19,
      "outputs": []
    },
    {
      "cell_type": "code",
      "metadata": {
        "id": "YeSAvM8s4QKz"
      },
      "source": [
        "X_train = LOO_enc.transform(X_train)\r\n",
        "X_test = LOO_enc.transform(X_test)"
      ],
      "execution_count": 20,
      "outputs": []
    },
    {
      "cell_type": "markdown",
      "metadata": {
        "id": "NYaOb_E9N90K"
      },
      "source": [
        "## Modeling"
      ]
    },
    {
      "cell_type": "markdown",
      "metadata": {
        "id": "RJJ7vhWQ4rWS"
      },
      "source": [
        ">Pada proses modeling, dilakukan terhadap beberapa model klasifikasi yaitu logistic regression, SVM, decision tree, Gaussian Naive Bayes, Random forest classification, dan KNN."
      ]
    },
    {
      "cell_type": "code",
      "metadata": {
        "id": "S7vD9iFu6DZR"
      },
      "source": [
        "from sklearn.tree import DecisionTreeClassifier\r\n",
        "from sklearn.naive_bayes import GaussianNB\r\n",
        "from sklearn.ensemble import RandomForestClassifier\r\n",
        "from sklearn.neighbors import KNeighborsClassifier\r\n",
        "from sklearn.svm import SVC\r\n",
        "from sklearn.linear_model import LogisticRegression\r\n",
        "from sklearn.ensemble import GradientBoostingClassifier"
      ],
      "execution_count": 21,
      "outputs": []
    },
    {
      "cell_type": "code",
      "metadata": {
        "id": "xYehZph_6E0y"
      },
      "source": [
        "log_reg = LogisticRegression()\r\n",
        "svm = SVC(kernel='rbf', probability=True)\r\n",
        "dec_tree = DecisionTreeClassifier()\r\n",
        "gau_nb = GaussianNB(var_smoothing=0.0001)\r\n",
        "rfc = RandomForestClassifier(n_estimators=150)\r\n",
        "knn = KNeighborsClassifier(n_neighbors=5)\r\n",
        "grad_bos = GradientBoostingClassifier()"
      ],
      "execution_count": 22,
      "outputs": []
    },
    {
      "cell_type": "code",
      "metadata": {
        "colab": {
          "base_uri": "https://localhost:8080/"
        },
        "id": "ZPV9gr3C6H-y",
        "outputId": "93357fe2-a5bb-4888-8cdd-dd04f4c98686"
      },
      "source": [
        "svm.fit(X_train, y_train)\r\n",
        "rfc.fit(X_train, y_train)\r\n",
        "knn.fit(X_train, y_train)\r\n",
        "dec_tree.fit(X_train, y_train)\r\n",
        "gau_nb.fit(X_train, y_train)\r\n",
        "log_reg.fit(X_train, y_train)\r\n",
        "grad_bos.fit(X_train, y_train)\r\n",
        "log_reg.fit(X_train, y_train)\r\n",
        "grad_bos.fit(X_train, y_train)"
      ],
      "execution_count": 23,
      "outputs": [
        {
          "output_type": "execute_result",
          "data": {
            "text/plain": [
              "GradientBoostingClassifier(ccp_alpha=0.0, criterion='friedman_mse', init=None,\n",
              "                           learning_rate=0.1, loss='deviance', max_depth=3,\n",
              "                           max_features=None, max_leaf_nodes=None,\n",
              "                           min_impurity_decrease=0.0, min_impurity_split=None,\n",
              "                           min_samples_leaf=1, min_samples_split=2,\n",
              "                           min_weight_fraction_leaf=0.0, n_estimators=100,\n",
              "                           n_iter_no_change=None, presort='deprecated',\n",
              "                           random_state=None, subsample=1.0, tol=0.0001,\n",
              "                           validation_fraction=0.1, verbose=0,\n",
              "                           warm_start=False)"
            ]
          },
          "metadata": {
            "tags": []
          },
          "execution_count": 23
        }
      ]
    },
    {
      "cell_type": "code",
      "metadata": {
        "colab": {
          "base_uri": "https://localhost:8080/"
        },
        "id": "2H0CLTK3HiOf",
        "outputId": "4f362613-ba2a-4e73-95fe-d68da2edc5f7"
      },
      "source": [
        "print(f'svm score : {svm.score(X_test,y_test)}')\r\n",
        "print(f'random forest score : {rfc.score(X_test,y_test)}')\r\n",
        "print(f'KNN score : {knn.score(X_test,y_test)}')\r\n",
        "print(f'DecisionTree score : {dec_tree.score(X_test,y_test)}')\r\n",
        "print(f'Gaussian NB score : {gau_nb.score(X_test,y_test)}')\r\n",
        "print(f'Logistic Regression score : {log_reg.score(X_test,y_test)}')\r\n",
        "print(f'Gradient Boosting score : {grad_bos.score(X_test,y_test)}')"
      ],
      "execution_count": 24,
      "outputs": [
        {
          "output_type": "stream",
          "text": [
            "svm score : 0.75\n",
            "random forest score : 0.6875\n",
            "KNN score : 0.75\n",
            "DecisionTree score : 0.8125\n",
            "Gaussian NB score : 0.875\n",
            "Logistic Regression score : 0.875\n",
            "Gradient Boosting score : 0.6875\n"
          ],
          "name": "stdout"
        }
      ]
    },
    {
      "cell_type": "code",
      "metadata": {
        "id": "ymerz0ZYHm1A"
      },
      "source": [
        "y_pred_svm = svm.predict(X_test)\r\n",
        "y_pred_rfc = rfc.predict(X_test)\r\n",
        "y_pred_knn = knn.predict(X_test)\r\n",
        "y_pred_dec_tree = dec_tree.predict(X_test)\r\n",
        "y_pred_gau_nb = gau_nb.predict(X_test)\r\n",
        "y_pred_log_reg = log_reg.predict(X_test)\r\n",
        "y_pred_grad_bos = grad_bos.predict(X_test)"
      ],
      "execution_count": 25,
      "outputs": []
    },
    {
      "cell_type": "code",
      "metadata": {
        "colab": {
          "base_uri": "https://localhost:8080/"
        },
        "id": "N3JHWMMJHqwo",
        "outputId": "8a05a029-6c26-4e63-9986-cabe4f9a4c2d"
      },
      "source": [
        "print(f'F Score of SVM : {f1_score(y_test, y_pred_svm)}')\r\n",
        "print(f'F Score of RFC: {f1_score(y_test, y_pred_rfc)}')\r\n",
        "print(f'F Score of KNN : {f1_score(y_test, y_pred_knn)}')\r\n",
        "print(f'F Score of DECTREE : {f1_score(y_test, y_pred_dec_tree)}')\r\n",
        "print(f'F Score of GAUSNB : {f1_score(y_test, y_pred_gau_nb)}')\r\n",
        "print(f'F Score of LOGREG : {f1_score(y_test, y_pred_log_reg)}')\r\n",
        "print(f'F Score of GRADBOS : {f1_score(y_test, y_pred_grad_bos)}')"
      ],
      "execution_count": 26,
      "outputs": [
        {
          "output_type": "stream",
          "text": [
            "F Score of SVM : 0.6\n",
            "F Score of RFC: 0.28571428571428575\n",
            "F Score of KNN : 0.5\n",
            "F Score of DECTREE : 0.5714285714285715\n",
            "F Score of GAUSNB : 0.8\n",
            "F Score of LOGREG : 0.75\n",
            "F Score of GRADBOS : 0.28571428571428575\n"
          ],
          "name": "stdout"
        }
      ]
    },
    {
      "cell_type": "code",
      "metadata": {
        "colab": {
          "base_uri": "https://localhost:8080/"
        },
        "id": "2Kew_PgpHuiT",
        "outputId": "f02bffd2-945e-4413-ebce-108eda3c025b"
      },
      "source": [
        "from sklearn.model_selection import cross_val_score\r\n",
        "\r\n",
        "cv = 3\r\n",
        "print(f'CV Score of SVM : {cross_val_score(svm, X_train, y_train, cv=cv, n_jobs=-1)}')\r\n",
        "print(f'CV Score of RFC: {cross_val_score(rfc, X_train, y_train, cv=cv, n_jobs=-1)}')\r\n",
        "print(f'CV Score of KNN : {cross_val_score(knn, X_train, y_train, cv=cv, n_jobs=-1)}')\r\n",
        "print(f'CV Score of DECTREE : {cross_val_score(dec_tree, X_train, y_train, cv=cv, n_jobs=-1)}')\r\n",
        "print(f'CV Score of GAUSNB : {cross_val_score(gau_nb, X_train, y_train,cv=cv, n_jobs=-1)}')\r\n",
        "print(f'CV Score of LOGREG : {cross_val_score(log_reg, X_train, y_train, cv=cv, n_jobs=-1)}')\r\n",
        "print(f'CV Score of GRADBOS : {cross_val_score(grad_bos, X_train, y_train, cv=cv, n_jobs=-1)}')"
      ],
      "execution_count": 27,
      "outputs": [
        {
          "output_type": "stream",
          "text": [
            "CV Score of SVM : [0.77272727 0.71428571 0.76190476]\n",
            "CV Score of RFC: [0.72727273 0.52380952 0.57142857]\n",
            "CV Score of KNN : [0.77272727 0.57142857 0.66666667]\n",
            "CV Score of DECTREE : [0.72727273 0.52380952 0.61904762]\n",
            "CV Score of GAUSNB : [0.77272727 0.71428571 0.71428571]\n",
            "CV Score of LOGREG : [0.68181818 0.71428571 0.71428571]\n",
            "CV Score of GRADBOS : [0.72727273 0.61904762 0.61904762]\n"
          ],
          "name": "stdout"
        }
      ]
    },
    {
      "cell_type": "markdown",
      "metadata": {
        "id": "YuSFuGDN3Ptj"
      },
      "source": [
        ">CV= Cross validation membagi data menjadi beberapa bagian, pada kali ini dibagi menjadi 3 fold. Hasil dari akurasi CV pada logistic regression adalah 68%, 71% dan 71%. "
      ]
    },
    {
      "cell_type": "code",
      "metadata": {
        "colab": {
          "base_uri": "https://localhost:8080/"
        },
        "id": "raLM3DykHzzx",
        "outputId": "aff9e604-4018-4b52-abec-bbe22f7550a2"
      },
      "source": [
        "print(classification_report(y_test, y_pred_log_reg))\r\n"
      ],
      "execution_count": 28,
      "outputs": [
        {
          "output_type": "stream",
          "text": [
            "              precision    recall  f1-score   support\n",
            "\n",
            "           0       0.92      0.92      0.92        12\n",
            "           1       0.75      0.75      0.75         4\n",
            "\n",
            "    accuracy                           0.88        16\n",
            "   macro avg       0.83      0.83      0.83        16\n",
            "weighted avg       0.88      0.88      0.88        16\n",
            "\n"
          ],
          "name": "stdout"
        }
      ]
    },
    {
      "cell_type": "markdown",
      "metadata": {
        "id": "sPE5AJzTOt1M"
      },
      "source": [
        "Berdasarkan report diatas, dapat dilihat jika akurasi dari logistic regression adalah : logistic regression memiliki tingkat akurasi secara keseluruhan adalah 88% dengan nilai akurasi mengklasifikasikan ke kelas 0 yaitu 92 % dan kelas 1 yaitu 75%\r\n"
      ]
    },
    {
      "cell_type": "markdown",
      "metadata": {
        "id": "NP2iH3SNIiqf"
      },
      "source": [
        "## Evaluation"
      ]
    },
    {
      "cell_type": "markdown",
      "metadata": {
        "id": "r66S5Db9OEDc"
      },
      "source": [
        "### Confusion Matrix"
      ]
    },
    {
      "cell_type": "code",
      "metadata": {
        "colab": {
          "base_uri": "https://localhost:8080/",
          "height": 437
        },
        "id": "g_gtALy_IGhz",
        "outputId": "2bf47e5e-def5-4478-d2a4-0d0f500d4df8"
      },
      "source": [
        "conf_matrix = confusion_matrix(y_test, y_pred_log_reg)\r\n",
        "f, ax = plt.subplots(figsize=(10, 6))\r\n",
        "sns.heatmap(conf_matrix, annot=True, fmt=\"d\", linewidths=.5, ax=ax)\r\n",
        "plt.title(\"Confusion Matrix Logistic Regression\", fontsize=20)\r\n",
        "plt.subplots_adjust(left=0.15, right=0.99, bottom=0.15, top=0.99)\r\n",
        "ax.set_yticks(np.arange(conf_matrix.shape[0]) + 0.5, minor=False)\r\n",
        "ax.set_xticklabels(['Melahirkan Normal', 'Melahirkan Tidak Normal'], fontsize=16)\r\n",
        "ax.set_yticklabels(['Melahirkan Normal', 'Melahirkan Tidak Normal'], fontsize=16, rotation=360)\r\n",
        "plt.show()"
      ],
      "execution_count": 29,
      "outputs": [
        {
          "output_type": "display_data",
          "data": {
            "image/png": "[encoded data removed]",
            "text/plain": [
              "<Figure size 720x432 with 2 Axes>"
            ]
          },
          "metadata": {
            "tags": [],
            "needs_background": "light"
          }
        }
      ]
    },
    {
      "cell_type": "markdown",
      "metadata": {
        "id": "qz4hz93S3-hQ"
      },
      "source": [
        "> Berdasarkan confusion matrix dapat dilihat seberapa tepatkah model ini mengklasifikasikan data. 11 data melahirkan normal diklasifikasikan dengan benar dan 1 nya salah serta 3 data melahirkan tidak normal diklasifikasikan dengan benar dan 1 data diklasifikasikan salah. "
      ]
    },
    {
      "cell_type": "markdown",
      "metadata": {
        "id": "aq7f5xZHOKse"
      },
      "source": [
        "### ROC Curve"
      ]
    },
    {
      "cell_type": "code",
      "metadata": {
        "colab": {
          "base_uri": "https://localhost:8080/",
          "height": 295
        },
        "id": "HRgxZY6kIdqj",
        "outputId": "14ebdaff-ffde-447a-9d09-1d5087f0d1d9"
      },
      "source": [
        "from sklearn import metrics\r\n",
        "\r\n",
        "y_pred_svm_proba = svm.predict_proba(X_test)\r\n",
        "y_pred_rfc_proba = rfc.predict_proba(X_test)\r\n",
        "y_pred_knn_proba = knn.predict_proba(X_test)\r\n",
        "y_pred_dec_tree_proba = dec_tree.predict_proba(X_test)\r\n",
        "y_pred_gau_nb_proba = gau_nb.predict_proba(X_test)\r\n",
        "y_pred_log_reg_proba = log_reg.predict_proba(X_test)\r\n",
        "y_pred_grad_bos_proba = grad_bos.predict_proba(X_test)\r\n",
        "\r\n",
        "y_preds_svm = y_pred_svm_proba[:,1]\r\n",
        "y_preds_rfc = y_pred_rfc_proba[:,1]\r\n",
        "y_preds_knn = y_pred_knn_proba[:,1]\r\n",
        "y_preds_dectree = y_pred_dec_tree_proba[:,1]\r\n",
        "y_preds_gaunb = y_pred_gau_nb_proba[:,1]\r\n",
        "y_preds_logreg = y_pred_log_reg_proba[:,1]\r\n",
        "y_preds_gradbos = y_pred_grad_bos_proba[:,1]\r\n",
        "\r\n",
        "fpr_svm, tpr_svm, threshold_svm = metrics.roc_curve(y_test, y_preds_svm)\r\n",
        "roc_auc_svm = metrics.auc(fpr_svm, tpr_svm)\r\n",
        "fpr_rfc, tpr_rfc, threshold = metrics.roc_curve(y_test, y_preds_rfc)\r\n",
        "roc_auc_rfc = metrics.auc(fpr_rfc, tpr_rfc)\r\n",
        "fpr_knn, tpr_knn, threshold = metrics.roc_curve(y_test, y_preds_knn)\r\n",
        "roc_auc_knn = metrics.auc(fpr_knn, tpr_knn)\r\n",
        "fpr_dectree, tpr_dectree, threshold = metrics.roc_curve(y_test, y_preds_dectree)\r\n",
        "roc_auc_dectree = metrics.auc(fpr_dectree, tpr_dectree)\r\n",
        "fpr_gaunb, tpr_gaunb, threshold = metrics.roc_curve(y_test, y_preds_gaunb)\r\n",
        "roc_auc_gaunb = metrics.auc(fpr_gaunb, tpr_gaunb)\r\n",
        "fpr_logreg, tpr_logreg, threshold = metrics.roc_curve(y_test, y_preds_logreg)\r\n",
        "roc_auc_logreg = metrics.auc(fpr_logreg, tpr_logreg)\r\n",
        "fpr_gradbos, tpr_gradbos, threshold = metrics.roc_curve(y_test, y_preds_gradbos)\r\n",
        "roc_auc_grabos = metrics.auc(fpr_gradbos, tpr_gradbos)\r\n",
        "\r\n",
        "plt.title('Receiver Operating Characteristic')\r\n",
        "plt.plot(fpr_svm, tpr_svm, label = 'AUC SVM = %0.2f' % roc_auc_svm)\r\n",
        "plt.plot(fpr_rfc, tpr_rfc, label = 'AUC RFC = %0.2f' % roc_auc_rfc)\r\n",
        "plt.plot(fpr_knn, tpr_knn, label = 'AUC KNN = %0.2f' % roc_auc_knn)\r\n",
        "plt.plot(fpr_dectree, tpr_dectree, label = 'AUC DecTree = %0.2f' % roc_auc_dectree)\r\n",
        "plt.plot(fpr_gaunb, tpr_gaunb, label = 'AUC GausNB = %0.2f' % roc_auc_gaunb)\r\n",
        "plt.plot(fpr_logreg, tpr_logreg, label = 'AUC LogReg = %0.2f' % roc_auc_logreg)\r\n",
        "plt.plot(fpr_gradbos, tpr_gradbos, label = 'AUC GradBos = %0.2f' % roc_auc_grabos)\r\n",
        "\r\n",
        "plt.legend(loc = 'lower right')\r\n",
        "plt.plot([0, 1], [0, 1],'r--')\r\n",
        "plt.xlim([-0.01, 1])\r\n",
        "plt.ylim([0, 1.01])\r\n",
        "plt.ylabel('True Positive Rate')\r\n",
        "plt.xlabel('False Positive Rate')\r\n",
        "plt.show()"
      ],
      "execution_count": 33,
      "outputs": [
        {
          "output_type": "display_data",
          "data": {
            "image/png": "[encoded data removed]",
            "text/plain": [
              "<Figure size 432x288 with 1 Axes>"
            ]
          },
          "metadata": {
            "tags": [],
            "needs_background": "light"
          }
        }
      ]
    },
    {
      "cell_type": "markdown",
      "metadata": {
        "id": "XUmvepzh4ZGt"
      },
      "source": [
        ">Kurva ROC adalah cara lain selain confusion matrix untuk mengukur performansi suatu model. Pada kurva ROC dapat dilihat jika logistic regression memiliki nilai TPR lebih tinggi dibandingkan dengan model lainnya sehingga nilai AUC nya juga tinggi yaitu 96%. "
      ]
    },
    {
      "cell_type": "markdown",
      "metadata": {
        "id": "wfp3NYlhOILq"
      },
      "source": [
        "### Log Loss"
      ]
    },
    {
      "cell_type": "code",
      "metadata": {
        "colab": {
          "base_uri": "https://localhost:8080/"
        },
        "id": "0p4HM-yBLGAl",
        "outputId": "bda0e76f-f512-4c95-c3c5-70205463586d"
      },
      "source": [
        "from sklearn.metrics import log_loss\r\n",
        "log_loss(y_test, y_pred_log_reg_proba)"
      ],
      "execution_count": 35,
      "outputs": [
        {
          "output_type": "execute_result",
          "data": {
            "text/plain": [
              "0.5270724822679562"
            ]
          },
          "metadata": {
            "tags": []
          },
          "execution_count": 35
        }
      ]
    }
  ]
}