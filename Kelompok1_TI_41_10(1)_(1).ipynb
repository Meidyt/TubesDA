{
  "nbformat": 4,
  "nbformat_minor": 0,
  "metadata": {
    "colab": {
      "name": "Kelompok1_TI_41_10(1) (1).ipynb",
      "provenance": [],
      "collapsed_sections": [
        "79SHDOcENAdu",
        "1CFmV2Rnteuj",
        "yayj9XWdthPS",
        "frTep4rQ6QeV"
      ],
      "include_colab_link": true
    },
    "kernelspec": {
      "display_name": "Python 3",
      "language": "python",
      "name": "python3"
    },
    "language_info": {
      "codemirror_mode": {
        "name": "ipython",
        "version": 3
      },
      "file_extension": ".py",
      "mimetype": "text/x-python",
      "name": "python",
      "nbconvert_exporter": "python",
      "pygments_lexer": "ipython3",
      "version": "3.6.9"
    }
  },
  "cells": [
    {
      "cell_type": "markdown",
      "metadata": {
        "id": "view-in-github",
        "colab_type": "text"
      },
      "source": [
        "<a href=\"https://colab.research.google.com/github/Meidyt/TubesDA/blob/main/Kelompok1_TI_41_10(1)_(1).ipynb\" target=\"_parent\"><img src=\"https://colab.research.google.com/assets/colab-badge.svg\" alt=\"Open In Colab\"/></a>"
      ]
    },
    {
      "cell_type": "markdown",
      "metadata": {
        "id": "nvXLjhPgYD0H"
      },
      "source": [
        "# Kelompok 1 / TI-41-10\r\n",
        "\r\n",
        "\r\n",
        "*   Meidy Tataluckyta (1201170233)\r\n",
        "* Grace Elfrida (1201170348)\r\n",
        "* Muhammad Sohibul Wafa (1201174286)\r\n",
        "*Ghifari N (1201174073)"
      ]
    },
    {
      "cell_type": "markdown",
      "metadata": {
        "id": "6XeGssmoPneU"
      },
      "source": [
        "# CLASSIFICATION"
      ]
    },
    {
      "cell_type": "markdown",
      "metadata": {
        "id": "3fAKR-zPJD8d"
      },
      "source": [
        "klasifikasi adalah masuk ke dalam *supervised learning*, dimana data melalui proses training. Pada kali ini pula, digunakan 3 model yang berbeda dimana komponen tiap modelnya berbeda namun dalam pengelompokannya dibagi berdasarkan *cross validation* pada modelnya, ada model yang menggunakan CV 2, 3 dan tanpa CV. Ketiga model tersebut akan dibandingkan tingkat akurasinya. \r\n"
      ]
    },
    {
      "cell_type": "markdown",
      "metadata": {
        "id": "79SHDOcENAdu"
      },
      "source": [
        "## Import Libraries"
      ]
    },
    {
      "cell_type": "code",
      "metadata": {
        "id": "oOCDQAoVro9R"
      },
      "source": [
        "import os\n",
        "import sys\n",
        "\n",
        "import pandas as pd\n",
        "import numpy as np\n",
        "\n",
        "import seaborn as sns\n",
        "import matplotlib.pyplot as plt\n",
        "%matplotlib inline\n",
        "\n",
        "from sklearn.metrics import classification_report, f1_score, accuracy_score,\\\n",
        "                            confusion_matrix\n",
        "                          \n",
        "\n"
      ],
      "execution_count": null,
      "outputs": []
    },
    {
      "cell_type": "code",
      "metadata": {
        "id": "p8BB2F7wr31o"
      },
      "source": [
        "df = pd.read_csv('https://raw.githubusercontent.com/Meidyt/TubesDA/main/Dataset.csv', sep = ',')\n",
        "df\n",
        "df.head()"
      ],
      "execution_count": null,
      "outputs": []
    },
    {
      "cell_type": "markdown",
      "metadata": {
        "id": "z4dV4No0NFEp"
      },
      "source": [
        "## Data Preprocessing"
      ]
    },
    {
      "cell_type": "markdown",
      "metadata": {
        "id": "Ju13SaMKb_Lr"
      },
      "source": [
        "Sebelum melakukan olah data, kami melakukan *data preprocessing*. Hal ini berfungsi untuk mengecek ketersediaan data yang akan digunakan. "
      ]
    },
    {
      "cell_type": "code",
      "metadata": {
        "id": "ZpBLdX4F1QIZ"
      },
      "source": [
        "df.shape"
      ],
      "execution_count": null,
      "outputs": []
    },
    {
      "cell_type": "code",
      "metadata": {
        "id": "3x1e81sn1YIy"
      },
      "source": [
        "df.info()"
      ],
      "execution_count": null,
      "outputs": []
    },
    {
      "cell_type": "code",
      "metadata": {
        "id": "s43e2Pyg1cOI"
      },
      "source": [
        "df.describe()"
      ],
      "execution_count": null,
      "outputs": []
    },
    {
      "cell_type": "code",
      "metadata": {
        "id": "EnCQug8u1nyU"
      },
      "source": [
        "df.isna().sum()"
      ],
      "execution_count": null,
      "outputs": []
    },
    {
      "cell_type": "markdown",
      "metadata": {
        "id": "PK0wmuJkdj5M"
      },
      "source": [
        "Berdasarkan *Data Preprocessing* diatas, dapat diketahui jika data yang akan diklasifikasikan adalah 80 data dan tidak terjadi *missing value* serta semua data telah dalam tipe data yang sama. "
      ]
    },
    {
      "cell_type": "markdown",
      "metadata": {
        "id": "1R0YaI0pAEga"
      },
      "source": [
        "## EDA"
      ]
    },
    {
      "cell_type": "markdown",
      "metadata": {
        "id": "6Ag7Umw1dH3Q"
      },
      "source": [
        "EDA (Exploratory Data Analysis) merupakan tahapan yang perlu dilakukan untuk dapat memahami suatu data yang akan diolah. Hal ini bisa dilakukan dengan melihat distribusi, frekuensi, maupun korelasi dari data yang dimiliki. "
      ]
    },
    {
      "cell_type": "code",
      "metadata": {
        "id": "-rr_62md1tLq"
      },
      "source": [
        "eda = df['Melahirkan Normal'].value_counts()\n",
        "eda.plot.bar()"
      ],
      "execution_count": null,
      "outputs": []
    },
    {
      "cell_type": "code",
      "metadata": {
        "id": "HBHW0odF12XW"
      },
      "source": [
        "eda = df[['Usia', 'Melahirkan Normal']]\n",
        "sns.boxplot(x=\"Melahirkan Normal\", y=\"Usia\", data=eda)"
      ],
      "execution_count": null,
      "outputs": []
    },
    {
      "cell_type": "code",
      "metadata": {
        "id": "pfi7z-Qw2FDt"
      },
      "source": [
        "eda = df[['Melahirkan ke-', 'Melahirkan Normal']]\n",
        "sns.boxplot(x=\"Melahirkan Normal\", y=\"Melahirkan ke-\", data=eda)"
      ],
      "execution_count": null,
      "outputs": []
    },
    {
      "cell_type": "code",
      "metadata": {
        "colab": {
          "base_uri": "https://localhost:8080/",
          "height": 293
        },
        "id": "92mbjZty2NpT",
        "outputId": "75b08e13-2c7e-4385-d914-54300b4f2cf5"
      },
      "source": [
        "eda = df[['Melahirkan Normal','Waktu Melahirkan']]\n",
        "eda = pd.crosstab(eda['Waktu Melahirkan'], eda['Melahirkan Normal'])\n",
        "eda.plot.bar(stacked=False)"
      ],
      "execution_count": null,
      "outputs": [
        {
          "output_type": "execute_result",
          "data": {
            "text/plain": [
              "<matplotlib.axes._subplots.AxesSubplot at 0x7fca2d4c1518>"
            ]
          },
          "metadata": {
            "tags": []
          },
          "execution_count": 36
        },
        {
          "output_type": "display_data",
          "data": {
            "image/png": "[encoded data removed]",
            "text/plain": [
              "<Figure size 432x288 with 1 Axes>"
            ]
          },
          "metadata": {
            "tags": [],
            "needs_background": "light"
          }
        }
      ]
    },
    {
      "cell_type": "code",
      "metadata": {
        "colab": {
          "base_uri": "https://localhost:8080/",
          "height": 293
        },
        "id": "SYsY3QAO3LXd",
        "outputId": "640978bf-0a09-466f-b587-255a5e0b7adf"
      },
      "source": [
        "eda = df[['Melahirkan Normal','Tekanan Darah']]\n",
        "eda = pd.crosstab(eda['Tekanan Darah'], eda['Melahirkan Normal'])\n",
        "eda.plot.bar(stacked=False)"
      ],
      "execution_count": null,
      "outputs": [
        {
          "output_type": "execute_result",
          "data": {
            "text/plain": [
              "<matplotlib.axes._subplots.AxesSubplot at 0x7fca2d42ec50>"
            ]
          },
          "metadata": {
            "tags": []
          },
          "execution_count": 37
        },
        {
          "output_type": "display_data",
          "data": {
            "image/png": "[encoded data removed]",
            "text/plain": [
              "<Figure size 432x288 with 1 Axes>"
            ]
          },
          "metadata": {
            "tags": [],
            "needs_background": "light"
          }
        }
      ]
    },
    {
      "cell_type": "code",
      "metadata": {
        "colab": {
          "base_uri": "https://localhost:8080/",
          "height": 293
        },
        "id": "VesV4_h43Smj",
        "outputId": "be6be646-1090-472c-f822-8b8886d146b3"
      },
      "source": [
        "eda = df[['Melahirkan Normal','Gangguan Jantung']]\n",
        "eda = pd.crosstab(eda['Gangguan Jantung'], eda['Melahirkan Normal'])\n",
        "eda.plot.bar(stacked=False)"
      ],
      "execution_count": null,
      "outputs": [
        {
          "output_type": "execute_result",
          "data": {
            "text/plain": [
              "<matplotlib.axes._subplots.AxesSubplot at 0x7fca2d3a3f60>"
            ]
          },
          "metadata": {
            "tags": []
          },
          "execution_count": 38
        },
        {
          "output_type": "display_data",
          "data": {
            "image/png": "[encoded data removed]",
            "text/plain": [
              "<Figure size 432x288 with 1 Axes>"
            ]
          },
          "metadata": {
            "tags": [],
            "needs_background": "light"
          }
        }
      ]
    },
    {
      "cell_type": "markdown",
      "metadata": {
        "id": "J9W4zNBwP5TK"
      },
      "source": [
        "Beberapa visualisasi data diatas dapat digunakan untuk mempermudah melihat berapa banyak data melahirkan normal dan tidak normal pada beberapa label data lainnya. "
      ]
    },
    {
      "cell_type": "code",
      "metadata": {
        "colab": {
          "base_uri": "https://localhost:8080/",
          "height": 195
        },
        "id": "hDTvw4Jp3xAc",
        "outputId": "1be11fdb-eb85-4d71-81ed-b0687d187814"
      },
      "source": [
        "df.head()"
      ],
      "execution_count": null,
      "outputs": [
        {
          "output_type": "execute_result",
          "data": {
            "text/html": [
              "<div>\n",
              "<style scoped>\n",
              "    .dataframe tbody tr th:only-of-type {\n",
              "        vertical-align: middle;\n",
              "    }\n",
              "\n",
              "    .dataframe tbody tr th {\n",
              "        vertical-align: top;\n",
              "    }\n",
              "\n",
              "    .dataframe thead th {\n",
              "        text-align: right;\n",
              "    }\n",
              "</style>\n",
              "<table border=\"1\" class=\"dataframe\">\n",
              "  <thead>\n",
              "    <tr style=\"text-align: right;\">\n",
              "      <th></th>\n",
              "      <th>ID</th>\n",
              "      <th>Usia</th>\n",
              "      <th>Melahirkan ke-</th>\n",
              "      <th>Waktu Melahirkan</th>\n",
              "      <th>Tekanan Darah</th>\n",
              "      <th>Gangguan Jantung</th>\n",
              "      <th>Melahirkan Normal</th>\n",
              "    </tr>\n",
              "  </thead>\n",
              "  <tbody>\n",
              "    <tr>\n",
              "      <th>0</th>\n",
              "      <td>1</td>\n",
              "      <td>22</td>\n",
              "      <td>1</td>\n",
              "      <td>0</td>\n",
              "      <td>2</td>\n",
              "      <td>0</td>\n",
              "      <td>1</td>\n",
              "    </tr>\n",
              "    <tr>\n",
              "      <th>1</th>\n",
              "      <td>2</td>\n",
              "      <td>26</td>\n",
              "      <td>2</td>\n",
              "      <td>0</td>\n",
              "      <td>1</td>\n",
              "      <td>0</td>\n",
              "      <td>0</td>\n",
              "    </tr>\n",
              "    <tr>\n",
              "      <th>2</th>\n",
              "      <td>3</td>\n",
              "      <td>26</td>\n",
              "      <td>2</td>\n",
              "      <td>1</td>\n",
              "      <td>1</td>\n",
              "      <td>0</td>\n",
              "      <td>1</td>\n",
              "    </tr>\n",
              "    <tr>\n",
              "      <th>3</th>\n",
              "      <td>4</td>\n",
              "      <td>28</td>\n",
              "      <td>1</td>\n",
              "      <td>0</td>\n",
              "      <td>2</td>\n",
              "      <td>0</td>\n",
              "      <td>1</td>\n",
              "    </tr>\n",
              "    <tr>\n",
              "      <th>4</th>\n",
              "      <td>5</td>\n",
              "      <td>22</td>\n",
              "      <td>2</td>\n",
              "      <td>0</td>\n",
              "      <td>1</td>\n",
              "      <td>0</td>\n",
              "      <td>0</td>\n",
              "    </tr>\n",
              "  </tbody>\n",
              "</table>\n",
              "</div>"
            ],
            "text/plain": [
              "   ID  Usia  Melahirkan ke-  ...  Tekanan Darah  Gangguan Jantung  Melahirkan Normal\n",
              "0   1    22               1  ...              2                 0                  1\n",
              "1   2    26               2  ...              1                 0                  0\n",
              "2   3    26               2  ...              1                 0                  1\n",
              "3   4    28               1  ...              2                 0                  1\n",
              "4   5    22               2  ...              1                 0                  0\n",
              "\n",
              "[5 rows x 7 columns]"
            ]
          },
          "metadata": {
            "tags": []
          },
          "execution_count": 39
        }
      ]
    },
    {
      "cell_type": "markdown",
      "metadata": {
        "id": "1CFmV2Rnteuj"
      },
      "source": [
        "# MODELING CV 3"
      ]
    },
    {
      "cell_type": "markdown",
      "metadata": {
        "id": "gy-7WKVSVvf6"
      },
      "source": [
        "Pada model kali ini digunakan suatu model dengan cross validation 3. Cross validation ini akan membagi data menjadi beberapa bagian. "
      ]
    },
    {
      "cell_type": "code",
      "metadata": {
        "colab": {
          "base_uri": "https://localhost:8080/"
        },
        "id": "mRkay16l53Dh",
        "outputId": "eb1c89ee-5a58-4929-acbc-d7d43a5e4a7e"
      },
      "source": [
        "!pip install category_encoders"
      ],
      "execution_count": null,
      "outputs": [
        {
          "output_type": "stream",
          "text": [
            "Requirement already satisfied: category_encoders in /usr/local/lib/python3.6/dist-packages (2.2.2)\n",
            "Requirement already satisfied: scikit-learn>=0.20.0 in /usr/local/lib/python3.6/dist-packages (from category_encoders) (0.22.2.post1)\n",
            "Requirement already satisfied: pandas>=0.21.1 in /usr/local/lib/python3.6/dist-packages (from category_encoders) (1.1.5)\n",
            "Requirement already satisfied: numpy>=1.14.0 in /usr/local/lib/python3.6/dist-packages (from category_encoders) (1.19.5)\n",
            "Requirement already satisfied: patsy>=0.5.1 in /usr/local/lib/python3.6/dist-packages (from category_encoders) (0.5.1)\n",
            "Requirement already satisfied: scipy>=1.0.0 in /usr/local/lib/python3.6/dist-packages (from category_encoders) (1.4.1)\n",
            "Requirement already satisfied: statsmodels>=0.9.0 in /usr/local/lib/python3.6/dist-packages (from category_encoders) (0.10.2)\n",
            "Requirement already satisfied: joblib>=0.11 in /usr/local/lib/python3.6/dist-packages (from scikit-learn>=0.20.0->category_encoders) (1.0.0)\n",
            "Requirement already satisfied: python-dateutil>=2.7.3 in /usr/local/lib/python3.6/dist-packages (from pandas>=0.21.1->category_encoders) (2.8.1)\n",
            "Requirement already satisfied: pytz>=2017.2 in /usr/local/lib/python3.6/dist-packages (from pandas>=0.21.1->category_encoders) (2018.9)\n",
            "Requirement already satisfied: six in /usr/local/lib/python3.6/dist-packages (from patsy>=0.5.1->category_encoders) (1.15.0)\n"
          ],
          "name": "stdout"
        }
      ]
    },
    {
      "cell_type": "code",
      "metadata": {
        "id": "D92TEhv74tc6"
      },
      "source": [
        "x_columns =['Usia', 'Melahirkan ke-', 'Waktu Melahirkan', 'Tekanan Darah', 'Gangguan Jantung']"
      ],
      "execution_count": null,
      "outputs": []
    },
    {
      "cell_type": "code",
      "metadata": {
        "colab": {
          "base_uri": "https://localhost:8080/"
        },
        "id": "Vzo8CAFR4gYe",
        "outputId": "a09962ab-466d-44e2-f5a4-6459df931537"
      },
      "source": [
        "X = df[x_columns]\n",
        "y = df['Melahirkan Normal']\n",
        "print(X.shape)\n",
        "\n"
      ],
      "execution_count": null,
      "outputs": [
        {
          "output_type": "stream",
          "text": [
            "(80, 5)\n"
          ],
          "name": "stdout"
        }
      ]
    },
    {
      "cell_type": "code",
      "metadata": {
        "colab": {
          "base_uri": "https://localhost:8080/"
        },
        "id": "bzgph1fc5Ww3",
        "outputId": "018e61c9-6e62-4b5f-e9cc-22e1025ada38"
      },
      "source": [
        "from category_encoders.leave_one_out  import LeaveOneOutEncoder\n",
        "\n",
        "LOO_enc = LeaveOneOutEncoder(cols=['Usia', 'Melahirkan ke-', 'Waktu Melahirkan', 'Tekanan Darah', 'Gangguan Jantung'])\n",
        "LOO_enc.fit(X,y)"
      ],
      "execution_count": null,
      "outputs": [
        {
          "output_type": "stream",
          "text": [
            "/usr/local/lib/python3.6/dist-packages/category_encoders/utils.py:21: FutureWarning: is_categorical is deprecated and will be removed in a future version.  Use is_categorical_dtype instead\n",
            "  elif pd.api.types.is_categorical(cols):\n"
          ],
          "name": "stderr"
        },
        {
          "output_type": "execute_result",
          "data": {
            "text/plain": [
              "LeaveOneOutEncoder(cols=['Usia', 'Melahirkan ke-', 'Waktu Melahirkan',\n",
              "                         'Tekanan Darah', 'Gangguan Jantung'],\n",
              "                   drop_invariant=False, handle_missing='value',\n",
              "                   handle_unknown='value', random_state=None, return_df=True,\n",
              "                   sigma=None, verbose=0)"
            ]
          },
          "metadata": {
            "tags": []
          },
          "execution_count": 43
        }
      ]
    },
    {
      "cell_type": "code",
      "metadata": {
        "id": "rMCkT4QK373X"
      },
      "source": [
        "from sklearn.model_selection import train_test_split\n",
        "\n",
        "X_train, X_test, y_train, y_test = train_test_split(\n",
        "     X, y, test_size=0.2, random_state=15)\n",
        "\n"
      ],
      "execution_count": null,
      "outputs": []
    },
    {
      "cell_type": "code",
      "metadata": {
        "id": "YeSAvM8s4QKz"
      },
      "source": [
        "X_train = LOO_enc.transform(X_train)\n",
        "X_test = LOO_enc.transform(X_test)"
      ],
      "execution_count": null,
      "outputs": []
    },
    {
      "cell_type": "markdown",
      "metadata": {
        "id": "NYaOb_E9N90K"
      },
      "source": [
        "## Modeling"
      ]
    },
    {
      "cell_type": "markdown",
      "metadata": {
        "id": "RJJ7vhWQ4rWS"
      },
      "source": [
        ">Pada proses modeling, dilakukan terhadap beberapa model klasifikasi yaitu logistic regression, SVM, decision tree, Gaussian Naive Bayes, Random forest classification, dan KNN."
      ]
    },
    {
      "cell_type": "code",
      "metadata": {
        "id": "S7vD9iFu6DZR"
      },
      "source": [
        "from sklearn.tree import DecisionTreeClassifier\n",
        "from sklearn.naive_bayes import GaussianNB\n",
        "from sklearn.ensemble import RandomForestClassifier\n",
        "from sklearn.neighbors import KNeighborsClassifier\n",
        "from sklearn.svm import SVC\n",
        "from sklearn.linear_model import LogisticRegression\n",
        "from sklearn.ensemble import GradientBoostingClassifier"
      ],
      "execution_count": null,
      "outputs": []
    },
    {
      "cell_type": "code",
      "metadata": {
        "id": "xYehZph_6E0y"
      },
      "source": [
        "log_reg = LogisticRegression()\n",
        "svm = SVC(kernel='rbf', probability=True)\n",
        "dec_tree = DecisionTreeClassifier()\n",
        "gau_nb = GaussianNB(var_smoothing=0.0001)\n",
        "rfc = RandomForestClassifier(n_estimators=150)\n",
        "knn = KNeighborsClassifier(n_neighbors=5)\n",
        "grad_bos = GradientBoostingClassifier()"
      ],
      "execution_count": null,
      "outputs": []
    },
    {
      "cell_type": "code",
      "metadata": {
        "colab": {
          "base_uri": "https://localhost:8080/"
        },
        "id": "ZPV9gr3C6H-y",
        "outputId": "e540229a-34c0-46b8-d35a-4e105dc1bf9b"
      },
      "source": [
        "svm.fit(X_train, y_train)\n",
        "rfc.fit(X_train, y_train)\n",
        "knn.fit(X_train, y_train)\n",
        "dec_tree.fit(X_train, y_train)\n",
        "gau_nb.fit(X_train, y_train)\n",
        "log_reg.fit(X_train, y_train)\n",
        "grad_bos.fit(X_train, y_train)\n",
        "log_reg.fit(X_train, y_train)\n",
        "grad_bos.fit(X_train, y_train)"
      ],
      "execution_count": null,
      "outputs": [
        {
          "output_type": "execute_result",
          "data": {
            "text/plain": [
              "GradientBoostingClassifier(ccp_alpha=0.0, criterion='friedman_mse', init=None,\n",
              "                           learning_rate=0.1, loss='deviance', max_depth=3,\n",
              "                           max_features=None, max_leaf_nodes=None,\n",
              "                           min_impurity_decrease=0.0, min_impurity_split=None,\n",
              "                           min_samples_leaf=1, min_samples_split=2,\n",
              "                           min_weight_fraction_leaf=0.0, n_estimators=100,\n",
              "                           n_iter_no_change=None, presort='deprecated',\n",
              "                           random_state=None, subsample=1.0, tol=0.0001,\n",
              "                           validation_fraction=0.1, verbose=0,\n",
              "                           warm_start=False)"
            ]
          },
          "metadata": {
            "tags": []
          },
          "execution_count": 58
        }
      ]
    },
    {
      "cell_type": "code",
      "metadata": {
        "colab": {
          "base_uri": "https://localhost:8080/"
        },
        "id": "2H0CLTK3HiOf",
        "outputId": "0b39f66c-5d59-40dc-9415-2f165a1af6eb"
      },
      "source": [
        "print(f'svm score : {svm.score(X_test,y_test)}')\n",
        "print(f'random forest score : {rfc.score(X_test,y_test)}')\n",
        "print(f'KNN score : {knn.score(X_test,y_test)}')\n",
        "print(f'DecisionTree score : {dec_tree.score(X_test,y_test)}')\n",
        "print(f'Gaussian NB score : {gau_nb.score(X_test,y_test)}')\n",
        "print(f'Logistic Regression score : {log_reg.score(X_test,y_test)}')\n",
        "print(f'Gradient Boosting score : {grad_bos.score(X_test,y_test)}')"
      ],
      "execution_count": null,
      "outputs": [
        {
          "output_type": "stream",
          "text": [
            "svm score : 0.625\n",
            "random forest score : 0.6875\n",
            "KNN score : 0.5\n",
            "DecisionTree score : 0.625\n",
            "Gaussian NB score : 0.8125\n",
            "Logistic Regression score : 0.6875\n",
            "Gradient Boosting score : 0.6875\n"
          ],
          "name": "stdout"
        }
      ]
    },
    {
      "cell_type": "code",
      "metadata": {
        "id": "ymerz0ZYHm1A"
      },
      "source": [
        "y_pred_svm = svm.predict(X_test)\n",
        "y_pred_rfc = rfc.predict(X_test)\n",
        "y_pred_knn = knn.predict(X_test)\n",
        "y_pred_dec_tree = dec_tree.predict(X_test)\n",
        "y_pred_gau_nb = gau_nb.predict(X_test)\n",
        "y_pred_log_reg = log_reg.predict(X_test)\n",
        "y_pred_grad_bos = grad_bos.predict(X_test)"
      ],
      "execution_count": null,
      "outputs": []
    },
    {
      "cell_type": "code",
      "metadata": {
        "colab": {
          "base_uri": "https://localhost:8080/"
        },
        "id": "N3JHWMMJHqwo",
        "outputId": "8dff1bf9-e885-4e06-c789-028fcdd14f7f"
      },
      "source": [
        "print(f'F Score of SVM : {f1_score(y_test, y_pred_svm)}')\n",
        "print(f'F Score of RFC: {f1_score(y_test, y_pred_rfc)}')\n",
        "print(f'F Score of KNN : {f1_score(y_test, y_pred_knn)}')\n",
        "print(f'F Score of DECTREE : {f1_score(y_test, y_pred_dec_tree)}')\n",
        "print(f'F Score of GAUSNB : {f1_score(y_test, y_pred_gau_nb)}')\n",
        "print(f'F Score of LOGREG : {f1_score(y_test, y_pred_log_reg)}')\n",
        "print(f'F Score of GRADBOS : {f1_score(y_test, y_pred_grad_bos)}')"
      ],
      "execution_count": null,
      "outputs": [
        {
          "output_type": "stream",
          "text": [
            "F Score of SVM : 0.5714285714285715\n",
            "F Score of RFC: 0.6153846153846154\n",
            "F Score of KNN : 0.5\n",
            "F Score of DECTREE : 0.5714285714285715\n",
            "F Score of GAUSNB : 0.7999999999999999\n",
            "F Score of LOGREG : 0.6153846153846154\n",
            "F Score of GRADBOS : 0.7058823529411765\n"
          ],
          "name": "stdout"
        }
      ]
    },
    {
      "cell_type": "code",
      "metadata": {
        "id": "2Kew_PgpHuiT"
      },
      "source": [
        "from sklearn.model_selection import cross_val_score\n",
        "\n",
        "cv = 3\n",
        "print(f'CV Score of SVM : {cross_val_score(svm, X_train, y_train, cv=cv, n_jobs=-1)}')\n",
        "print(f'CV Score of RFC: {cross_val_score(rfc, X_train, y_train, cv=cv, n_jobs=-1)}')\n",
        "print(f'CV Score of KNN : {cross_val_score(knn, X_train, y_train, cv=cv, n_jobs=-1)}')\n",
        "print(f'CV Score of DECTREE : {cross_val_score(dec_tree, X_train, y_train, cv=cv, n_jobs=-1)}')\n",
        "print(f'CV Score of GAUSNB : {cross_val_score(gau_nb, X_train, y_train,cv=cv, n_jobs=-1)}')\n",
        "print(f'CV Score of LOGREG : {cross_val_score(log_reg, X_train, y_train, cv=cv, n_jobs=-1)}')\n",
        "print(f'CV Score of GRADBOS : {cross_val_score(grad_bos, X_train, y_train, cv=cv, n_jobs=-1)}')"
      ],
      "execution_count": null,
      "outputs": []
    },
    {
      "cell_type": "markdown",
      "metadata": {
        "id": "YuSFuGDN3Ptj"
      },
      "source": [
        ">CV= Cross validation membagi data menjadi beberapa bagian, pada kali ini dibagi menjadi 3 fold. Hasil dari akurasi CV pada logistic regression adalah 68%, 71% dan 71%. "
      ]
    },
    {
      "cell_type": "code",
      "metadata": {
        "id": "raLM3DykHzzx"
      },
      "source": [
        "print(classification_report(y_test, y_pred_log_reg))\n"
      ],
      "execution_count": null,
      "outputs": []
    },
    {
      "cell_type": "markdown",
      "metadata": {
        "id": "sPE5AJzTOt1M"
      },
      "source": [
        "Berdasarkan report diatas, dapat dilihat jika akurasi dari logistic regression adalah : logistic regression memiliki tingkat akurasi secara keseluruhan adalah 88% dengan nilai akurasi mengklasifikasikan ke kelas 0 yaitu 92 % dan kelas 1 yaitu 75%\n"
      ]
    },
    {
      "cell_type": "markdown",
      "metadata": {
        "id": "NP2iH3SNIiqf"
      },
      "source": [
        "## Evaluation"
      ]
    },
    {
      "cell_type": "markdown",
      "metadata": {
        "id": "r66S5Db9OEDc"
      },
      "source": [
        "### Confusion Matrix"
      ]
    },
    {
      "cell_type": "code",
      "metadata": {
        "id": "g_gtALy_IGhz"
      },
      "source": [
        "conf_matrix = confusion_matrix(y_test, y_pred_log_reg)\n",
        "f, ax = plt.subplots(figsize=(10, 6))\n",
        "sns.heatmap(conf_matrix, annot=True, fmt=\"d\", linewidths=.5, ax=ax)\n",
        "plt.title(\"Confusion Matrix Logistic Regression\", fontsize=20)\n",
        "plt.subplots_adjust(left=0.15, right=0.99, bottom=0.15, top=0.99)\n",
        "ax.set_yticks(np.arange(conf_matrix.shape[0]) + 0.5, minor=False)\n",
        "ax.set_xticklabels(['Melahirkan Normal', 'Melahirkan Tidak Normal'], fontsize=16)\n",
        "ax.set_yticklabels(['Melahirkan Normal', 'Melahirkan Tidak Normal'], fontsize=16, rotation=360)\n",
        "plt.show()"
      ],
      "execution_count": null,
      "outputs": []
    },
    {
      "cell_type": "markdown",
      "metadata": {
        "id": "qz4hz93S3-hQ"
      },
      "source": [
        "> Berdasarkan confusion matrix dapat dilihat seberapa tepatkah model ini mengklasifikasikan data. 11 data melahirkan normal diklasifikasikan dengan benar dan 1 nya salah serta 3 data melahirkan tidak normal diklasifikasikan dengan benar dan 1 data diklasifikasikan salah. "
      ]
    },
    {
      "cell_type": "markdown",
      "metadata": {
        "id": "aq7f5xZHOKse"
      },
      "source": [
        "### ROC Curve"
      ]
    },
    {
      "cell_type": "code",
      "metadata": {
        "id": "HRgxZY6kIdqj"
      },
      "source": [
        "from sklearn import metrics\n",
        "\n",
        "y_pred_svm_proba = svm.predict_proba(X_test)\n",
        "y_pred_rfc_proba = rfc.predict_proba(X_test)\n",
        "y_pred_knn_proba = knn.predict_proba(X_test)\n",
        "y_pred_dec_tree_proba = dec_tree.predict_proba(X_test)\n",
        "y_pred_gau_nb_proba = gau_nb.predict_proba(X_test)\n",
        "y_pred_log_reg_proba = log_reg.predict_proba(X_test)\n",
        "y_pred_grad_bos_proba = grad_bos.predict_proba(X_test)\n",
        "\n",
        "y_preds_svm = y_pred_svm_proba[:,1]\n",
        "y_preds_rfc = y_pred_rfc_proba[:,1]\n",
        "y_preds_knn = y_pred_knn_proba[:,1]\n",
        "y_preds_dectree = y_pred_dec_tree_proba[:,1]\n",
        "y_preds_gaunb = y_pred_gau_nb_proba[:,1]\n",
        "y_preds_logreg = y_pred_log_reg_proba[:,1]\n",
        "y_preds_gradbos = y_pred_grad_bos_proba[:,1]\n",
        "\n",
        "fpr_svm, tpr_svm, threshold_svm = metrics.roc_curve(y_test, y_preds_svm)\n",
        "roc_auc_svm = metrics.auc(fpr_svm, tpr_svm)\n",
        "fpr_rfc, tpr_rfc, threshold = metrics.roc_curve(y_test, y_preds_rfc)\n",
        "roc_auc_rfc = metrics.auc(fpr_rfc, tpr_rfc)\n",
        "fpr_knn, tpr_knn, threshold = metrics.roc_curve(y_test, y_preds_knn)\n",
        "roc_auc_knn = metrics.auc(fpr_knn, tpr_knn)\n",
        "fpr_dectree, tpr_dectree, threshold = metrics.roc_curve(y_test, y_preds_dectree)\n",
        "roc_auc_dectree = metrics.auc(fpr_dectree, tpr_dectree)\n",
        "fpr_gaunb, tpr_gaunb, threshold = metrics.roc_curve(y_test, y_preds_gaunb)\n",
        "roc_auc_gaunb = metrics.auc(fpr_gaunb, tpr_gaunb)\n",
        "fpr_logreg, tpr_logreg, threshold = metrics.roc_curve(y_test, y_preds_logreg)\n",
        "roc_auc_logreg = metrics.auc(fpr_logreg, tpr_logreg)\n",
        "fpr_gradbos, tpr_gradbos, threshold = metrics.roc_curve(y_test, y_preds_gradbos)\n",
        "roc_auc_grabos = metrics.auc(fpr_gradbos, tpr_gradbos)\n",
        "\n",
        "plt.title('Receiver Operating Characteristic')\n",
        "plt.plot(fpr_svm, tpr_svm, label = 'AUC SVM = %0.2f' % roc_auc_svm)\n",
        "plt.plot(fpr_rfc, tpr_rfc, label = 'AUC RFC = %0.2f' % roc_auc_rfc)\n",
        "plt.plot(fpr_knn, tpr_knn, label = 'AUC KNN = %0.2f' % roc_auc_knn)\n",
        "plt.plot(fpr_dectree, tpr_dectree, label = 'AUC DecTree = %0.2f' % roc_auc_dectree)\n",
        "plt.plot(fpr_gaunb, tpr_gaunb, label = 'AUC GausNB = %0.2f' % roc_auc_gaunb)\n",
        "plt.plot(fpr_logreg, tpr_logreg, label = 'AUC LogReg = %0.2f' % roc_auc_logreg)\n",
        "plt.plot(fpr_gradbos, tpr_gradbos, label = 'AUC GradBos = %0.2f' % roc_auc_grabos)\n",
        "\n",
        "plt.legend(loc = 'lower right')\n",
        "plt.plot([0, 1], [0, 1],'r--')\n",
        "plt.xlim([-0.01, 1])\n",
        "plt.ylim([0, 1.01])\n",
        "plt.ylabel('True Positive Rate')\n",
        "plt.xlabel('False Positive Rate')\n",
        "plt.show()"
      ],
      "execution_count": null,
      "outputs": []
    },
    {
      "cell_type": "markdown",
      "metadata": {
        "id": "XUmvepzh4ZGt"
      },
      "source": [
        ">Kurva ROC adalah cara lain selain confusion matrix untuk mengukur performansi suatu model. Pada kurva ROC dapat dilihat jika logistic regression memiliki nilai TPR lebih tinggi dibandingkan dengan model lainnya sehingga nilai AUC nya juga tinggi yaitu 96%. "
      ]
    },
    {
      "cell_type": "markdown",
      "metadata": {
        "id": "wfp3NYlhOILq"
      },
      "source": [
        "### Log Loss"
      ]
    },
    {
      "cell_type": "code",
      "metadata": {
        "id": "0p4HM-yBLGAl"
      },
      "source": [
        "from sklearn.metrics import log_loss\n",
        "log_loss(y_test, y_pred_log_reg_proba)"
      ],
      "execution_count": null,
      "outputs": []
    },
    {
      "cell_type": "markdown",
      "metadata": {
        "id": "yayj9XWdthPS"
      },
      "source": [
        "# MODELING CV 2"
      ]
    },
    {
      "cell_type": "code",
      "metadata": {
        "id": "6YzRNhJatjfN"
      },
      "source": [
        "Xb = np.asarray(df[['ID', 'Usia', 'Melahirkan ke-', 'Tekanan Darah', 'Gangguan Jantung']])\n",
        "Xb[0:5]"
      ],
      "execution_count": null,
      "outputs": []
    },
    {
      "cell_type": "code",
      "metadata": {
        "id": "awJDQYFcuGe7"
      },
      "source": [
        "yb = np.asarray(df['Melahirkan Normal'])\n",
        "yb [0:5]"
      ],
      "execution_count": null,
      "outputs": []
    },
    {
      "cell_type": "code",
      "metadata": {
        "id": "2bdd-5nOuP3B"
      },
      "source": [
        "from sklearn import preprocessing\n",
        "Xb = preprocessing.StandardScaler().fit(Xb).transform(Xb)\n",
        "Xb[0:5]"
      ],
      "execution_count": null,
      "outputs": []
    },
    {
      "cell_type": "code",
      "metadata": {
        "id": "MBbAGc4SuWdz"
      },
      "source": [
        "from sklearn.model_selection import train_test_split\n",
        "from sklearn.linear_model import LogisticRegression\n",
        "\n",
        "Xb_train, Xb_test, yb_train, yb_test = train_test_split( Xb, yb, test_size=0.2, random_state=15)\n",
        "print ('Train set:', Xb_train.shape,  yb_train.shape)\n",
        "print ('Test set:', Xb_test.shape,  yb_test.shape)"
      ],
      "execution_count": null,
      "outputs": []
    },
    {
      "cell_type": "code",
      "metadata": {
        "id": "-VKVa8lBuhnE"
      },
      "source": [
        "from sklearn.ensemble import RandomForestClassifier\n",
        "from sklearn.model_selection import RandomizedSearchCV\n",
        "\n",
        "n_estimators = [int(xb) for xb in np.linspace(start=200, stop=2000, num=10)]\n",
        "max_features = ['auto', 'sqrt']\n",
        "max_depth = [int(xb) for xb in np.linspace(10, 110, num=11)]\n",
        "max_depth.append(None)\n",
        "min_samples_split = [2, 5, 10]\n",
        "min_samples_leaf = [1, 2, 4]\n",
        "bootstrap = [True, False]\n",
        "\n",
        "random_grid = {'n_estimators': n_estimators, 'max_features': max_features,\n",
        "               'max_depth': max_depth, 'min_samples_split': min_samples_split,\n",
        "               'min_samples_leaf': min_samples_leaf, 'bootstrap': bootstrap}\n",
        "\n",
        "rf_clf = RandomForestClassifier(random_state=42)\n",
        "\n",
        "rf_cv = RandomizedSearchCV(estimator=rf_clf, scoring='f1',param_distributions=random_grid, n_iter=10, cv=2, \n",
        "                               verbose=2, random_state=42, n_jobs=-1)\n",
        "\n",
        "rf_cv.fit(Xb_train, yb_train)\n",
        "rf_best_params = rf_cv.best_params_\n",
        "print(f\"Best paramters: {rf_best_params})\")\n",
        "\n",
        "rf_clf = RandomForestClassifier(**rf_best_params)\n",
        "rf_clf.fit(Xb_train, yb_train)"
      ],
      "execution_count": null,
      "outputs": []
    },
    {
      "cell_type": "code",
      "metadata": {
        "id": "VBzW-gmDuwJL"
      },
      "source": [
        "from sklearn.metrics import accuracy_score, confusion_matrix, classification_report\n",
        "\n",
        "def print_score(clf, Xb_train, yb_train, Xb_test, yb_test, train=True):\n",
        "    if train:\n",
        "        pred = clf.predict(Xb_train)\n",
        "        clf_report = pd.DataFrame(classification_report(yb_train, pred, output_dict=True))\n",
        "        print(\"Train Result:\\n================================================\")\n",
        "        print(f\"Accuracy Score: {accuracy_score(yb_train, pred) * 100:.2f}%\")\n",
        "        print(\"_______________________________________________\")\n",
        "        print(f\"CLASSIFICATION REPORT:\\n{clf_report}\")\n",
        "        print(\"_______________________________________________\")\n",
        "        print(f\"Confusion Matrix: \\n {confusion_matrix(yb_train, pred)}\\n\")\n",
        "        \n",
        "    elif train==False:\n",
        "        pred = clf.predict(Xb_test)\n",
        "        clf_report = pd.DataFrame(classification_report(yb_test, pred, output_dict=True))\n",
        "        print(\"Test Result:\\n================================================\")        \n",
        "        print(f\"Accuracy Score: {accuracy_score(yb_test, pred) * 100:.2f}%\")\n",
        "        print(\"_______________________________________________\")\n",
        "        print(f\"CLASSIFICATION REPORT:\\n{clf_report}\")\n",
        "        print(\"_______________________________________________\")\n",
        "        print(f\"Confusion Matrix: \\n {confusion_matrix(yb_test, pred)}\\n\")\n",
        "    return pred\n",
        "\n",
        "pred1 = print_score(rf_clf, Xb_train, yb_train, Xb_test, yb_test, train=True)\n",
        "\n",
        "pred2 = print_score(rf_clf, Xb_train, yb_train, Xb_test, yb_test, train=False)\n"
      ],
      "execution_count": null,
      "outputs": []
    },
    {
      "cell_type": "markdown",
      "metadata": {
        "id": "fUqzJU-5WBmQ"
      },
      "source": [
        "## Evaluation"
      ]
    },
    {
      "cell_type": "code",
      "metadata": {
        "id": "8Ga3S7LYPNzq"
      },
      "source": [
        "conf_matrix = confusion_matrix(yb_test, pred2)\r\n",
        "f, ax = plt.subplots(figsize=(10, 6))\r\n",
        "sns.heatmap(conf_matrix, annot=True, fmt=\"d\", linewidths=.5, ax=ax)\r\n",
        "plt.title(\"Confusion Matrix Logistic Regression\", fontsize=20)\r\n",
        "plt.subplots_adjust(left=0.15, right=0.99, bottom=0.15, top=0.99)\r\n",
        "ax.set_yticks(np.arange(conf_matrix.shape[0]) + 0.5, minor=False)\r\n",
        "ax.set_xticklabels(['Melahirkan Normal', 'Melahirkan Tidak Normal'], fontsize=16)\r\n",
        "ax.set_yticklabels(['Melahirkan Normal', 'Melahirkan Tidak Normal'], fontsize=16, rotation=360)\r\n",
        "plt.show()"
      ],
      "execution_count": null,
      "outputs": []
    },
    {
      "cell_type": "code",
      "metadata": {
        "id": "59M93C-2SkFq"
      },
      "source": [
        "# ROC Curve\r\n",
        "\r\n",
        "fprLR, tprLR, _ = metrics.roc_curve(yb_test,  pred2)\r\n",
        "auclr = metrics.roc_auc_score(yb_test, pred2)\r\n",
        "plt.plot(fprLR,tprLR,label=\"Logistic Regression, auc=\"+str(auclr), color=\"orange\")\r\n",
        "plt.title('ROC Curve - Logistic Regression')\r\n",
        "plt.xlabel('false positive rate') \r\n",
        "plt.ylabel('true positive rate')\r\n",
        "plt.legend(loc=4)\r\n",
        "\r\n",
        "plt.show()"
      ],
      "execution_count": null,
      "outputs": []
    },
    {
      "cell_type": "markdown",
      "metadata": {
        "id": "frTep4rQ6QeV"
      },
      "source": [
        "# Modeling tanpa CV"
      ]
    },
    {
      "cell_type": "markdown",
      "metadata": {
        "id": "RVmpZc3cbjNF"
      },
      "source": [
        "Mendefinisikan X dan Y"
      ]
    },
    {
      "cell_type": "code",
      "metadata": {
        "id": "ZJ7wSCNTVpX_"
      },
      "source": [
        "Xc = np.asarray(df[['ID', 'Usia', 'Melahirkan ke-', 'Tekanan Darah', 'Gangguan Jantung']])\n",
        "Xc[0:5]"
      ],
      "execution_count": null,
      "outputs": []
    },
    {
      "cell_type": "code",
      "metadata": {
        "id": "zI2PD9bmW5bE"
      },
      "source": [
        "yc = np.asarray(df['Melahirkan Normal'])\n",
        "yc [0:5]"
      ],
      "execution_count": null,
      "outputs": []
    },
    {
      "cell_type": "code",
      "metadata": {
        "id": "pW5B5WOKXIu0"
      },
      "source": [
        "from sklearn import preprocessing\n",
        "Xc = preprocessing.StandardScaler().fit(X).transform(X)\n",
        "Xc[0:5]"
      ],
      "execution_count": null,
      "outputs": []
    },
    {
      "cell_type": "code",
      "metadata": {
        "id": "9btXfkcZ7vnp"
      },
      "source": [
        "Xc_train, Xc_test, yc_train, yc_test = train_test_split( Xc, yc, test_size=0.2, random_state=15)\n",
        "print ('Train set:', Xc_train.shape,  yc_train.shape)\n",
        "print ('Test set:', Xc_test.shape,  yc_test.shape)"
      ],
      "execution_count": null,
      "outputs": []
    },
    {
      "cell_type": "code",
      "metadata": {
        "id": "T2NZ2Z-YXPCE"
      },
      "source": [
        "from sklearn.linear_model import LogisticRegression\n",
        "from sklearn.metrics import confusion_matrix\n",
        "LR = LogisticRegression(C=0.01, solver='liblinear').fit(Xc_train,yc_train)\n",
        "LR"
      ],
      "execution_count": null,
      "outputs": []
    },
    {
      "cell_type": "code",
      "metadata": {
        "id": "xu0Pn8HOXR_i"
      },
      "source": [
        "ychat = LR.predict(Xc_test)\n",
        "ychat"
      ],
      "execution_count": null,
      "outputs": []
    },
    {
      "cell_type": "code",
      "metadata": {
        "id": "mHcxkn8HXVBw"
      },
      "source": [
        "ychat_prob = LR.predict_proba(Xc_test)\n",
        "ychat_prob"
      ],
      "execution_count": null,
      "outputs": []
    },
    {
      "cell_type": "markdown",
      "metadata": {
        "id": "aqySkDcwb_E0"
      },
      "source": [
        "Evaluation"
      ]
    },
    {
      "cell_type": "code",
      "metadata": {
        "id": "6KaXZpmJXXsH"
      },
      "source": [
        "from sklearn.metrics import jaccard_score\n",
        "jaccard_score(yc_test, ychat)"
      ],
      "execution_count": null,
      "outputs": []
    },
    {
      "cell_type": "code",
      "metadata": {
        "id": "GzlJaVUkXat3"
      },
      "source": [
        "from sklearn import metrics\n",
        "acc_LR = metrics.accuracy_score(yc_test, ychat)\n",
        "prec_LR = metrics.precision_score(yc_test, ychat)\n",
        "rec_LR = metrics.recall_score(yc_test, ychat)\n",
        "f1_LR = metrics.f1_score(yc_test, ychat)\n",
        "kappa_LR = metrics.cohen_kappa_score(yc_test, ychat)\n",
        "print(\"Accuracy:\", acc_LR)\n",
        "print(\"Precision:\", prec_LR)\n",
        "print(\"Recall:\", rec_LR)\n",
        "print(\"F1 Score:\", f1_LR)\n",
        "print(\"Cohens Kappa Score:\", kappa_LR)"
      ],
      "execution_count": null,
      "outputs": []
    },
    {
      "cell_type": "code",
      "metadata": {
        "id": "-cL9BZSXXexp"
      },
      "source": [
        "from sklearn.metrics import classification_report, confusion_matrix\n",
        "import itertools\n",
        "def plot_confusion_matrix(cm, classes,\n",
        "                          normalize=False,\n",
        "                          title='Confusion matrix',\n",
        "                          cmap=plt.cm.Blues):\n",
        "    \"\"\"\n",
        "    This function prints and plots the confusion matrix.\n",
        "    Normalization can be applied by setting `normalize=True`.\n",
        "    \"\"\"\n",
        "    if normalize:\n",
        "        cm = cm.astype('float') / cm.sum(axis=1)[:, np.newaxis]\n",
        "        print(\"Normalized confusion matrix\")\n",
        "    else:\n",
        "        print('Confusion matrix, without normalization')\n",
        "\n",
        "    print(cm)\n",
        "\n",
        "    plt.imshow(cm, interpolation='nearest', cmap=cmap)\n",
        "    plt.title(title)\n",
        "    plt.colorbar()\n",
        "    tick_marks = np.arange(len(classes))\n",
        "    plt.xticks(tick_marks, classes, rotation=45)\n",
        "    plt.yticks(tick_marks, classes)\n",
        "\n",
        "    fmt = '.2f' if normalize else 'd'\n",
        "    thresh = cm.max() / 2.\n",
        "    for i, j in itertools.product(range(cm.shape[0]), range(cm.shape[1])):\n",
        "        plt.text(j, i, format(cm[i, j], fmt),\n",
        "                 horizontalalignment=\"center\",\n",
        "                 color=\"white\" if cm[i, j] > thresh else \"black\")\n",
        "\n",
        "    plt.tight_layout()\n",
        "    plt.ylabel('True label')\n",
        "    plt.xlabel('Predicted label')\n",
        "print(confusion_matrix(yc_test, ychat, labels=[1,0]))"
      ],
      "execution_count": null,
      "outputs": []
    },
    {
      "cell_type": "markdown",
      "metadata": {
        "id": "x0LVL8OXcBvB"
      },
      "source": [
        "Confusion Matrix"
      ]
    },
    {
      "cell_type": "code",
      "metadata": {
        "id": "cp_jwjRUPxiV"
      },
      "source": [
        "conf_matrix = confusion_matrix(yc_test, ychat)\r\n",
        "f, ax = plt.subplots(figsize=(10, 6))\r\n",
        "sns.heatmap(conf_matrix, annot=True, fmt=\"d\", linewidths=.5, ax=ax)\r\n",
        "plt.title(\"Confusion Matrix Logistic Regression Tanpa CV\", fontsize=20)\r\n",
        "plt.subplots_adjust(left=0.15, right=0.99, bottom=0.15, top=0.99)\r\n",
        "ax.set_yticks(np.arange(conf_matrix.shape[0]) + 0.5, minor=False)\r\n",
        "ax.set_xticklabels(['Melahirkan Normal', 'Melahirkan Tidak Normal'], fontsize=16)\r\n",
        "ax.set_yticklabels(['Melahirkan Normal', 'Melahirkan Tidak Normal'], fontsize=16, rotation=360)\r\n",
        "plt.show()"
      ],
      "execution_count": null,
      "outputs": []
    },
    {
      "cell_type": "code",
      "metadata": {
        "id": "T0JhuT3KX15O"
      },
      "source": [
        "print (classification_report(yc_test, ychat))"
      ],
      "execution_count": null,
      "outputs": []
    },
    {
      "cell_type": "markdown",
      "metadata": {
        "id": "at7RyZJpcFhT"
      },
      "source": [
        "Log loss"
      ]
    },
    {
      "cell_type": "code",
      "metadata": {
        "id": "gCGlQnVUX6d4"
      },
      "source": [
        "from sklearn.metrics import log_loss\n",
        "log_loss(yc_test, ychat_prob)"
      ],
      "execution_count": null,
      "outputs": []
    },
    {
      "cell_type": "code",
      "metadata": {
        "id": "rcePFZDoX7XF"
      },
      "source": [
        "# ROC Curve\n",
        "ychat_prob = LR.predict_proba(Xc_test) [::,1]\n",
        "fprLR, tprLR, _ = metrics.roc_curve(yc_test,  ychat_prob)\n",
        "auclr = metrics.roc_auc_score(yc_test, ychat_prob)\n",
        "plt.plot(fprLR,tprLR,label=\"Logistic Regression, auc=\"+str(auclr), color=\"orange\")\n",
        "plt.title('ROC Curve - Logistic Regression')\n",
        "plt.xlabel('false positive rate') \n",
        "plt.ylabel('true positive rate')\n",
        "plt.legend(loc=4)\n",
        "\n",
        "plt.show()"
      ],
      "execution_count": null,
      "outputs": []
    },
    {
      "cell_type": "markdown",
      "metadata": {
        "id": "lKNAu3BUVxUx"
      },
      "source": [
        "\r\n",
        "\r\n",
        "---\r\n",
        "\r\n",
        "\r\n",
        "\r\n"
      ]
    }
  ]
}